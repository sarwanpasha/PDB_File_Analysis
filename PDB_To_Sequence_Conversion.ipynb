{
 "cells": [
  {
   "cell_type": "code",
   "execution_count": 19,
   "id": "1bd6ae68",
   "metadata": {},
   "outputs": [],
   "source": [
    "from Bio.PDB import PDBParser\n",
    "import os\n",
    "import numpy as np"
   ]
  },
  {
   "cell_type": "code",
   "execution_count": 6,
   "id": "fd321614",
   "metadata": {},
   "outputs": [
    {
     "name": "stdout",
     "output_type": "stream",
     "text": [
      "108\n"
     ]
    }
   ],
   "source": [
    "pdbs_path = \"E:/RA/BC_Project/Data/PDB_File_Breaking/Single_Model_Combines_Chains/\"\n",
    "# pdbs_path = \"E:/RA/PDB2Vec/Dataset/PDBbind_v2020_other_PL/PDB_Files/\"\n",
    "aa = os.listdir(pdbs_path)\n",
    "data_file_names = []\n",
    "for i in range(len(aa)):\n",
    "    data_file_names.append(aa[i].replace(\".pdb\",\"\"))\n",
    "\n",
    "print(len(data_file_names))"
   ]
  },
  {
   "cell_type": "code",
   "execution_count": 8,
   "id": "53ccebdb",
   "metadata": {},
   "outputs": [],
   "source": [
    "# data_file_names"
   ]
  },
  {
   "cell_type": "code",
   "execution_count": 9,
   "id": "1926f7a0",
   "metadata": {},
   "outputs": [
    {
     "data": {
      "text/plain": [
       "''"
      ]
     },
     "execution_count": 9,
     "metadata": {},
     "output_type": "execute_result"
    }
   ],
   "source": [
    "\n",
    "def PDB_TO_Sequence(structure):\n",
    "    # 2: Use the coordinates of the alpha-carbon atom in each amino acid residue to define the protein backbone.\n",
    "    backbone_atoms = []\n",
    "    residue_vals = []\n",
    "    for model in structure:\n",
    "        for chain in model:\n",
    "            for residue in chain:\n",
    "                for atom in residue:\n",
    "    #                 we are only using atom.name=\"CA\" because the alpha-carbon (Cα) atom is considered to be a \n",
    "    #                 representative atom for each amino acid residue in a protein structure, and it is commonly \n",
    "    #                 used to define the protein backbone. The \"CA\" in atom.name=\"CA\" specifies that we are only \n",
    "    #                 interested in the Cα atoms. This is why we are using if atom.name == \"CA\" to filter out only \n",
    "    #                 the Cα atoms\n",
    "                    if atom.name == \"CA\":\n",
    "                        backbone_atoms.append(atom)\n",
    "                        residue_vals.append(residue.get_resname())\n",
    "\n",
    "    # 3: Map the amino acid residues to the one-letter code\n",
    "    amino_acids = []\n",
    "    one_letter_codes = {\"ALA\": \"A\", \"VAL\": \"V\", \"LEU\": \"L\", \"ILE\": \"I\", \"PRO\": \"P\", \"TRP\": \"W\", \"PHE\": \"F\",\n",
    "                        \"MET\": \"M\", \"GLY\": \"G\", \"SER\": \"S\", \"THR\": \"T\", \"TYR\": \"Y\", \"CYS\": \"C\", \"ASN\": \"N\",\n",
    "                        \"GLN\": \"Q\", \"HIS\": \"H\", \"LYS\": \"K\", \"ARG\": \"R\", \"ASP\": \"D\", \"GLU\": \"E\"}\n",
    "    for residue_1 in residue_vals:\n",
    "        amino_acid = residue_1\n",
    "        AA = one_letter_codes[amino_acid]\n",
    "    #     print(AA)\n",
    "        amino_acids.append(AA)\n",
    "\n",
    "    # print(\"Amino acid sequence:\", \"\".join(amino_acid_sequence))\n",
    "    # Convert the list of amino acids to a string\n",
    "    protein_sequence = \"\".join(amino_acids)\n",
    "    \n",
    "    return protein_sequence\n",
    "\n",
    "# 1: Parse the PDB file to extract the amino acid sequences.\n",
    "pdb_parser = PDBParser(PERMISSIVE=1)\n",
    "# data_path = \"E:/RA/PDB2Vec/Dataset/PDBbind_v2020_other_PL/\"\n",
    "data_path = pdbs_path[:]\n",
    "\n",
    "\n",
    "# pdb_file_name = \"1ac6\"\n",
    "pdb_file_name = data_file_names[0]\n",
    "\n",
    "structure = pdb_parser.get_structure(\"example\", data_path + pdb_file_name + \".pdb\")\n",
    "\n",
    "PDB_TO_Sequence(structure)"
   ]
  },
  {
   "cell_type": "code",
   "execution_count": 29,
   "id": "d585d57d",
   "metadata": {},
   "outputs": [],
   "source": [
    "# protein_sequence"
   ]
  },
  {
   "cell_type": "code",
   "execution_count": 11,
   "id": "056b6388",
   "metadata": {},
   "outputs": [
    {
     "data": {
      "text/plain": [
       "'E:/RA/BC_Project/Data/PDB_File_Breaking/Single_Model_Combines_Chains/1exd_aptamer_Model_1'"
      ]
     },
     "execution_count": 11,
     "metadata": {},
     "output_type": "execute_result"
    }
   ],
   "source": [
    "data_path + pdb_file_name"
   ]
  },
  {
   "cell_type": "markdown",
   "id": "eaec9c3a",
   "metadata": {},
   "source": [
    "# Aptamer PDB To Sequence"
   ]
  },
  {
   "cell_type": "code",
   "execution_count": 23,
   "id": "78cbf77d",
   "metadata": {},
   "outputs": [],
   "source": [
    "from Bio import PDB\n",
    "\n",
    "# Create a PDB parser\n",
    "parser = PDB.PDBParser(QUIET=True)\n",
    "\n",
    "all_seq = []\n",
    "apta_names = []\n",
    "for i in range(len(data_file_names)):\n",
    "    # Parse the PDB file\n",
    "    if \"aptamer\" in data_file_names[i]:\n",
    "        structure = parser.get_structure('aptamer', pdbs_path + data_file_names[i] + \".pdb\")\n",
    "\n",
    "        # Initialize an empty sequence string\n",
    "        sequence = ''\n",
    "\n",
    "        # Iterate through atoms\n",
    "        for model in structure:\n",
    "            for chain in model:\n",
    "                for residue in chain:\n",
    "                    # Check if the residue is a nucleotide (e.g., G, A, T, C, U)\n",
    "                    if residue.get_resname().strip() in ['G', 'A', 'T', 'C', 'U']:\n",
    "                        sequence += residue.get_resname()\n",
    "\n",
    "        all_seq.append(sequence.replace(\" \",\"\"))\n",
    "        apta_names.append(data_file_names[i])\n",
    "#     # Print the extracted sequence\n",
    "#     print(sequence.replace(\" \",\"\"))\n"
   ]
  },
  {
   "cell_type": "code",
   "execution_count": 26,
   "id": "c5c53819",
   "metadata": {},
   "outputs": [
    {
     "data": {
      "text/plain": [
       "('UCCGUGAUAGUUAAGGCAGAAUGGGCGCUGUCCGUGCCAGAUGGGGCAAUUCCCCGUCGCGGAGCCACCGUGAUAGUUAAGGCAGAAUGGGCGCUGUCCGUGCCAGAUGGGGCAAUUCCCCGUCGCGGA',\n",
       " '1il2_aptamer_Model_1')"
      ]
     },
     "execution_count": 26,
     "metadata": {},
     "output_type": "execute_result"
    }
   ],
   "source": [
    "(all_seq[1]),apta_names[1]"
   ]
  },
  {
   "cell_type": "code",
   "execution_count": 27,
   "id": "6d3a4ad0",
   "metadata": {
    "scrolled": true
   },
   "outputs": [
    {
     "data": {
      "text/plain": [
       "['1exd_aptamer_Model_1',\n",
       " '1il2_aptamer_Model_1',\n",
       " '1jbr_aptamer_Model_1',\n",
       " '1je8_aptamer_Model_1',\n",
       " '1knz_aptamer_Model_1',\n",
       " '1omh_aptamer_Model_1',\n",
       " '1osb_aptamer_Model_1',\n",
       " '1rkj_aptamer_Model_1',\n",
       " '1rpu_aptamer_Model_1',\n",
       " '1s03_aptamer_Model_1',\n",
       " '1s40_aptamer_Model_1',\n",
       " '1u63_aptamer_Model_1',\n",
       " '1u6p_aptamer_Model_1',\n",
       " '1wwd_aptamer_Model_1',\n",
       " '1wwe_aptamer_Model_1',\n",
       " '1wwf_aptamer_Model_1',\n",
       " '1wwg_aptamer_Model_1',\n",
       " '1zzi_aptamer_Model_1',\n",
       " '2b6g_aptamer_Model_1',\n",
       " '2ccz_aptamer_Model_1',\n",
       " '2err_aptamer_Model_1',\n",
       " '2kx5_aptamer_Model_1',\n",
       " '2la5_aptamer_Model_1',\n",
       " '2leb_aptamer_Model_1',\n",
       " '2lec_aptamer_Model_1',\n",
       " '2mki_aptamer_Model_1',\n",
       " '2mkk_aptamer_Model_1',\n",
       " '3moj_aptamer_Model_1',\n",
       " '3rn2_aptamer_Model_1',\n",
       " '3v7e_aptamer_Model_1',\n",
       " '4hid_aptamer_Model_1',\n",
       " '4hik_aptamer_Model_1',\n",
       " '4him_aptamer_Model_1',\n",
       " '4hio_aptamer_Model_1',\n",
       " '4hj5_aptamer_Model_1',\n",
       " '4hj7_aptamer_Model_1',\n",
       " '4hj8_aptamer_Model_1',\n",
       " '4kze_aptamer_Model_1',\n",
       " '4mdx_aptamer_Model_1',\n",
       " '4pdb_aptamer_Model_1',\n",
       " '4s0n_aptamer_Model_1',\n",
       " '5wwe_aptamer_Model_1',\n",
       " '5wwf_aptamer_Model_1',\n",
       " '5wwg_aptamer_Model_1',\n",
       " '5wzg_aptamer_Model_1',\n",
       " '5wzh_aptamer_Model_1',\n",
       " '5wzj_aptamer_Model_1',\n",
       " '5wzk_aptamer_Model_1',\n",
       " '5yts_aptamer_Model_1',\n",
       " '5ytt_aptamer_Model_1',\n",
       " '5ytv_aptamer_Model_1',\n",
       " '5ytx_aptamer_Model_1',\n",
       " '6eo6_aptamer_Model_1',\n",
       " '6eo7_aptamer_Model_1']"
      ]
     },
     "execution_count": 27,
     "metadata": {},
     "output_type": "execute_result"
    }
   ],
   "source": [
    "apta_names"
   ]
  },
  {
   "cell_type": "code",
   "execution_count": 28,
   "id": "0ae76c0d",
   "metadata": {},
   "outputs": [
    {
     "data": {
      "text/plain": [
       "['GGGGUAUCGCCAAGCGGUAAGGCACCGGAUUCUGAUUCCGGAGGUCGAGGUUCGAAUCCUCGUACCCCAGCCA',\n",
       " 'UCCGUGAUAGUUAAGGCAGAAUGGGCGCUGUCCGUGCCAGAUGGGGCAAUUCCCCGUCGCGGAGCCACCGUGAUAGUUAAGGCAGAAUGGGCGCUGUCCGUGCCAGAUGGGGCAAUUCCCCGUCGCGGA',\n",
       " 'GCGCUCCUCAGUACGAGGGAACCGGAGCGCGCGCUCCUCAGUACGAGAGGAACCGGAGCGC',\n",
       " '',\n",
       " 'UGACCUGACCUGACCUGACC',\n",
       " '',\n",
       " '',\n",
       " 'GGAUGCCUCCCGAGUGCAUCC',\n",
       " 'CGUACGCGUCACGCGUACGUUCGUACGCGUCACGCGUACGUU',\n",
       " 'GGACGAUGGCGAAACUGCAUGAGGCAAUUCAUGCAAGUCCCUCGUCCGGACGAUGGCGAAACUGCAUGAGGCAAUUCAUGCAAGUCCCUCGUCC',\n",
       " '',\n",
       " 'GGGAGUGAAGGAGGCUCGCGAACUCGCGAAGCCGAGAAACUUCACUCCCGGGAGUGAAGGAGGCUCGCGAACUCGCGAAGCCGAGAAACUUCACUCCC',\n",
       " 'GGCGGUCUAGUUGAGAAACUAGCUCUGUAUCUGGCGGACCCGUGGUGGAACUGUGAAGUUCGGAACACCCGGCCGCAACCCUGGGAGAGGUCCCAGGGUU',\n",
       " 'AACAGU',\n",
       " 'UUUUGCU',\n",
       " 'CCUCCGU',\n",
       " 'UAUCUG',\n",
       " '',\n",
       " 'GGAGGCUCUGGCAGCUUUC',\n",
       " '',\n",
       " 'UGCAUGU',\n",
       " 'GGCAGAUCUGAGCCUGGGAGCUCUCUGCC',\n",
       " 'GCUGCGGUGUGGAAGGAGUGGCUGGGUUGCGCAGCG',\n",
       " 'UCCAGU',\n",
       " 'UGGAGU',\n",
       " 'CUUUA',\n",
       " 'UUUUA',\n",
       " 'GGCUCAUCACAUCCUGGGGCUGGAAACGGUCCCAAGGGUAUGGCUGUUCGCCAUUUAAAGUGGUAGCUA',\n",
       " '',\n",
       " 'GGCUUAUCAAGAGAGGUGGAGGGACUGGCCCGAUGAAACCCGGCAACCACUAGUCUAGCGUCAGCUUCGGCUGACGCUAGGCUAGUGGUGCCAAUUCCUGCAGCGGAAACGUUGAAAGAUGAGCCAGGCUUAUCAAGAGAGGUGGAGGGACUGGCCCGAUGAAACCCGGCAACCACUAGUCUAGCGUCAGCUUCGGCUGACGCUAGGCUAGUGGUGCCAAUUCCUGCAGCGGAAACGUUGAAAGAUGAGCCA',\n",
       " '',\n",
       " '',\n",
       " '',\n",
       " '',\n",
       " '',\n",
       " '',\n",
       " '',\n",
       " 'GACGCGACCGAAAUGGUGAAGGACGGGUCCAGUGCGAAACACGCACUGUUGAGUAGAGUGUGAGCUCCGUAACUGGUCGCGUC',\n",
       " 'UUACAUAA',\n",
       " 'GGGAUGCUCAGUGAUCCUUCGGGAUAUCAGGGCAUCCC',\n",
       " '',\n",
       " 'AGGGACUAGC',\n",
       " 'AAGGACGAGCAAGGACGAGC',\n",
       " 'AAGGACUU',\n",
       " 'GAAUUGACGG',\n",
       " 'GGAAUUGACGG',\n",
       " 'GGAUUUGACGG',\n",
       " 'GGAAUUGACGG',\n",
       " 'CUUC',\n",
       " 'UCAUGU',\n",
       " 'CAUC',\n",
       " 'CAAC',\n",
       " '',\n",
       " '']"
      ]
     },
     "execution_count": 28,
     "metadata": {},
     "output_type": "execute_result"
    }
   ],
   "source": [
    "all_seq"
   ]
  }
 ],
 "metadata": {
  "kernelspec": {
   "display_name": "Python 3 (ipykernel)",
   "language": "python",
   "name": "python3"
  },
  "language_info": {
   "codemirror_mode": {
    "name": "ipython",
    "version": 3
   },
   "file_extension": ".py",
   "mimetype": "text/x-python",
   "name": "python",
   "nbconvert_exporter": "python",
   "pygments_lexer": "ipython3",
   "version": "3.8.16"
  }
 },
 "nbformat": 4,
 "nbformat_minor": 5
}
