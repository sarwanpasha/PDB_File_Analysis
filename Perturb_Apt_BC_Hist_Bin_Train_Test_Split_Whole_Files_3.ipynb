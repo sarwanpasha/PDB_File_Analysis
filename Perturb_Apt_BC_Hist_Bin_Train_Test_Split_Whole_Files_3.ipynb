{
 "cells": [
  {
   "cell_type": "code",
   "execution_count": 19,
   "id": "55de2744",
   "metadata": {},
   "outputs": [],
   "source": [
    "percentile_threshold = 30 #95, 70, 30, 5\n",
    "num_bins = 60 #40, 60, 80\n",
    "\n",
    "param_val = 4 # 1, 2, 3, 4\n",
    "# title_name = \"\"\n",
    "# value_checker = \"\"\n",
    "# if param_val==1:\n",
    "#     feat_data = L_energy_final_vals[:]\n",
    "#     title_name = \"<\"\n",
    "#     value_checker = \"Energy\"\n",
    "# elif param_val==2:\n",
    "#     feat_data = U_energy_final_vals[:]\n",
    "#     title_name = \">\"\n",
    "#     value_checker = \"Energy\"\n",
    "# elif param_val==3:\n",
    "#     feat_data = L_rmsd_final_vals[:]\n",
    "#     title_name = \"<\"\n",
    "#     value_checker = \"RMSD\"\n",
    "# elif param_val==4:\n",
    "#     feat_data = U_rmsd_final_vals[:]\n",
    "#     title_name = \">\"\n",
    "#     value_checker = \"RMSD\"\n"
   ]
  },
  {
   "cell_type": "code",
   "execution_count": null,
   "id": "52869975",
   "metadata": {},
   "outputs": [],
   "source": []
  },
  {
   "cell_type": "code",
   "execution_count": 20,
   "id": "d478531b",
   "metadata": {},
   "outputs": [
    {
     "name": "stdout",
     "output_type": "stream",
     "text": [
      "done\n"
     ]
    }
   ],
   "source": [
    "import numpy as np # linear algebra\n",
    "import pandas as pd # data processing, CSV file I/O (e.g. pd.read_csv)\n",
    "from sklearn.decomposition import TruncatedSVD\n",
    "import random\n",
    "# import seaborn as sns\n",
    "import os.path as path\n",
    "import os\n",
    "# import matplotlib\n",
    "# import matplotlib.font_manager\n",
    "# import matplotlib.pyplot as plt # graphs plotting\n",
    "# import Bio\n",
    "from Bio import SeqIO # some BioPython that will come in handy\n",
    "#matplotlib inline\n",
    "\n",
    "from itertools import cycle\n",
    "\n",
    "from sklearn import svm, datasets\n",
    "from sklearn.metrics import roc_curve, auc\n",
    "from sklearn.model_selection import train_test_split\n",
    "from sklearn.preprocessing import label_binarize\n",
    "from sklearn.multiclass import OneVsRestClassifier\n",
    "from scipy import interp\n",
    "from sklearn.metrics import roc_auc_score\n",
    "\n",
    "\n",
    "# from matplotlib import rc\n",
    "# # for Arial typefont\n",
    "# matplotlib.rcParams['font.family'] = 'Arial'\n",
    "\n",
    "from sklearn.model_selection import train_test_split\n",
    "from sklearn.linear_model import Lasso, LogisticRegression\n",
    "from sklearn.feature_selection import SelectFromModel\n",
    "from sklearn.preprocessing import StandardScaler\n",
    "\n",
    "from sklearn.datasets import load_iris\n",
    "from sklearn.model_selection import train_test_split\n",
    "from sklearn.naive_bayes import GaussianNB\n",
    "from sklearn import metrics\n",
    "from sklearn import svm\n",
    "\n",
    "from sklearn.datasets import load_iris\n",
    "from sklearn.model_selection import train_test_split\n",
    "from sklearn.naive_bayes import GaussianNB\n",
    "from sklearn import metrics\n",
    "\n",
    "import pandas as pd\n",
    "import sklearn\n",
    "from sklearn import preprocessing\n",
    "from sklearn.model_selection import train_test_split \n",
    "from sklearn.preprocessing import StandardScaler  \n",
    "from sklearn.neural_network import MLPClassifier \n",
    "from sklearn.metrics import classification_report, confusion_matrix \n",
    "\n",
    "from sklearn.neighbors import KNeighborsClassifier\n",
    "\n",
    "from sklearn.linear_model import LogisticRegression\n",
    "from sklearn.metrics import classification_report, confusion_matrix\n",
    "\n",
    "from pandas import DataFrame\n",
    "\n",
    "from sklearn.model_selection import KFold \n",
    "from sklearn.model_selection import RepeatedKFold\n",
    "\n",
    "from sklearn.metrics import confusion_matrix\n",
    "\n",
    "from numpy import mean\n",
    "\n",
    "import seaborn as sns\n",
    "\n",
    "import itertools\n",
    "from itertools import product\n",
    "\n",
    "import csv\n",
    "\n",
    "from sklearn.model_selection import ShuffleSplit # or StratifiedShuffleSplit\n",
    "\n",
    "from sklearn.decomposition import KernelPCA\n",
    "\n",
    "import timeit\n",
    "# from fnvhash import fnv1a_32\n",
    "\n",
    "\n",
    "import numpy as np # linear algebra\n",
    "import pandas as pd # data processing, CSV file I/O (e.g. pd.read_csv)\n",
    "import glob, os\n",
    "import warnings\n",
    "import matplotlib.pyplot as plt\n",
    "from sklearn.model_selection import train_test_split\n",
    "from sklearn.linear_model import LinearRegression\n",
    "from sklearn.linear_model import LogisticRegression\n",
    "\n",
    "import pandas as pd\n",
    "import numpy as np\n",
    "print(\"done\")\n",
    "\n"
   ]
  },
  {
   "cell_type": "markdown",
   "id": "abdd472d",
   "metadata": {},
   "source": [
    "# Classification Function"
   ]
  },
  {
   "cell_type": "code",
   "execution_count": 21,
   "id": "341a0348",
   "metadata": {},
   "outputs": [],
   "source": [
    "def roc_auc_score_multiclass(actual_class, pred_class, average = \"macro\"):\n",
    "\n",
    "    unique_class = set(actual_class)\n",
    "    roc_auc_dict = {}\n",
    "    for per_class in unique_class:\n",
    "        #creating a list of all the classes except the current class \n",
    "        other_class = [x for x in unique_class if x != per_class]\n",
    "\n",
    "        #marking the current class as 1 and all other classes as 0\n",
    "        new_actual_class = [0 if x in other_class else 1 for x in actual_class]\n",
    "        new_pred_class = [0 if x in other_class else 1 for x in pred_class]\n",
    "\n",
    "        #using the sklearn metrics method to calculate the roc_auc_score\n",
    "        roc_auc = roc_auc_score(new_actual_class, new_pred_class, average = average)\n",
    "        roc_auc_dict[per_class] = roc_auc\n",
    "    \n",
    "    \n",
    "    check = pd.DataFrame(roc_auc_dict.items())\n",
    "    return mean(check)\n",
    "\n",
    "def svm_fun_kernel(X_train,y_train,X_test,y_test,kernel_mat):\n",
    "\n",
    "    start = timeit.default_timer()\n",
    "#     stop = timeit.default_timer()\n",
    "#     print(\"NB Time : \", stop - start) \n",
    "#     clf = svm.SVC()\n",
    "    clf = svm.SVC(kernel=kernel_mat)\n",
    "    \n",
    "    #Train the model using the training sets\n",
    "    clf.fit(kernel_mat, y_train)\n",
    "\n",
    "    #Predict the response for test dataset\n",
    "    y_pred = clf.predict(X_test)\n",
    "    \n",
    "    stop = timeit.default_timer()\n",
    "    time_new = stop - start\n",
    "    \n",
    "    svm_acc = metrics.accuracy_score(y_test, y_pred)\n",
    "#     print(\"SVM Accuracy:\",svm_acc)\n",
    "    \n",
    "    svm_prec = metrics.precision_score(y_test, y_pred,average='weighted')\n",
    "#     print(\"SVM Precision:\",svm_prec)\n",
    "    \n",
    "    svm_recall = metrics.recall_score(y_test, y_pred,average='weighted')\n",
    "#     print(\"SVM Recall:\",svm_recall)\n",
    "\n",
    "    svm_f1_weighted = metrics.f1_score(y_test, y_pred,average='weighted')\n",
    "#     print(\"SVM F1 Weighted:\",svm_f1_weighted)\n",
    "    \n",
    "    svm_f1_macro = metrics.f1_score(y_test, y_pred,average='macro')\n",
    "#     print(\"SVM F1 macro:\",svm_f1_macro)\n",
    "    \n",
    "    svm_f1_micro = metrics.f1_score(y_test, y_pred,average='micro')\n",
    "#     print(\"SVM F1 micro:\",svm_f1_micro)\n",
    "    \n",
    "    confuse = confusion_matrix(y_test, y_pred)\n",
    "    #print(\"Confusion Matrix SVM : \\n\", confuse)\n",
    "    #print(\"SVM Kernel Class Wise Accuracy : \",confuse.diagonal()/confuse.sum(axis=1))\n",
    "    ######################## Compute ROC curve and ROC area for each class ################\n",
    "    y_prob = y_pred\n",
    "    macro_roc_auc_ovo = roc_auc_score_multiclass(y_test, y_prob, average='macro')\n",
    "#    print(macro_roc_auc_ovo[1])\n",
    "    check = [svm_acc,svm_prec,svm_recall,svm_f1_weighted,svm_f1_macro,macro_roc_auc_ovo[1],time_new]\n",
    "    return(check)\n",
    "    \n",
    "# In[5]\n",
    "##########################  SVM Classifier  ################################\n",
    "def svm_fun(X_train,y_train,X_test,y_test):\n",
    "\n",
    "    #scaler = RobustScaler()\n",
    "    X_train = preprocessing.scale(X_train)  \n",
    "    X_test = preprocessing.scale(X_test)  \n",
    "    \n",
    "    \n",
    "    start = timeit.default_timer()\n",
    "    \n",
    "    \n",
    "    #Create a svm Classifier\n",
    "    clf = svm.SVC(kernel='linear') # Linear Kernel\n",
    "\n",
    "    #Train the model using the training sets\n",
    "    clf.fit(X_train, y_train)\n",
    "\n",
    "    #Predict the response for test dataset\n",
    "    y_pred = clf.predict(X_test)\n",
    "    \n",
    "    stop = timeit.default_timer()\n",
    "    time_new = stop - start\n",
    "#     print(\"NB Time : \", stop - start) \n",
    "    \n",
    "    svm_acc = metrics.accuracy_score(y_test, y_pred)\n",
    "#     print(\"SVM Accuracy:\",svm_acc)\n",
    "    \n",
    "    svm_prec = metrics.precision_score(y_test, y_pred,average='weighted')\n",
    "#     print(\"SVM Precision:\",svm_prec)\n",
    "    \n",
    "    svm_recall = metrics.recall_score(y_test, y_pred,average='weighted')\n",
    "#     print(\"SVM Recall:\",svm_recall)\n",
    "\n",
    "    svm_f1_weighted = metrics.f1_score(y_test, y_pred,average='weighted')\n",
    "#     print(\"SVM F1 Weighted:\",svm_f1_weighted)\n",
    "    \n",
    "    svm_f1_macro = metrics.f1_score(y_test, y_pred,average='macro')\n",
    "#     print(\"SVM F1 macro:\",svm_f1_macro)\n",
    "    \n",
    "    svm_f1_micro = metrics.f1_score(y_test, y_pred,average='micro')\n",
    "#     print(\"SVM F1 micro:\",svm_f1_micro)\n",
    "    \n",
    "    confuse = confusion_matrix(y_test, y_pred)\n",
    "    #print(\"Confusion Matrix SVM : \\n\", confuse)\n",
    "    #print(\"SVM Class Wise Accuracy : \",confuse.diagonal()/confuse.sum(axis=1))\n",
    "    ######################## Compute ROC curve and ROC area for each class ################\n",
    "    y_prob = y_pred\n",
    "    macro_roc_auc_ovo = roc_auc_score_multiclass(y_test, y_prob, average='macro')\n",
    "#    print(macro_roc_auc_ovo[1])\n",
    "    check = [svm_acc,svm_prec,svm_recall,svm_f1_weighted,svm_f1_macro,macro_roc_auc_ovo[1],time_new]\n",
    "    return(check)\n",
    "    \n",
    "\n",
    "\n",
    "# In[5]\n",
    "##########################  NB Classifier  ################################\n",
    "def gaus_nb_fun(X_train,y_train,X_test,y_test):\n",
    "    start = timeit.default_timer()\n",
    "#     stop = timeit.default_timer()\n",
    "#     print(\"NB Time : \", stop - start) \n",
    "    \n",
    "    \n",
    "    gnb = GaussianNB()\n",
    "    y_pred = gnb.fit(X_train, y_train).predict(X_test)\n",
    "    \n",
    "    stop = timeit.default_timer()\n",
    "    time_new = stop - start\n",
    "\n",
    "\n",
    "    NB_acc = metrics.accuracy_score(y_test, y_pred)\n",
    "#     print(\"Gaussian NB Accuracy:\",NB_acc)\n",
    "\n",
    "    NB_prec = metrics.precision_score(y_test, y_pred,average='weighted')\n",
    "#     print(\"Gaussian NB Precision:\",NB_prec)\n",
    "    \n",
    "    NB_recall = metrics.recall_score(y_test, y_pred,average='weighted')\n",
    "#     print(\"Gaussian NB Recall:\",NB_recall)\n",
    "    \n",
    "    NB_f1_weighted = metrics.f1_score(y_test, y_pred,average='weighted')\n",
    "#     print(\"Gaussian NB F1 weighted:\",NB_f1_weighted)\n",
    "    \n",
    "    NB_f1_macro = metrics.f1_score(y_test, y_pred,average='macro')\n",
    "#     print(\"Gaussian NB F1 macro:\",NB_f1_macro)\n",
    "    \n",
    "    NB_f1_micro = metrics.f1_score(y_test, y_pred,average='micro')\n",
    "#     print(\"Gaussian NB F1 micro:\",NB_f1_micro)\n",
    "    \n",
    "    confuse = confusion_matrix(y_test, y_pred)\n",
    "    #print(\"Confusion Matrix NB : \\n\", confuse)\n",
    "    #print(\"NB Class Wise Accuracy : \",confuse.diagonal()/confuse.sum(axis=1))\n",
    "    ######################## Compute ROC curve and ROC area for each class ################\n",
    "    y_prob = y_pred\n",
    "    macro_roc_auc_ovo = roc_auc_score_multiclass(y_test, y_prob, average='macro')\n",
    "    check = [NB_acc,NB_prec,NB_recall,NB_f1_weighted,NB_f1_macro,macro_roc_auc_ovo[1],time_new]\n",
    "    return(check)\n",
    "\n",
    "# In[5]\n",
    "##########################  MLP Classifier  ################################\n",
    "def mlp_fun(X_train,y_train,X_test,y_test):\n",
    "    start = timeit.default_timer()\n",
    "#     stop = timeit.default_timer()\n",
    "#     print(\"NB Time : \", stop - start) \n",
    "    \n",
    "    \n",
    "    # Feature scaling\n",
    "    scaler = StandardScaler()  \n",
    "    scaler.fit(X_train)\n",
    "    X_train = scaler.transform(X_train)  \n",
    "    X_test_2 = scaler.transform(X_test)\n",
    "\n",
    "\n",
    "    # Finally for the MLP- Multilayer Perceptron\n",
    "    mlp = MLPClassifier(hidden_layer_sizes=(10, 10, 10), max_iter=1000)  \n",
    "    mlp.fit(X_train, y_train)\n",
    "\n",
    "\n",
    "    y_pred = mlp.predict(X_test_2)\n",
    "    \n",
    "    stop = timeit.default_timer()\n",
    "    time_new = stop - start\n",
    "    \n",
    "    MLP_acc = metrics.accuracy_score(y_test, y_pred)\n",
    "#     print(\"MLP Accuracy:\",MLP_acc)\n",
    "    \n",
    "    MLP_prec = metrics.precision_score(y_test, y_pred,average='weighted')\n",
    "#     print(\"MLP Precision:\",MLP_prec)\n",
    "    \n",
    "    MLP_recall = metrics.recall_score(y_test, y_pred,average='weighted')\n",
    "#     print(\"MLP Recall:\",MLP_recall)\n",
    "    \n",
    "    MLP_f1_weighted = metrics.f1_score(y_test, y_pred,average='weighted')\n",
    "#     print(\"MLP F1:\",MLP_f1_weighted)\n",
    "    \n",
    "    MLP_f1_macro = metrics.f1_score(y_test, y_pred,average='macro')\n",
    "#     print(\"MLP F1:\",MLP_f1_macro)\n",
    "    \n",
    "    MLP_f1_micro = metrics.f1_score(y_test, y_pred,average='micro')\n",
    "#     print(\"MLP F1:\",MLP_f1_micro)\n",
    "    \n",
    "    confuse = confusion_matrix(y_test, y_pred)\n",
    "    #print(\"Confusion Matrix MLP : \\n\", confuse)\n",
    "    #print(\"MLP Class Wise Accuracy : \",confuse.diagonal()/confuse.sum(axis=1))\n",
    "    ######################## Compute ROC curve and ROC area for each class ################\n",
    "    y_prob = y_pred\n",
    "    macro_roc_auc_ovo = roc_auc_score_multiclass(y_test, y_prob, average='macro')\n",
    "    \n",
    "    check = [MLP_acc,MLP_prec,MLP_recall,MLP_f1_weighted,MLP_f1_macro,macro_roc_auc_ovo[1],time_new]\n",
    "    return(check)\n",
    "\n",
    "# In[5]\n",
    "##########################  knn Classifier  ################################\n",
    "def knn_fun(X_train,y_train,X_test,y_test):\n",
    "    start = timeit.default_timer()\n",
    "#     stop = timeit.default_timer()\n",
    "#     print(\"NB Time : \", stop - start) \n",
    "    \n",
    "    \n",
    "    classifier = KNeighborsClassifier(n_neighbors=5)\n",
    "    classifier.fit(X_train, y_train)\n",
    "\n",
    "    y_pred = classifier.predict(X_test)\n",
    "    \n",
    "    stop = timeit.default_timer()\n",
    "    time_new = stop - start\n",
    "\n",
    "    knn_acc = metrics.accuracy_score(y_test, y_pred)\n",
    "#     print(\"Knn Accuracy:\",knn_acc)\n",
    "    \n",
    "    knn_prec = metrics.precision_score(y_test, y_pred,average='weighted')\n",
    "#     print(\"Knn Precision:\",knn_prec)\n",
    "    \n",
    "    knn_recall = metrics.recall_score(y_test, y_pred,average='weighted')\n",
    "#     print(\"Knn Recall:\",knn_recall)\n",
    "    \n",
    "    knn_f1_weighted = metrics.f1_score(y_test, y_pred,average='weighted')\n",
    "#     print(\"Knn F1 weighted:\",knn_f1_weighted)\n",
    "    \n",
    "    knn_f1_macro = metrics.f1_score(y_test, y_pred,average='macro')\n",
    "#     print(\"Knn F1 macro:\",knn_f1_macro)\n",
    "    \n",
    "    knn_f1_micro = metrics.f1_score(y_test, y_pred,average='micro')\n",
    "#     print(\"Knn F1 micro:\",knn_f1_micro)\n",
    "    \n",
    "    confuse = confusion_matrix(y_test, y_pred)\n",
    "    #print(\"Confusion Matrix KNN : \\n\", confuse)\n",
    "    #print(\"KNN Class Wise Accuracy : \",confuse.diagonal()/confuse.sum(axis=1))\n",
    "    ######################## Compute ROC curve and ROC area for each class ################\n",
    "    y_prob = y_pred\n",
    "    macro_roc_auc_ovo = roc_auc_score_multiclass(y_test, y_prob, average='macro')\n",
    "    \n",
    "    check = [knn_acc,knn_prec,knn_recall,knn_f1_weighted,knn_f1_macro,macro_roc_auc_ovo[1],time_new]\n",
    "    return(check)\n",
    "\n",
    "# In[5]\n",
    "##########################  Random Forest Classifier  ################################\n",
    "def rf_fun(X_train,y_train,X_test,y_test):\n",
    "    start = timeit.default_timer()\n",
    "#     stop = timeit.default_timer()\n",
    "#     print(\"NB Time : \", stop - start) \n",
    "    \n",
    "    \n",
    "    # Import the model we are using\n",
    "    from sklearn.ensemble import RandomForestClassifier\n",
    "    # Instantiate model with 1000 decision trees\n",
    "    rf = RandomForestClassifier(n_estimators = 100)\n",
    "    # Train the model on training data\n",
    "    rf.fit(X_train, y_train)\n",
    "    y_pred = rf.predict(X_test)\n",
    "    \n",
    "    stop = timeit.default_timer()\n",
    "    time_new = stop - start\n",
    "\n",
    "    fr_acc = metrics.accuracy_score(y_test, y_pred)\n",
    "#     print(\"Random Forest Accuracy:\",fr_acc)\n",
    "    \n",
    "    fr_prec = metrics.precision_score(y_test, y_pred,average='weighted')\n",
    "#     print(\"Random Forest Precision:\",fr_prec)\n",
    "    \n",
    "    fr_recall = metrics.recall_score(y_test, y_pred,average='weighted')\n",
    "#     print(\"Random Forest Recall:\",fr_recall)\n",
    "    \n",
    "    fr_f1_weighted = metrics.f1_score(y_test, y_pred,average='weighted')\n",
    "#     print(\"Random Forest F1 weighted:\",fr_f1_weighted)\n",
    "    \n",
    "    fr_f1_macro = metrics.f1_score(y_test, y_pred,average='macro')\n",
    "#     print(\"Random Forest F1 macro:\",fr_f1_macro)\n",
    "    \n",
    "    fr_f1_micro = metrics.f1_score(y_test, y_pred,average='micro')\n",
    "#     print(\"Random Forest F1 micro:\",fr_f1_micro)\n",
    "    \n",
    "    confuse = confusion_matrix(y_test, y_pred)\n",
    "    #print(\"Confusion Matrix RF : \\n\", confuse)\n",
    "    #print(\"RF Class Wise Accuracy : \",confuse.diagonal()/confuse.sum(axis=1))\n",
    "    ######################## Compute ROC curve and ROC area for each class ################\n",
    "    y_prob = y_pred\n",
    "    macro_roc_auc_ovo = roc_auc_score_multiclass(y_test, y_prob, average='macro')\n",
    "    \n",
    "    check = [fr_acc,fr_prec,fr_recall,fr_f1_weighted,fr_f1_macro,macro_roc_auc_ovo[1],time_new]\n",
    "    return(check)\n",
    "\n",
    "# In[5]\n",
    "    ##########################  Logistic Regression Classifier  ################################\n",
    "def lr_fun(X_train,y_train,X_test,y_test):\n",
    "    start = timeit.default_timer()\n",
    "#     stop = timeit.default_timer()\n",
    "#     print(\"NB Time : \", stop - start) \n",
    "    \n",
    "\n",
    "    model = LogisticRegression(solver='liblinear', random_state=0)\n",
    "    model.fit(X_train, y_train)\n",
    "    y_pred = model.predict(X_test)\n",
    "    \n",
    "    ################################\n",
    "    # Obtain the theta coefficients\n",
    "    theta = model.coef_\n",
    "    intercept = model.intercept_\n",
    "\n",
    "    # Print the coefficients\n",
    "    print(\"Theta Coefficients:\", theta)\n",
    "    print(\"Intercept:\", intercept)\n",
    "    ################################\n",
    "    \n",
    "    stop = timeit.default_timer()\n",
    "    time_new = stop - start\n",
    "\n",
    "    LR_acc = metrics.accuracy_score(y_test, y_pred)\n",
    "#     print(\"Logistic Regression Accuracy:\",LR_acc)\n",
    "    \n",
    "    LR_prec = metrics.precision_score(y_test, y_pred,average='weighted')\n",
    "#     print(\"Logistic Regression Precision:\",LR_prec)\n",
    "    \n",
    "    LR_recall = metrics.recall_score(y_test, y_pred,average='weighted')\n",
    "#     print(\"Logistic Regression Recall:\",LR_recall)\n",
    "    \n",
    "    LR_f1_weighted = metrics.f1_score(y_test, y_pred,average='weighted')\n",
    "#     print(\"Logistic Regression F1 weighted:\",LR_f1_weighted)\n",
    "    \n",
    "    LR_f1_macro = metrics.f1_score(y_test, y_pred,average='macro')\n",
    "#     print(\"Logistic Regression F1 macro:\",LR_f1_macro)\n",
    "    \n",
    "    LR_f1_micro = metrics.f1_score(y_test, y_pred,average='micro')\n",
    "#     print(\"Logistic Regression F1 micro:\",LR_f1_micro)\n",
    "    \n",
    "    confuse = confusion_matrix(y_test, y_pred)\n",
    "    #print(\"Confusion Matrix LR : \\n\", confuse)\n",
    "    #print(\"LR Class Wise Accuracy : \",confuse.diagonal()/confuse.sum(axis=1))\n",
    "    ######################## Compute ROC curve and ROC area for each class ################\n",
    "    y_prob = y_pred\n",
    "    macro_roc_auc_ovo = roc_auc_score_multiclass(y_test, y_prob, average='macro')\n",
    "    \n",
    "    check = [LR_acc,LR_prec,LR_recall,LR_f1_weighted,LR_f1_macro,macro_roc_auc_ovo[1],time_new]\n",
    "    return(check,theta,intercept)\n",
    "\n",
    "\n",
    "def fun_decision_tree(X_train,y_train,X_test,y_test):\n",
    "    from sklearn import tree\n",
    "    \n",
    "    start = timeit.default_timer()\n",
    "#     stop = timeit.default_timer()\n",
    "#     print(\"NB Time : \", stop - start) \n",
    "    \n",
    "    clf = tree.DecisionTreeClassifier()    \n",
    "    clf = clf.fit(X_train, y_train)\n",
    "    y_pred = clf.predict(X_test)\n",
    "    \n",
    "    stop = timeit.default_timer()\n",
    "    time_new = stop - start\n",
    "    \n",
    "    dt_acc = metrics.accuracy_score(y_test, y_pred)\n",
    "#     print(\"Logistic Regression Accuracy:\",LR_acc)\n",
    "    \n",
    "    dt_prec = metrics.precision_score(y_test, y_pred,average='weighted')\n",
    "#     print(\"Logistic Regression Precision:\",LR_prec)\n",
    "    \n",
    "    dt_recall = metrics.recall_score(y_test, y_pred,average='weighted')\n",
    "#     print(\"Logistic Regression Recall:\",LR_recall)\n",
    "    \n",
    "    dt_f1_weighted = metrics.f1_score(y_test, y_pred,average='weighted')\n",
    "#     print(\"Logistic Regression F1 weighted:\",LR_f1_weighted)\n",
    "    \n",
    "    dt_f1_macro = metrics.f1_score(y_test, y_pred,average='macro')\n",
    "#     print(\"Logistic Regression F1 macro:\",LR_f1_macro)\n",
    "    \n",
    "    dt_f1_micro = metrics.f1_score(y_test, y_pred,average='micro')\n",
    "#     print(\"Logistic Regression F1 micro:\",LR_f1_micro)\n",
    "    \n",
    "    confuse = confusion_matrix(y_test, y_pred)\n",
    "    #print(\"Confusion Matrix DT : \\n\", confuse)\n",
    "    #print(\"DT Class Wise Accuracy : \",confuse.diagonal()/confuse.sum(axis=1))\n",
    "    ######################## Compute ROC curve and ROC area for each class ################\n",
    "    y_prob = y_pred\n",
    "    macro_roc_auc_ovo = roc_auc_score_multiclass(y_test, y_prob, average='macro')\n",
    "    \n",
    "    check = [dt_acc,dt_prec,dt_recall,dt_f1_weighted,dt_f1_macro,macro_roc_auc_ovo[1],time_new]\n",
    "    return(check)"
   ]
  },
  {
   "cell_type": "markdown",
   "id": "ef540aa7",
   "metadata": {},
   "source": [
    "# Loading Data"
   ]
  },
  {
   "cell_type": "code",
   "execution_count": 22,
   "id": "5f939126",
   "metadata": {},
   "outputs": [],
   "source": [
    "import timeit\n",
    "\n",
    "folder_names = [\n",
    "    \"1exd\", \"1il2\", \"1jbr\", \"1je8\", \"1knz\", \"1omh\", \"1osb\", \"1rkj\", \"1rpu\", \"1s03\",\n",
    "    \"1s40\", \"1u63\", \"1u6p\", \"1wwd\", \"1wwe\", \"1wwf\", \"1wwg\", \"1zzi\", \"2b6g\", \"2ccz\",\n",
    "    \"2err\", \"2kx5\", \"2la5\", \"2leb\", \"2lec\", \"2mki\", \"2mkk\", \"3moj\", \"3rn2\", \"3v7e\",\n",
    "    \"4hid\", \"4hik\", \"4him\", \"4hio\", \"4hj5\", \"4hj7\", \"4hj8\", \"4kze\", \"4mdx\", \"4pdb\",\n",
    "    \"4s0n\", \"5wwe\", \"5wwf\", \"5wwg\", \"5wzg\", \"5wzh\", \"5wzj\", \"5wzk\", \"5yts\", \"5ytt\",\n",
    "    \"5ytv\", \"5ytx\", \"6eo6\", \"6eo7\"\n",
    "]\n",
    "\n",
    "to_be_included = folder_names[:]\n",
    "# [\"1jbr\",\"1je8\",\"1omh\",\"1osb\",\n",
    "#                   \"1zzi\",\"2ccz\",\"3rn2\",\"3v7e\",\n",
    "#                  \"4hid\",\"4hik\",\"4him\",\"4hio\",\"4hj5\",\"4hj7\",\"4hj8\",\"4pdb\",\"5wwe\",\n",
    "#                   \"5wwf\",\"5wwg\",\"6eo6\",\"6eo7\",\"5ytx\",\"5ytv\",\"5ytt\",\"5yts\",\"1exd\",\"1il2\",\"1rpu\",\"1s03\",\"1u63\",\n",
    "#                   \"2b6g\",\n",
    "#                   \"3moj\",\"4kze\",\"4mdx\",\"4s0n\",\"5wzg\",\"5wzh\",\"5wzj\",\"5wzk\",\"1knz\",\n",
    "#                  \"1rkj\",\"1s40\",\"1u6p\",\"1wwd\",\"1wwe\",\"1wwf\",\"1wwg\",\"2err\",\"2kx5\",\"2la5\",\"2leb\",\"2lec\",\"2mki\",\"2mkk\"]\n",
    "\n",
    "to_be_included_final = to_be_included[:]\n",
    "# = [\"1jbr\",\"1je8\",\"1omh\",\"1osb\",\n",
    "#                   \"1zzi\",\"2ccz\",\"3rn2\",\"3v7e\",\n",
    "#                  \"4hid\",\"4hik\",\"4him\",\"4hio\",\"4hj5\",\"4hj7\",\"4hj8\",\"4pdb\",\"5wwe\",\n",
    "#                   \"5wwf\",\"5wwg\",\"6eo6\",\"6eo7\",\"5ytx\",\"5ytv\",\"5ytt\",\"5yts\",\"1exd\",\"1il2\",\"1rpu\",\"1s03\",\"1u63\",\n",
    "#                   \"2b6g\",\n",
    "#                   \"3moj\",\"4kze\",\"4mdx\",\"4s0n\",\"5wzg\",\"5wzh\",\"5wzj\",\"5wzk\",\"1knz\",\n",
    "#                   \"1rkj\",\"1s40\",\"1u6p\",\"1wwd\",\"1wwe\",\"1wwf\",\"1wwg\",\"2err\",\"2kx5\",\"2la5\",\"2leb\",\"2lec\",\"2mki\",\"2mkk\"]\n",
    "\n"
   ]
  },
  {
   "cell_type": "code",
   "execution_count": null,
   "id": "ee943e6a",
   "metadata": {
    "scrolled": true
   },
   "outputs": [
    {
     "name": "stderr",
     "output_type": "stream",
     "text": [
      "C:\\Users\\sali85\\Anaconda3\\envs\\New_Env_2\\lib\\site-packages\\openpyxl\\worksheet\\_reader.py:329: UserWarning: Unknown extension is not supported and will be removed\n",
      "  warn(msg)\n"
     ]
    },
    {
     "name": "stdout",
     "output_type": "stream",
     "text": [
      "checking!!\n"
     ]
    },
    {
     "name": "stderr",
     "output_type": "stream",
     "text": [
      "C:\\Users\\sali85\\AppData\\Local\\Temp\\ipykernel_32644\\2206982253.py:345: VisibleDeprecationWarning: Creating an ndarray from ragged nested sequences (which is a list-or-tuple of lists-or-tuples-or ndarrays with different lengths or shapes) is deprecated. If you meant to do this, you must specify 'dtype=object' when creating the ndarray.\n",
      "  print(np.array(L_only_energy).shape)\n"
     ]
    },
    {
     "name": "stdout",
     "output_type": "stream",
     "text": [
      "(12,)\n",
      "(12, 60)\n",
      "Energy values > threshold:  (12, 60)\n",
      "L Energy Values:  (12, 60)\n",
      "All Energy Values:  (12, 60)\n",
      "Upper Threshold Energy Values:  (12, 60)\n",
      "Lower Threshold Energy Values:  (12, 60)\n",
      "(12, 60)\n",
      "(12, 60)\n",
      "Upper Threshold RMSD Values:  (12, 60)\n",
      "Lower Threshold RMSD Values:  (12, 60)\n",
      "[7.1, 8.1, 9.1, 10.1, 11.1, 12.1, 13.1, 14.1, 15.1, 16.1, 17.1, 18.1]\n",
      "Total Combinations for  12  is:  132\n"
     ]
    },
    {
     "name": "stderr",
     "output_type": "stream",
     "text": [
      "C:\\Users\\sali85\\Anaconda3\\envs\\New_Env_2\\lib\\site-packages\\openpyxl\\worksheet\\_reader.py:329: UserWarning: Unknown extension is not supported and will be removed\n",
      "  warn(msg)\n"
     ]
    },
    {
     "name": "stdout",
     "output_type": "stream",
     "text": [
      "checking!!\n"
     ]
    },
    {
     "name": "stderr",
     "output_type": "stream",
     "text": [
      "C:\\Users\\sali85\\AppData\\Local\\Temp\\ipykernel_32644\\2206982253.py:345: VisibleDeprecationWarning: Creating an ndarray from ragged nested sequences (which is a list-or-tuple of lists-or-tuples-or ndarrays with different lengths or shapes) is deprecated. If you meant to do this, you must specify 'dtype=object' when creating the ndarray.\n",
      "  print(np.array(L_only_energy).shape)\n"
     ]
    },
    {
     "name": "stdout",
     "output_type": "stream",
     "text": [
      "(12,)\n",
      "(12, 60)\n",
      "Energy values > threshold:  (12, 60)\n",
      "L Energy Values:  (12, 60)\n",
      "All Energy Values:  (12, 60)\n",
      "Upper Threshold Energy Values:  (12, 60)\n",
      "Lower Threshold Energy Values:  (12, 60)\n",
      "(12, 60)\n",
      "(12, 60)\n",
      "Upper Threshold RMSD Values:  (12, 60)\n",
      "Lower Threshold RMSD Values:  (12, 60)\n",
      "[3000.0, 3001.0, 3002.0, 3003.0, 3004.0, 3005.0, 3006.0, 3007.0, 3008.0, 3009.0, 3010.0, 3011.0]\n",
      "Total Combinations for  12  is:  132\n"
     ]
    },
    {
     "name": "stderr",
     "output_type": "stream",
     "text": [
      "C:\\Users\\sali85\\Anaconda3\\envs\\New_Env_2\\lib\\site-packages\\openpyxl\\worksheet\\_reader.py:329: UserWarning: Unknown extension is not supported and will be removed\n",
      "  warn(msg)\n"
     ]
    },
    {
     "name": "stdout",
     "output_type": "stream",
     "text": [
      "checking!!\n"
     ]
    },
    {
     "name": "stderr",
     "output_type": "stream",
     "text": [
      "C:\\Users\\sali85\\AppData\\Local\\Temp\\ipykernel_32644\\2206982253.py:345: VisibleDeprecationWarning: Creating an ndarray from ragged nested sequences (which is a list-or-tuple of lists-or-tuples-or ndarrays with different lengths or shapes) is deprecated. If you meant to do this, you must specify 'dtype=object' when creating the ndarray.\n",
      "  print(np.array(L_only_energy).shape)\n"
     ]
    },
    {
     "name": "stdout",
     "output_type": "stream",
     "text": [
      "(12,)\n",
      "(12, 60)\n",
      "Energy values > threshold:  (12, 60)\n",
      "L Energy Values:  (12, 60)\n",
      "All Energy Values:  (12, 60)\n",
      "Upper Threshold Energy Values:  (12, 60)\n",
      "Lower Threshold Energy Values:  (12, 60)\n",
      "(12, 60)\n",
      "(12, 60)\n",
      "Upper Threshold RMSD Values:  (12, 60)\n",
      "Lower Threshold RMSD Values:  (12, 60)\n",
      "[1000.0, 1001.0, 1002.0, 1003.0, 1004.0, 1005.0, 1006.0, 1007.0, 1008.0, 1009.0, 1010.0, 1011.0]\n",
      "Total Combinations for  12  is:  132\n"
     ]
    },
    {
     "name": "stderr",
     "output_type": "stream",
     "text": [
      "C:\\Users\\sali85\\Anaconda3\\envs\\New_Env_2\\lib\\site-packages\\openpyxl\\worksheet\\_reader.py:329: UserWarning: Unknown extension is not supported and will be removed\n",
      "  warn(msg)\n"
     ]
    },
    {
     "name": "stdout",
     "output_type": "stream",
     "text": [
      "checking!!\n"
     ]
    },
    {
     "name": "stderr",
     "output_type": "stream",
     "text": [
      "C:\\Users\\sali85\\AppData\\Local\\Temp\\ipykernel_32644\\2206982253.py:345: VisibleDeprecationWarning: Creating an ndarray from ragged nested sequences (which is a list-or-tuple of lists-or-tuples-or ndarrays with different lengths or shapes) is deprecated. If you meant to do this, you must specify 'dtype=object' when creating the ndarray.\n",
      "  print(np.array(L_only_energy).shape)\n"
     ]
    },
    {
     "name": "stdout",
     "output_type": "stream",
     "text": [
      "(12,)\n",
      "(12, 60)\n",
      "Energy values > threshold:  (12, 60)\n",
      "L Energy Values:  (12, 60)\n",
      "All Energy Values:  (12, 60)\n",
      "Upper Threshold Energy Values:  (12, 60)\n",
      "Lower Threshold Energy Values:  (12, 60)\n",
      "(12, 60)\n",
      "(12, 60)\n",
      "Upper Threshold RMSD Values:  (12, 60)\n",
      "Lower Threshold RMSD Values:  (12, 60)\n",
      "[0.15, 1.15, 2.15, 3.15, 4.15, 5.15, 6.15, 7.15, 8.15, 9.15, 10.15, 11.15]\n",
      "Total Combinations for  12  is:  132\n"
     ]
    },
    {
     "name": "stderr",
     "output_type": "stream",
     "text": [
      "C:\\Users\\sali85\\Anaconda3\\envs\\New_Env_2\\lib\\site-packages\\openpyxl\\worksheet\\_reader.py:329: UserWarning: Unknown extension is not supported and will be removed\n",
      "  warn(msg)\n"
     ]
    },
    {
     "name": "stdout",
     "output_type": "stream",
     "text": [
      "checking!!\n"
     ]
    },
    {
     "name": "stderr",
     "output_type": "stream",
     "text": [
      "C:\\Users\\sali85\\AppData\\Local\\Temp\\ipykernel_32644\\2206982253.py:345: VisibleDeprecationWarning: Creating an ndarray from ragged nested sequences (which is a list-or-tuple of lists-or-tuples-or ndarrays with different lengths or shapes) is deprecated. If you meant to do this, you must specify 'dtype=object' when creating the ndarray.\n",
      "  print(np.array(L_only_energy).shape)\n"
     ]
    },
    {
     "name": "stdout",
     "output_type": "stream",
     "text": [
      "(6,)\n",
      "(6, 60)\n",
      "Energy values > threshold:  (6, 60)\n",
      "L Energy Values:  (6, 60)\n",
      "All Energy Values:  (6, 60)\n",
      "Upper Threshold Energy Values:  (6, 60)\n",
      "Lower Threshold Energy Values:  (6, 60)\n",
      "(6, 60)\n",
      "(6, 60)\n",
      "Upper Threshold RMSD Values:  (6, 60)\n",
      "Lower Threshold RMSD Values:  (6, 60)\n",
      "[79.0, 80.0, 81.0, 82.0, 83.0, 84.0]\n",
      "Total Combinations for  6  is:  30\n"
     ]
    },
    {
     "name": "stderr",
     "output_type": "stream",
     "text": [
      "C:\\Users\\sali85\\Anaconda3\\envs\\New_Env_2\\lib\\site-packages\\openpyxl\\worksheet\\_reader.py:329: UserWarning: Unknown extension is not supported and will be removed\n",
      "  warn(msg)\n"
     ]
    },
    {
     "name": "stdout",
     "output_type": "stream",
     "text": [
      "checking!!\n"
     ]
    },
    {
     "name": "stderr",
     "output_type": "stream",
     "text": [
      "C:\\Users\\sali85\\AppData\\Local\\Temp\\ipykernel_32644\\2206982253.py:345: VisibleDeprecationWarning: Creating an ndarray from ragged nested sequences (which is a list-or-tuple of lists-or-tuples-or ndarrays with different lengths or shapes) is deprecated. If you meant to do this, you must specify 'dtype=object' when creating the ndarray.\n",
      "  print(np.array(L_only_energy).shape)\n"
     ]
    },
    {
     "name": "stdout",
     "output_type": "stream",
     "text": [
      "(12,)\n",
      "(12, 60)\n",
      "Energy values > threshold:  (12, 60)\n",
      "L Energy Values:  (12, 60)\n",
      "All Energy Values:  (12, 60)\n",
      "Upper Threshold Energy Values:  (12, 60)\n",
      "Lower Threshold Energy Values:  (12, 60)\n",
      "(12, 60)\n",
      "(12, 60)\n",
      "Upper Threshold RMSD Values:  (12, 60)\n",
      "Lower Threshold RMSD Values:  (12, 60)\n",
      "[70.0, 71.0, 72.0, 73.0, 74.0, 75.0, 76.0, 77.0, 78.0, 79.0, 80.0, 81.0]\n",
      "Total Combinations for  12  is:  132\n"
     ]
    },
    {
     "name": "stderr",
     "output_type": "stream",
     "text": [
      "C:\\Users\\sali85\\Anaconda3\\envs\\New_Env_2\\lib\\site-packages\\openpyxl\\worksheet\\_reader.py:329: UserWarning: Unknown extension is not supported and will be removed\n",
      "  warn(msg)\n"
     ]
    },
    {
     "name": "stdout",
     "output_type": "stream",
     "text": [
      "checking!!\n"
     ]
    },
    {
     "name": "stderr",
     "output_type": "stream",
     "text": [
      "C:\\Users\\sali85\\AppData\\Local\\Temp\\ipykernel_32644\\2206982253.py:345: VisibleDeprecationWarning: Creating an ndarray from ragged nested sequences (which is a list-or-tuple of lists-or-tuples-or ndarrays with different lengths or shapes) is deprecated. If you meant to do this, you must specify 'dtype=object' when creating the ndarray.\n",
      "  print(np.array(L_only_energy).shape)\n"
     ]
    },
    {
     "name": "stdout",
     "output_type": "stream",
     "text": [
      "(12,)\n",
      "(12, 60)\n",
      "Energy values > threshold:  (12, 60)\n",
      "L Energy Values:  (12, 60)\n",
      "All Energy Values:  (12, 60)\n",
      "Upper Threshold Energy Values:  (12, 60)\n",
      "Lower Threshold Energy Values:  (12, 60)\n",
      "(12, 60)\n",
      "(12, 60)\n",
      "Upper Threshold RMSD Values:  (12, 60)\n",
      "Lower Threshold RMSD Values:  (12, 60)\n",
      "[70.0, 71.0, 72.0, 73.0, 74.0, 75.0, 76.0, 77.0, 78.0, 79.0, 80.0, 81.0]\n",
      "Total Combinations for  12  is:  132\n"
     ]
    },
    {
     "name": "stderr",
     "output_type": "stream",
     "text": [
      "C:\\Users\\sali85\\Anaconda3\\envs\\New_Env_2\\lib\\site-packages\\openpyxl\\worksheet\\_reader.py:329: UserWarning: Unknown extension is not supported and will be removed\n",
      "  warn(msg)\n"
     ]
    },
    {
     "name": "stdout",
     "output_type": "stream",
     "text": [
      "checking!!\n"
     ]
    },
    {
     "name": "stderr",
     "output_type": "stream",
     "text": [
      "C:\\Users\\sali85\\AppData\\Local\\Temp\\ipykernel_32644\\2206982253.py:345: VisibleDeprecationWarning: Creating an ndarray from ragged nested sequences (which is a list-or-tuple of lists-or-tuples-or ndarrays with different lengths or shapes) is deprecated. If you meant to do this, you must specify 'dtype=object' when creating the ndarray.\n",
      "  print(np.array(L_only_energy).shape)\n"
     ]
    },
    {
     "name": "stdout",
     "output_type": "stream",
     "text": [
      "(12,)\n",
      "(12, 60)\n",
      "Energy values > threshold:  (12, 60)\n",
      "L Energy Values:  (12, 60)\n",
      "All Energy Values:  (12, 60)\n",
      "Upper Threshold Energy Values:  (12, 60)\n",
      "Lower Threshold Energy Values:  (12, 60)\n",
      "(12, 60)\n",
      "(12, 60)\n",
      "Upper Threshold RMSD Values:  (12, 60)\n",
      "Lower Threshold RMSD Values:  (12, 60)\n",
      "[1100.0, 1101.0, 1102.0, 1103.0, 1104.0, 1105.0, 1106.0, 1107.0, 1108.0, 1109.0, 1110.0, 1111.0]\n",
      "Total Combinations for  12  is:  132\n"
     ]
    },
    {
     "name": "stderr",
     "output_type": "stream",
     "text": [
      "C:\\Users\\sali85\\Anaconda3\\envs\\New_Env_2\\lib\\site-packages\\openpyxl\\worksheet\\_reader.py:329: UserWarning: Unknown extension is not supported and will be removed\n",
      "  warn(msg)\n"
     ]
    },
    {
     "name": "stdout",
     "output_type": "stream",
     "text": [
      "checking!!\n",
      "(12, 1318)\n",
      "(12, 60)\n",
      "Energy values > threshold:  (12, 60)\n",
      "L Energy Values:  (12, 60)\n",
      "All Energy Values:  (12, 60)\n",
      "Upper Threshold Energy Values:  (12, 60)\n",
      "Lower Threshold Energy Values:  (12, 60)\n",
      "(12, 60)\n",
      "(12, 60)\n",
      "Upper Threshold RMSD Values:  (12, 60)\n",
      "Lower Threshold RMSD Values:  (12, 60)\n",
      "[0.17, 1.17, 2.17, 3.17, 4.17, 5.17, 6.17, 7.17, 8.17, 9.17, 10.17, 11.17]\n",
      "Total Combinations for  12  is:  132\n"
     ]
    },
    {
     "name": "stderr",
     "output_type": "stream",
     "text": [
      "C:\\Users\\sali85\\Anaconda3\\envs\\New_Env_2\\lib\\site-packages\\openpyxl\\worksheet\\_reader.py:329: UserWarning: Unknown extension is not supported and will be removed\n",
      "  warn(msg)\n"
     ]
    },
    {
     "name": "stdout",
     "output_type": "stream",
     "text": [
      "checking!!\n"
     ]
    },
    {
     "name": "stderr",
     "output_type": "stream",
     "text": [
      "C:\\Users\\sali85\\AppData\\Local\\Temp\\ipykernel_32644\\2206982253.py:345: VisibleDeprecationWarning: Creating an ndarray from ragged nested sequences (which is a list-or-tuple of lists-or-tuples-or ndarrays with different lengths or shapes) is deprecated. If you meant to do this, you must specify 'dtype=object' when creating the ndarray.\n",
      "  print(np.array(L_only_energy).shape)\n"
     ]
    },
    {
     "name": "stdout",
     "output_type": "stream",
     "text": [
      "(12,)\n",
      "(12, 60)\n",
      "Energy values > threshold:  (12, 60)\n",
      "L Energy Values:  (12, 60)\n",
      "All Energy Values:  (12, 60)\n",
      "Upper Threshold Energy Values:  (12, 60)\n",
      "Lower Threshold Energy Values:  (12, 60)\n",
      "(12, 60)\n",
      "(12, 60)\n",
      "Upper Threshold RMSD Values:  (12, 60)\n",
      "Lower Threshold RMSD Values:  (12, 60)\n",
      "[200.0, 201.0, 202.0, 203.0, 204.0, 205.0, 206.0, 207.0, 208.0, 209.0, 210.0, 211.0]\n",
      "Total Combinations for  12  is:  132\n"
     ]
    },
    {
     "name": "stderr",
     "output_type": "stream",
     "text": [
      "C:\\Users\\sali85\\Anaconda3\\envs\\New_Env_2\\lib\\site-packages\\openpyxl\\worksheet\\_reader.py:329: UserWarning: Unknown extension is not supported and will be removed\n",
      "  warn(msg)\n"
     ]
    },
    {
     "name": "stdout",
     "output_type": "stream",
     "text": [
      "checking!!\n"
     ]
    },
    {
     "name": "stderr",
     "output_type": "stream",
     "text": [
      "C:\\Users\\sali85\\AppData\\Local\\Temp\\ipykernel_32644\\2206982253.py:345: VisibleDeprecationWarning: Creating an ndarray from ragged nested sequences (which is a list-or-tuple of lists-or-tuples-or ndarrays with different lengths or shapes) is deprecated. If you meant to do this, you must specify 'dtype=object' when creating the ndarray.\n",
      "  print(np.array(L_only_energy).shape)\n"
     ]
    },
    {
     "name": "stdout",
     "output_type": "stream",
     "text": [
      "(12,)\n",
      "(12, 60)\n",
      "Energy values > threshold:  (12, 60)\n",
      "L Energy Values:  (12, 60)\n",
      "All Energy Values:  (12, 60)\n",
      "Upper Threshold Energy Values:  (12, 60)\n",
      "Lower Threshold Energy Values:  (12, 60)\n",
      "(12, 60)\n",
      "(12, 60)\n",
      "Upper Threshold RMSD Values:  (12, 60)\n",
      "Lower Threshold RMSD Values:  (12, 60)\n",
      "[0.3, 1.3, 2.3, 3.3, 4.3, 5.3, 6.3, 7.3, 8.3, 9.3, 10.3, 11.3]\n",
      "Total Combinations for  12  is:  132\n"
     ]
    },
    {
     "name": "stderr",
     "output_type": "stream",
     "text": [
      "C:\\Users\\sali85\\Anaconda3\\envs\\New_Env_2\\lib\\site-packages\\openpyxl\\worksheet\\_reader.py:329: UserWarning: Unknown extension is not supported and will be removed\n",
      "  warn(msg)\n"
     ]
    },
    {
     "name": "stdout",
     "output_type": "stream",
     "text": [
      "checking!!\n"
     ]
    },
    {
     "name": "stderr",
     "output_type": "stream",
     "text": [
      "C:\\Users\\sali85\\AppData\\Local\\Temp\\ipykernel_32644\\2206982253.py:345: VisibleDeprecationWarning: Creating an ndarray from ragged nested sequences (which is a list-or-tuple of lists-or-tuples-or ndarrays with different lengths or shapes) is deprecated. If you meant to do this, you must specify 'dtype=object' when creating the ndarray.\n",
      "  print(np.array(L_only_energy).shape)\n"
     ]
    },
    {
     "name": "stdout",
     "output_type": "stream",
     "text": [
      "(12,)\n",
      "(12, 60)\n",
      "Energy values > threshold:  (12, 60)\n",
      "L Energy Values:  (12, 60)\n",
      "All Energy Values:  (12, 60)\n",
      "Upper Threshold Energy Values:  (12, 60)\n",
      "Lower Threshold Energy Values:  (12, 60)\n",
      "(12, 60)\n",
      "(12, 60)\n",
      "Upper Threshold RMSD Values:  (12, 60)\n",
      "Lower Threshold RMSD Values:  (12, 60)\n",
      "[0.52, 1.52, 2.52, 3.52, 4.52, 5.52, 6.52, 7.52, 8.52, 9.52, 10.52, 11.52]\n",
      "Total Combinations for  12  is:  132\n"
     ]
    },
    {
     "name": "stderr",
     "output_type": "stream",
     "text": [
      "C:\\Users\\sali85\\Anaconda3\\envs\\New_Env_2\\lib\\site-packages\\openpyxl\\worksheet\\_reader.py:329: UserWarning: Unknown extension is not supported and will be removed\n",
      "  warn(msg)\n"
     ]
    },
    {
     "name": "stdout",
     "output_type": "stream",
     "text": [
      "checking!!\n",
      "(12, 1318)\n",
      "(12, 60)\n",
      "Energy values > threshold:  (12, 60)\n",
      "L Energy Values:  (12, 60)\n",
      "All Energy Values:  (12, 60)\n",
      "Upper Threshold Energy Values:  (12, 60)\n",
      "Lower Threshold Energy Values:  (12, 60)\n",
      "(12, 60)\n",
      "(12, 60)\n",
      "Upper Threshold RMSD Values:  (12, 60)\n",
      "Lower Threshold RMSD Values:  (12, 60)\n",
      "[75.0, 76.0, 77.0, 78.0, 79.0, 80.0, 81.0, 82.0, 83.0, 84.0, 85.0, 86.0]\n",
      "Total Combinations for  12  is:  132\n"
     ]
    },
    {
     "name": "stderr",
     "output_type": "stream",
     "text": [
      "C:\\Users\\sali85\\Anaconda3\\envs\\New_Env_2\\lib\\site-packages\\openpyxl\\worksheet\\_reader.py:329: UserWarning: Unknown extension is not supported and will be removed\n",
      "  warn(msg)\n"
     ]
    },
    {
     "name": "stdout",
     "output_type": "stream",
     "text": [
      "checking!!\n"
     ]
    },
    {
     "name": "stderr",
     "output_type": "stream",
     "text": [
      "C:\\Users\\sali85\\AppData\\Local\\Temp\\ipykernel_32644\\2206982253.py:345: VisibleDeprecationWarning: Creating an ndarray from ragged nested sequences (which is a list-or-tuple of lists-or-tuples-or ndarrays with different lengths or shapes) is deprecated. If you meant to do this, you must specify 'dtype=object' when creating the ndarray.\n",
      "  print(np.array(L_only_energy).shape)\n"
     ]
    },
    {
     "name": "stdout",
     "output_type": "stream",
     "text": [
      "(7,)\n",
      "(7, 60)\n",
      "Energy values > threshold:  (7, 60)\n",
      "L Energy Values:  (7, 60)\n",
      "All Energy Values:  (7, 60)\n",
      "Upper Threshold Energy Values:  (7, 60)\n",
      "Lower Threshold Energy Values:  (7, 60)\n",
      "(7, 60)\n",
      "(7, 60)\n",
      "Upper Threshold RMSD Values:  (7, 60)\n",
      "Lower Threshold RMSD Values:  (7, 60)\n",
      "[250.0, 251.0, 252.0, 253.0, 254.0, 255.0, 256.0]\n",
      "Total Combinations for  7  is:  42\n"
     ]
    },
    {
     "name": "stderr",
     "output_type": "stream",
     "text": [
      "C:\\Users\\sali85\\Anaconda3\\envs\\New_Env_2\\lib\\site-packages\\openpyxl\\worksheet\\_reader.py:329: UserWarning: Unknown extension is not supported and will be removed\n",
      "  warn(msg)\n"
     ]
    },
    {
     "name": "stdout",
     "output_type": "stream",
     "text": [
      "checking!!\n",
      "(8, 1318)\n",
      "(8, 60)\n",
      "Energy values > threshold:  (8, 60)\n",
      "L Energy Values:  (8, 60)\n",
      "All Energy Values:  (8, 60)\n",
      "Upper Threshold Energy Values:  (8, 60)\n",
      "Lower Threshold Energy Values:  (8, 60)\n",
      "(8, 60)\n",
      "(8, 60)\n",
      "Upper Threshold RMSD Values:  (8, 60)\n",
      "Lower Threshold RMSD Values:  (8, 60)\n",
      "[170.0, 171.0, 172.0, 173.0, 174.0, 175.0, 176.0, 177.0]\n",
      "Total Combinations for  8  is:  56\n"
     ]
    },
    {
     "name": "stderr",
     "output_type": "stream",
     "text": [
      "C:\\Users\\sali85\\Anaconda3\\envs\\New_Env_2\\lib\\site-packages\\openpyxl\\worksheet\\_reader.py:329: UserWarning: Unknown extension is not supported and will be removed\n",
      "  warn(msg)\n"
     ]
    },
    {
     "name": "stdout",
     "output_type": "stream",
     "text": [
      "checking!!\n"
     ]
    },
    {
     "name": "stderr",
     "output_type": "stream",
     "text": [
      "C:\\Users\\sali85\\AppData\\Local\\Temp\\ipykernel_32644\\2206982253.py:345: VisibleDeprecationWarning: Creating an ndarray from ragged nested sequences (which is a list-or-tuple of lists-or-tuples-or ndarrays with different lengths or shapes) is deprecated. If you meant to do this, you must specify 'dtype=object' when creating the ndarray.\n",
      "  print(np.array(L_only_energy).shape)\n"
     ]
    },
    {
     "name": "stdout",
     "output_type": "stream",
     "text": [
      "(8,)\n",
      "(8, 60)\n",
      "Energy values > threshold:  (8, 60)\n",
      "L Energy Values:  (8, 60)\n",
      "All Energy Values:  (8, 60)\n",
      "Upper Threshold Energy Values:  (8, 60)\n",
      "Lower Threshold Energy Values:  (8, 60)\n",
      "(8, 60)\n",
      "(8, 60)\n",
      "Upper Threshold RMSD Values:  (8, 60)\n",
      "Lower Threshold RMSD Values:  (8, 60)\n",
      "[94.0, 95.0, 96.0, 97.0, 98.0, 99.0, 100.0, 101.0]\n",
      "Total Combinations for  8  is:  56\n"
     ]
    },
    {
     "name": "stderr",
     "output_type": "stream",
     "text": [
      "C:\\Users\\sali85\\Anaconda3\\envs\\New_Env_2\\lib\\site-packages\\openpyxl\\worksheet\\_reader.py:329: UserWarning: Unknown extension is not supported and will be removed\n",
      "  warn(msg)\n"
     ]
    },
    {
     "name": "stdout",
     "output_type": "stream",
     "text": [
      "checking!!\n"
     ]
    },
    {
     "name": "stderr",
     "output_type": "stream",
     "text": [
      "C:\\Users\\sali85\\AppData\\Local\\Temp\\ipykernel_32644\\2206982253.py:345: VisibleDeprecationWarning: Creating an ndarray from ragged nested sequences (which is a list-or-tuple of lists-or-tuples-or ndarrays with different lengths or shapes) is deprecated. If you meant to do this, you must specify 'dtype=object' when creating the ndarray.\n",
      "  print(np.array(L_only_energy).shape)\n"
     ]
    },
    {
     "name": "stdout",
     "output_type": "stream",
     "text": [
      "(7,)\n",
      "(7, 60)\n",
      "Energy values > threshold:  (7, 60)\n",
      "L Energy Values:  (7, 60)\n",
      "All Energy Values:  (7, 60)\n",
      "Upper Threshold Energy Values:  (7, 60)\n",
      "Lower Threshold Energy Values:  (7, 60)\n",
      "(7, 60)\n",
      "(7, 60)\n",
      "Upper Threshold RMSD Values:  (7, 60)\n",
      "Lower Threshold RMSD Values:  (7, 60)\n",
      "[95.0, 96.0, 97.0, 98.0, 99.0, 100.0, 101.0]\n",
      "Total Combinations for  7  is:  42\n"
     ]
    },
    {
     "name": "stderr",
     "output_type": "stream",
     "text": [
      "C:\\Users\\sali85\\Anaconda3\\envs\\New_Env_2\\lib\\site-packages\\openpyxl\\worksheet\\_reader.py:329: UserWarning: Unknown extension is not supported and will be removed\n",
      "  warn(msg)\n"
     ]
    },
    {
     "name": "stdout",
     "output_type": "stream",
     "text": [
      "checking!!\n"
     ]
    },
    {
     "name": "stderr",
     "output_type": "stream",
     "text": [
      "C:\\Users\\sali85\\AppData\\Local\\Temp\\ipykernel_32644\\2206982253.py:345: VisibleDeprecationWarning: Creating an ndarray from ragged nested sequences (which is a list-or-tuple of lists-or-tuples-or ndarrays with different lengths or shapes) is deprecated. If you meant to do this, you must specify 'dtype=object' when creating the ndarray.\n",
      "  print(np.array(L_only_energy).shape)\n"
     ]
    },
    {
     "name": "stdout",
     "output_type": "stream",
     "text": [
      "(7,)\n",
      "(7, 60)\n",
      "Energy values > threshold:  (7, 60)\n",
      "L Energy Values:  (7, 60)\n",
      "All Energy Values:  (7, 60)\n",
      "Upper Threshold Energy Values:  (7, 60)\n",
      "Lower Threshold Energy Values:  (7, 60)\n",
      "(7, 60)\n",
      "(7, 60)\n",
      "Upper Threshold RMSD Values:  (7, 60)\n",
      "Lower Threshold RMSD Values:  (7, 60)\n",
      "[2200.0, 2201.0, 2202.0, 2203.0, 2204.0, 2205.0, 2206.0]\n",
      "Total Combinations for  7  is:  42\n"
     ]
    },
    {
     "name": "stderr",
     "output_type": "stream",
     "text": [
      "C:\\Users\\sali85\\Anaconda3\\envs\\New_Env_2\\lib\\site-packages\\openpyxl\\worksheet\\_reader.py:329: UserWarning: Unknown extension is not supported and will be removed\n",
      "  warn(msg)\n"
     ]
    },
    {
     "name": "stdout",
     "output_type": "stream",
     "text": [
      "checking!!\n"
     ]
    },
    {
     "name": "stderr",
     "output_type": "stream",
     "text": [
      "C:\\Users\\sali85\\AppData\\Local\\Temp\\ipykernel_32644\\2206982253.py:345: VisibleDeprecationWarning: Creating an ndarray from ragged nested sequences (which is a list-or-tuple of lists-or-tuples-or ndarrays with different lengths or shapes) is deprecated. If you meant to do this, you must specify 'dtype=object' when creating the ndarray.\n",
      "  print(np.array(L_only_energy).shape)\n"
     ]
    },
    {
     "name": "stdout",
     "output_type": "stream",
     "text": [
      "(12,)\n",
      "(12, 60)\n",
      "Energy values > threshold:  (12, 60)\n",
      "L Energy Values:  (12, 60)\n",
      "All Energy Values:  (12, 60)\n",
      "Upper Threshold Energy Values:  (12, 60)\n",
      "Lower Threshold Energy Values:  (12, 60)\n",
      "(12, 60)\n",
      "(12, 60)\n",
      "Upper Threshold RMSD Values:  (12, 60)\n",
      "Lower Threshold RMSD Values:  (12, 60)\n",
      "[30.0, 31.0, 32.0, 33.0, 34.0, 35.0, 36.0, 37.0, 38.0, 39.0, 40.0, 41.0]\n",
      "Total Combinations for  12  is:  132\n"
     ]
    },
    {
     "name": "stderr",
     "output_type": "stream",
     "text": [
      "C:\\Users\\sali85\\Anaconda3\\envs\\New_Env_2\\lib\\site-packages\\openpyxl\\worksheet\\_reader.py:329: UserWarning: Unknown extension is not supported and will be removed\n",
      "  warn(msg)\n"
     ]
    },
    {
     "name": "stdout",
     "output_type": "stream",
     "text": [
      "checking!!\n"
     ]
    },
    {
     "name": "stderr",
     "output_type": "stream",
     "text": [
      "C:\\Users\\sali85\\AppData\\Local\\Temp\\ipykernel_32644\\2206982253.py:345: VisibleDeprecationWarning: Creating an ndarray from ragged nested sequences (which is a list-or-tuple of lists-or-tuples-or ndarrays with different lengths or shapes) is deprecated. If you meant to do this, you must specify 'dtype=object' when creating the ndarray.\n",
      "  print(np.array(L_only_energy).shape)\n"
     ]
    },
    {
     "name": "stdout",
     "output_type": "stream",
     "text": [
      "(12,)\n",
      "(12, 60)\n",
      "Energy values > threshold:  (12, 60)\n",
      "L Energy Values:  (12, 60)\n",
      "All Energy Values:  (12, 60)\n",
      "Upper Threshold Energy Values:  (12, 60)\n",
      "Lower Threshold Energy Values:  (12, 60)\n",
      "(12, 60)\n",
      "(12, 60)\n",
      "Upper Threshold RMSD Values:  (12, 60)\n",
      "Lower Threshold RMSD Values:  (12, 60)\n",
      "[100.0, 101.0, 102.0, 103.0, 104.0, 105.0, 106.0, 107.0, 108.0, 109.0, 110.0, 111.0]\n",
      "Total Combinations for  12  is:  132\n"
     ]
    },
    {
     "name": "stderr",
     "output_type": "stream",
     "text": [
      "C:\\Users\\sali85\\Anaconda3\\envs\\New_Env_2\\lib\\site-packages\\openpyxl\\worksheet\\_reader.py:329: UserWarning: Unknown extension is not supported and will be removed\n",
      "  warn(msg)\n"
     ]
    },
    {
     "name": "stdout",
     "output_type": "stream",
     "text": [
      "checking!!\n",
      "(8, 1318)\n",
      "(8, 60)\n",
      "Energy values > threshold:  (8, 60)\n",
      "L Energy Values:  (8, 60)\n",
      "All Energy Values:  (8, 60)\n",
      "Upper Threshold Energy Values:  (8, 60)\n",
      "Lower Threshold Energy Values:  (8, 60)\n",
      "(8, 60)\n",
      "(8, 60)\n",
      "Upper Threshold RMSD Values:  (8, 60)\n",
      "Lower Threshold RMSD Values:  (8, 60)\n",
      "[1.09, 2.09, 3.09, 4.09, 5.09, 6.09, 7.09, 8.09]\n",
      "Total Combinations for  8  is:  56\n"
     ]
    },
    {
     "name": "stderr",
     "output_type": "stream",
     "text": [
      "C:\\Users\\sali85\\Anaconda3\\envs\\New_Env_2\\lib\\site-packages\\openpyxl\\worksheet\\_reader.py:329: UserWarning: Unknown extension is not supported and will be removed\n",
      "  warn(msg)\n"
     ]
    },
    {
     "name": "stdout",
     "output_type": "stream",
     "text": [
      "checking!!\n"
     ]
    },
    {
     "name": "stderr",
     "output_type": "stream",
     "text": [
      "C:\\Users\\sali85\\AppData\\Local\\Temp\\ipykernel_32644\\2206982253.py:345: VisibleDeprecationWarning: Creating an ndarray from ragged nested sequences (which is a list-or-tuple of lists-or-tuples-or ndarrays with different lengths or shapes) is deprecated. If you meant to do this, you must specify 'dtype=object' when creating the ndarray.\n",
      "  print(np.array(L_only_energy).shape)\n"
     ]
    },
    {
     "name": "stdout",
     "output_type": "stream",
     "text": [
      "(12,)\n",
      "(12, 60)\n",
      "Energy values > threshold:  (12, 60)\n",
      "L Energy Values:  (12, 60)\n",
      "All Energy Values:  (12, 60)\n",
      "Upper Threshold Energy Values:  (12, 60)\n",
      "Lower Threshold Energy Values:  (12, 60)\n",
      "(12, 60)\n",
      "(12, 60)\n",
      "Upper Threshold RMSD Values:  (12, 60)\n",
      "Lower Threshold RMSD Values:  (12, 60)\n",
      "[1.0, 2.0, 3.0, 4.0, 5.0, 6.0, 7.0, 8.0, 9.0, 10.0, 11.0, 12.0]\n",
      "Total Combinations for  12  is:  132\n"
     ]
    },
    {
     "name": "stderr",
     "output_type": "stream",
     "text": [
      "C:\\Users\\sali85\\Anaconda3\\envs\\New_Env_2\\lib\\site-packages\\openpyxl\\worksheet\\_reader.py:329: UserWarning: Unknown extension is not supported and will be removed\n",
      "  warn(msg)\n"
     ]
    },
    {
     "name": "stdout",
     "output_type": "stream",
     "text": [
      "checking!!\n"
     ]
    },
    {
     "name": "stderr",
     "output_type": "stream",
     "text": [
      "C:\\Users\\sali85\\AppData\\Local\\Temp\\ipykernel_32644\\2206982253.py:345: VisibleDeprecationWarning: Creating an ndarray from ragged nested sequences (which is a list-or-tuple of lists-or-tuples-or ndarrays with different lengths or shapes) is deprecated. If you meant to do this, you must specify 'dtype=object' when creating the ndarray.\n",
      "  print(np.array(L_only_energy).shape)\n"
     ]
    },
    {
     "name": "stdout",
     "output_type": "stream",
     "text": [
      "(12,)\n",
      "(12, 60)\n",
      "Energy values > threshold:  (12, 60)\n",
      "L Energy Values:  (12, 60)\n",
      "All Energy Values:  (12, 60)\n",
      "Upper Threshold Energy Values:  (12, 60)\n",
      "Lower Threshold Energy Values:  (12, 60)\n",
      "(12, 60)\n",
      "(12, 60)\n",
      "Upper Threshold RMSD Values:  (12, 60)\n",
      "Lower Threshold RMSD Values:  (12, 60)\n",
      "[3.8, 4.8, 5.8, 6.8, 7.8, 8.8, 9.8, 10.8, 11.8, 12.8, 13.8, 14.8]\n",
      "Total Combinations for  12  is:  132\n"
     ]
    },
    {
     "name": "stderr",
     "output_type": "stream",
     "text": [
      "C:\\Users\\sali85\\Anaconda3\\envs\\New_Env_2\\lib\\site-packages\\openpyxl\\worksheet\\_reader.py:329: UserWarning: Unknown extension is not supported and will be removed\n",
      "  warn(msg)\n"
     ]
    },
    {
     "name": "stdout",
     "output_type": "stream",
     "text": [
      "checking!!\n",
      "(7, 1318)\n",
      "(7, 60)\n",
      "Energy values > threshold:  (7, 60)\n",
      "L Energy Values:  (7, 60)\n",
      "All Energy Values:  (7, 60)\n",
      "Upper Threshold Energy Values:  (7, 60)\n",
      "Lower Threshold Energy Values:  (7, 60)\n",
      "(7, 60)\n",
      "(7, 60)\n",
      "Upper Threshold RMSD Values:  (7, 60)\n",
      "Lower Threshold RMSD Values:  (7, 60)\n",
      "[270.0, 271.0, 272.0, 273.0, 274.0, 275.0, 276.0]\n",
      "Total Combinations for  7  is:  42\n"
     ]
    },
    {
     "name": "stderr",
     "output_type": "stream",
     "text": [
      "C:\\Users\\sali85\\Anaconda3\\envs\\New_Env_2\\lib\\site-packages\\openpyxl\\worksheet\\_reader.py:329: UserWarning: Unknown extension is not supported and will be removed\n",
      "  warn(msg)\n"
     ]
    },
    {
     "name": "stdout",
     "output_type": "stream",
     "text": [
      "checking!!\n",
      "(7, 1318)\n",
      "(7, 60)\n",
      "Energy values > threshold:  (7, 60)\n",
      "L Energy Values:  (7, 60)\n",
      "All Energy Values:  (7, 60)\n",
      "Upper Threshold Energy Values:  (7, 60)\n",
      "Lower Threshold Energy Values:  (7, 60)\n",
      "(7, 60)\n",
      "(7, 60)\n",
      "Upper Threshold RMSD Values:  (7, 60)\n",
      "Lower Threshold RMSD Values:  (7, 60)\n",
      "[220.0, 221.0, 222.0, 223.0, 224.0, 225.0, 226.0]\n",
      "Total Combinations for  7  is:  42\n"
     ]
    },
    {
     "name": "stderr",
     "output_type": "stream",
     "text": [
      "C:\\Users\\sali85\\Anaconda3\\envs\\New_Env_2\\lib\\site-packages\\openpyxl\\worksheet\\_reader.py:329: UserWarning: Unknown extension is not supported and will be removed\n",
      "  warn(msg)\n"
     ]
    },
    {
     "name": "stdout",
     "output_type": "stream",
     "text": [
      "checking!!\n"
     ]
    },
    {
     "name": "stderr",
     "output_type": "stream",
     "text": [
      "C:\\Users\\sali85\\AppData\\Local\\Temp\\ipykernel_32644\\2206982253.py:345: VisibleDeprecationWarning: Creating an ndarray from ragged nested sequences (which is a list-or-tuple of lists-or-tuples-or ndarrays with different lengths or shapes) is deprecated. If you meant to do this, you must specify 'dtype=object' when creating the ndarray.\n",
      "  print(np.array(L_only_energy).shape)\n"
     ]
    },
    {
     "name": "stdout",
     "output_type": "stream",
     "text": [
      "(6,)\n",
      "(6, 60)\n",
      "Energy values > threshold:  (6, 60)\n",
      "L Energy Values:  (6, 60)\n",
      "All Energy Values:  (6, 60)\n",
      "Upper Threshold Energy Values:  (6, 60)\n",
      "Lower Threshold Energy Values:  (6, 60)\n",
      "(6, 60)\n",
      "(6, 60)\n",
      "Upper Threshold RMSD Values:  (6, 60)\n",
      "Lower Threshold RMSD Values:  (6, 60)\n",
      "[15800.0, 15801.0, 15802.0, 15803.0, 15804.0, 15805.0]\n",
      "Total Combinations for  6  is:  30\n"
     ]
    },
    {
     "name": "stderr",
     "output_type": "stream",
     "text": [
      "C:\\Users\\sali85\\Anaconda3\\envs\\New_Env_2\\lib\\site-packages\\openpyxl\\worksheet\\_reader.py:329: UserWarning: Unknown extension is not supported and will be removed\n",
      "  warn(msg)\n"
     ]
    },
    {
     "name": "stdout",
     "output_type": "stream",
     "text": [
      "checking!!\n",
      "(6, 1318)\n",
      "(6, 60)\n",
      "Energy values > threshold:  (6, 60)\n",
      "L Energy Values:  (6, 60)\n",
      "All Energy Values:  (6, 60)\n",
      "Upper Threshold Energy Values:  (6, 60)\n",
      "Lower Threshold Energy Values:  (6, 60)\n",
      "(6, 60)\n",
      "(6, 60)\n",
      "Upper Threshold RMSD Values:  (6, 60)\n",
      "Lower Threshold RMSD Values:  (6, 60)\n",
      "[1580.0, 1581.0, 1582.0, 1583.0, 1584.0, 1585.0]\n",
      "Total Combinations for  6  is:  30\n"
     ]
    },
    {
     "name": "stderr",
     "output_type": "stream",
     "text": [
      "C:\\Users\\sali85\\Anaconda3\\envs\\New_Env_2\\lib\\site-packages\\openpyxl\\worksheet\\_reader.py:329: UserWarning: Unknown extension is not supported and will be removed\n",
      "  warn(msg)\n"
     ]
    },
    {
     "name": "stdout",
     "output_type": "stream",
     "text": [
      "checking!!\n"
     ]
    },
    {
     "name": "stderr",
     "output_type": "stream",
     "text": [
      "C:\\Users\\sali85\\AppData\\Local\\Temp\\ipykernel_32644\\2206982253.py:345: VisibleDeprecationWarning: Creating an ndarray from ragged nested sequences (which is a list-or-tuple of lists-or-tuples-or ndarrays with different lengths or shapes) is deprecated. If you meant to do this, you must specify 'dtype=object' when creating the ndarray.\n",
      "  print(np.array(L_only_energy).shape)\n"
     ]
    },
    {
     "name": "stdout",
     "output_type": "stream",
     "text": [
      "(12,)\n",
      "(12, 60)\n",
      "Energy values > threshold:  (12, 60)\n",
      "L Energy Values:  (12, 60)\n",
      "All Energy Values:  (12, 60)\n",
      "Upper Threshold Energy Values:  (12, 60)\n",
      "Lower Threshold Energy Values:  (12, 60)\n",
      "(12, 60)\n",
      "(12, 60)\n",
      "Upper Threshold RMSD Values:  (12, 60)\n",
      "Lower Threshold RMSD Values:  (12, 60)\n",
      "[0.054, 1.054, 2.0540000000000003, 3.0540000000000003, 4.054, 5.054, 6.054, 7.054, 8.054, 9.054, 10.054, 11.054]\n",
      "Total Combinations for  12  is:  132\n"
     ]
    },
    {
     "name": "stderr",
     "output_type": "stream",
     "text": [
      "C:\\Users\\sali85\\Anaconda3\\envs\\New_Env_2\\lib\\site-packages\\openpyxl\\worksheet\\_reader.py:329: UserWarning: Unknown extension is not supported and will be removed\n",
      "  warn(msg)\n"
     ]
    },
    {
     "name": "stdout",
     "output_type": "stream",
     "text": [
      "checking!!\n"
     ]
    },
    {
     "name": "stderr",
     "output_type": "stream",
     "text": [
      "C:\\Users\\sali85\\AppData\\Local\\Temp\\ipykernel_32644\\2206982253.py:345: VisibleDeprecationWarning: Creating an ndarray from ragged nested sequences (which is a list-or-tuple of lists-or-tuples-or ndarrays with different lengths or shapes) is deprecated. If you meant to do this, you must specify 'dtype=object' when creating the ndarray.\n",
      "  print(np.array(L_only_energy).shape)\n"
     ]
    },
    {
     "name": "stdout",
     "output_type": "stream",
     "text": [
      "(12,)\n",
      "(12, 60)\n",
      "Energy values > threshold:  (12, 60)\n",
      "L Energy Values:  (12, 60)\n",
      "All Energy Values:  (12, 60)\n",
      "Upper Threshold Energy Values:  (12, 60)\n",
      "Lower Threshold Energy Values:  (12, 60)\n",
      "(12, 60)\n",
      "(12, 60)\n",
      "Upper Threshold RMSD Values:  (12, 60)\n",
      "Lower Threshold RMSD Values:  (12, 60)\n",
      "[112.0, 113.0, 114.0, 115.0, 116.0, 117.0, 118.0, 119.0, 120.0, 121.0, 122.0, 123.0]\n",
      "Total Combinations for  12  is:  132\n"
     ]
    },
    {
     "name": "stderr",
     "output_type": "stream",
     "text": [
      "C:\\Users\\sali85\\Anaconda3\\envs\\New_Env_2\\lib\\site-packages\\openpyxl\\worksheet\\_reader.py:329: UserWarning: Unknown extension is not supported and will be removed\n",
      "  warn(msg)\n"
     ]
    },
    {
     "name": "stdout",
     "output_type": "stream",
     "text": [
      "checking!!\n"
     ]
    },
    {
     "name": "stderr",
     "output_type": "stream",
     "text": [
      "C:\\Users\\sali85\\AppData\\Local\\Temp\\ipykernel_32644\\2206982253.py:345: VisibleDeprecationWarning: Creating an ndarray from ragged nested sequences (which is a list-or-tuple of lists-or-tuples-or ndarrays with different lengths or shapes) is deprecated. If you meant to do this, you must specify 'dtype=object' when creating the ndarray.\n",
      "  print(np.array(L_only_energy).shape)\n"
     ]
    },
    {
     "name": "stdout",
     "output_type": "stream",
     "text": [
      "(12,)\n",
      "(12, 60)\n",
      "Energy values > threshold:  (12, 60)\n",
      "L Energy Values:  (12, 60)\n",
      "All Energy Values:  (12, 60)\n",
      "Upper Threshold Energy Values:  (12, 60)\n",
      "Lower Threshold Energy Values:  (12, 60)\n",
      "(12, 60)\n",
      "(12, 60)\n",
      "Upper Threshold RMSD Values:  (12, 60)\n",
      "Lower Threshold RMSD Values:  (12, 60)\n",
      "[270.0, 271.0, 272.0, 273.0, 274.0, 275.0, 276.0, 277.0, 278.0, 279.0, 280.0, 281.0]\n",
      "Total Combinations for  12  is:  132\n"
     ]
    },
    {
     "name": "stderr",
     "output_type": "stream",
     "text": [
      "C:\\Users\\sali85\\Anaconda3\\envs\\New_Env_2\\lib\\site-packages\\openpyxl\\worksheet\\_reader.py:329: UserWarning: Unknown extension is not supported and will be removed\n",
      "  warn(msg)\n"
     ]
    },
    {
     "name": "stdout",
     "output_type": "stream",
     "text": [
      "checking!!\n"
     ]
    },
    {
     "name": "stderr",
     "output_type": "stream",
     "text": [
      "C:\\Users\\sali85\\AppData\\Local\\Temp\\ipykernel_32644\\2206982253.py:345: VisibleDeprecationWarning: Creating an ndarray from ragged nested sequences (which is a list-or-tuple of lists-or-tuples-or ndarrays with different lengths or shapes) is deprecated. If you meant to do this, you must specify 'dtype=object' when creating the ndarray.\n",
      "  print(np.array(L_only_energy).shape)\n"
     ]
    },
    {
     "name": "stdout",
     "output_type": "stream",
     "text": [
      "(10,)\n",
      "(10, 60)\n",
      "Energy values > threshold:  (10, 60)\n",
      "L Energy Values:  (10, 60)\n",
      "All Energy Values:  (10, 60)\n",
      "Upper Threshold Energy Values:  (10, 60)\n",
      "Lower Threshold Energy Values:  (10, 60)\n",
      "(10, 60)\n",
      "(10, 60)\n",
      "Upper Threshold RMSD Values:  (10, 60)\n",
      "Lower Threshold RMSD Values:  (10, 60)\n",
      "[855.0, 856.0, 857.0, 858.0, 859.0, 860.0, 861.0, 862.0, 863.0, 864.0]\n",
      "Total Combinations for  10  is:  90\n"
     ]
    },
    {
     "name": "stderr",
     "output_type": "stream",
     "text": [
      "C:\\Users\\sali85\\Anaconda3\\envs\\New_Env_2\\lib\\site-packages\\openpyxl\\worksheet\\_reader.py:329: UserWarning: Unknown extension is not supported and will be removed\n",
      "  warn(msg)\n"
     ]
    },
    {
     "name": "stdout",
     "output_type": "stream",
     "text": [
      "checking!!\n"
     ]
    },
    {
     "name": "stderr",
     "output_type": "stream",
     "text": [
      "C:\\Users\\sali85\\AppData\\Local\\Temp\\ipykernel_32644\\2206982253.py:345: VisibleDeprecationWarning: Creating an ndarray from ragged nested sequences (which is a list-or-tuple of lists-or-tuples-or ndarrays with different lengths or shapes) is deprecated. If you meant to do this, you must specify 'dtype=object' when creating the ndarray.\n",
      "  print(np.array(L_only_energy).shape)\n"
     ]
    },
    {
     "name": "stdout",
     "output_type": "stream",
     "text": [
      "(10,)\n",
      "(10, 60)\n",
      "Energy values > threshold:  (10, 60)\n",
      "L Energy Values:  (10, 60)\n",
      "All Energy Values:  (10, 60)\n",
      "Upper Threshold Energy Values:  (10, 60)\n",
      "Lower Threshold Energy Values:  (10, 60)\n",
      "(10, 60)\n",
      "(10, 60)\n",
      "Upper Threshold RMSD Values:  (10, 60)\n",
      "Lower Threshold RMSD Values:  (10, 60)\n",
      "[24.0, 25.0, 26.0, 27.0, 28.0, 29.0, 30.0, 31.0, 32.0, 33.0]\n",
      "Total Combinations for  10  is:  90\n"
     ]
    },
    {
     "name": "stderr",
     "output_type": "stream",
     "text": [
      "C:\\Users\\sali85\\Anaconda3\\envs\\New_Env_2\\lib\\site-packages\\openpyxl\\worksheet\\_reader.py:329: UserWarning: Unknown extension is not supported and will be removed\n",
      "  warn(msg)\n"
     ]
    },
    {
     "name": "stdout",
     "output_type": "stream",
     "text": [
      "checking!!\n"
     ]
    },
    {
     "name": "stderr",
     "output_type": "stream",
     "text": [
      "C:\\Users\\sali85\\AppData\\Local\\Temp\\ipykernel_32644\\2206982253.py:345: VisibleDeprecationWarning: Creating an ndarray from ragged nested sequences (which is a list-or-tuple of lists-or-tuples-or ndarrays with different lengths or shapes) is deprecated. If you meant to do this, you must specify 'dtype=object' when creating the ndarray.\n",
      "  print(np.array(L_only_energy).shape)\n"
     ]
    },
    {
     "name": "stdout",
     "output_type": "stream",
     "text": [
      "(10,)\n",
      "(10, 60)\n",
      "Energy values > threshold:  (10, 60)\n",
      "L Energy Values:  (10, 60)\n",
      "All Energy Values:  (10, 60)\n",
      "Upper Threshold Energy Values:  (10, 60)\n",
      "Lower Threshold Energy Values:  (10, 60)\n",
      "(10, 60)\n",
      "(10, 60)\n",
      "Upper Threshold RMSD Values:  (10, 60)\n",
      "Lower Threshold RMSD Values:  (10, 60)\n",
      "[37.0, 38.0, 39.0, 40.0, 41.0, 42.0, 43.0, 44.0, 45.0, 46.0]\n",
      "Total Combinations for  10  is:  90\n"
     ]
    },
    {
     "name": "stderr",
     "output_type": "stream",
     "text": [
      "C:\\Users\\sali85\\Anaconda3\\envs\\New_Env_2\\lib\\site-packages\\openpyxl\\worksheet\\_reader.py:329: UserWarning: Unknown extension is not supported and will be removed\n",
      "  warn(msg)\n"
     ]
    },
    {
     "name": "stdout",
     "output_type": "stream",
     "text": [
      "checking!!\n"
     ]
    },
    {
     "name": "stderr",
     "output_type": "stream",
     "text": [
      "C:\\Users\\sali85\\AppData\\Local\\Temp\\ipykernel_32644\\2206982253.py:345: VisibleDeprecationWarning: Creating an ndarray from ragged nested sequences (which is a list-or-tuple of lists-or-tuples-or ndarrays with different lengths or shapes) is deprecated. If you meant to do this, you must specify 'dtype=object' when creating the ndarray.\n",
      "  print(np.array(L_only_energy).shape)\n"
     ]
    },
    {
     "name": "stdout",
     "output_type": "stream",
     "text": [
      "(10,)\n",
      "(10, 60)\n",
      "Energy values > threshold:  (10, 60)\n",
      "L Energy Values:  (10, 60)\n",
      "All Energy Values:  (10, 60)\n",
      "Upper Threshold Energy Values:  (10, 60)\n",
      "Lower Threshold Energy Values:  (10, 60)\n",
      "(10, 60)\n",
      "(10, 60)\n",
      "Upper Threshold RMSD Values:  (10, 60)\n",
      "Lower Threshold RMSD Values:  (10, 60)\n",
      "[21.0, 22.0, 23.0, 24.0, 25.0, 26.0, 27.0, 28.0, 29.0, 30.0]\n",
      "Total Combinations for  10  is:  90\n"
     ]
    },
    {
     "name": "stderr",
     "output_type": "stream",
     "text": [
      "C:\\Users\\sali85\\Anaconda3\\envs\\New_Env_2\\lib\\site-packages\\openpyxl\\worksheet\\_reader.py:329: UserWarning: Unknown extension is not supported and will be removed\n",
      "  warn(msg)\n"
     ]
    },
    {
     "name": "stdout",
     "output_type": "stream",
     "text": [
      "checking!!\n"
     ]
    },
    {
     "name": "stderr",
     "output_type": "stream",
     "text": [
      "C:\\Users\\sali85\\AppData\\Local\\Temp\\ipykernel_32644\\2206982253.py:345: VisibleDeprecationWarning: Creating an ndarray from ragged nested sequences (which is a list-or-tuple of lists-or-tuples-or ndarrays with different lengths or shapes) is deprecated. If you meant to do this, you must specify 'dtype=object' when creating the ndarray.\n",
      "  print(np.array(L_only_energy).shape)\n"
     ]
    },
    {
     "name": "stdout",
     "output_type": "stream",
     "text": [
      "(10,)\n",
      "(10, 60)\n",
      "Energy values > threshold:  (10, 60)\n",
      "L Energy Values:  (10, 60)\n",
      "All Energy Values:  (10, 60)\n",
      "Upper Threshold Energy Values:  (10, 60)\n",
      "Lower Threshold Energy Values:  (10, 60)\n",
      "(10, 60)\n",
      "(10, 60)\n",
      "Upper Threshold RMSD Values:  (10, 60)\n",
      "Lower Threshold RMSD Values:  (10, 60)\n",
      "[63.0, 64.0, 65.0, 66.0, 67.0, 68.0, 69.0, 70.0, 71.0, 72.0]\n",
      "Total Combinations for  10  is:  90\n"
     ]
    },
    {
     "name": "stderr",
     "output_type": "stream",
     "text": [
      "C:\\Users\\sali85\\Anaconda3\\envs\\New_Env_2\\lib\\site-packages\\openpyxl\\worksheet\\_reader.py:329: UserWarning: Unknown extension is not supported and will be removed\n",
      "  warn(msg)\n"
     ]
    },
    {
     "name": "stdout",
     "output_type": "stream",
     "text": [
      "checking!!\n"
     ]
    },
    {
     "name": "stderr",
     "output_type": "stream",
     "text": [
      "C:\\Users\\sali85\\AppData\\Local\\Temp\\ipykernel_32644\\2206982253.py:345: VisibleDeprecationWarning: Creating an ndarray from ragged nested sequences (which is a list-or-tuple of lists-or-tuples-or ndarrays with different lengths or shapes) is deprecated. If you meant to do this, you must specify 'dtype=object' when creating the ndarray.\n",
      "  print(np.array(L_only_energy).shape)\n"
     ]
    },
    {
     "name": "stdout",
     "output_type": "stream",
     "text": [
      "(10,)\n",
      "(10, 60)\n",
      "Energy values > threshold:  (10, 60)\n",
      "L Energy Values:  (10, 60)\n",
      "All Energy Values:  (10, 60)\n",
      "Upper Threshold Energy Values:  (10, 60)\n",
      "Lower Threshold Energy Values:  (10, 60)\n",
      "(10, 60)\n",
      "(10, 60)\n",
      "Upper Threshold RMSD Values:  (10, 60)\n",
      "Lower Threshold RMSD Values:  (10, 60)\n",
      "[6.0, 7.0, 8.0, 9.0, 10.0, 11.0, 12.0, 13.0, 14.0, 15.0]\n",
      "Total Combinations for  10  is:  90\n"
     ]
    },
    {
     "name": "stderr",
     "output_type": "stream",
     "text": [
      "C:\\Users\\sali85\\Anaconda3\\envs\\New_Env_2\\lib\\site-packages\\openpyxl\\worksheet\\_reader.py:329: UserWarning: Unknown extension is not supported and will be removed\n",
      "  warn(msg)\n"
     ]
    },
    {
     "name": "stdout",
     "output_type": "stream",
     "text": [
      "checking!!\n"
     ]
    },
    {
     "name": "stderr",
     "output_type": "stream",
     "text": [
      "C:\\Users\\sali85\\AppData\\Local\\Temp\\ipykernel_32644\\2206982253.py:345: VisibleDeprecationWarning: Creating an ndarray from ragged nested sequences (which is a list-or-tuple of lists-or-tuples-or ndarrays with different lengths or shapes) is deprecated. If you meant to do this, you must specify 'dtype=object' when creating the ndarray.\n",
      "  print(np.array(L_only_energy).shape)\n"
     ]
    },
    {
     "name": "stdout",
     "output_type": "stream",
     "text": [
      "(10,)\n",
      "(10, 60)\n",
      "Energy values > threshold:  (10, 60)\n",
      "L Energy Values:  (10, 60)\n",
      "All Energy Values:  (10, 60)\n",
      "Upper Threshold Energy Values:  (10, 60)\n",
      "Lower Threshold Energy Values:  (10, 60)\n",
      "(10, 60)\n",
      "(10, 60)\n",
      "Upper Threshold RMSD Values:  (10, 60)\n",
      "Lower Threshold RMSD Values:  (10, 60)\n",
      "[22.0, 23.0, 24.0, 25.0, 26.0, 27.0, 28.0, 29.0, 30.0, 31.0]\n",
      "Total Combinations for  10  is:  90\n"
     ]
    },
    {
     "name": "stderr",
     "output_type": "stream",
     "text": [
      "C:\\Users\\sali85\\Anaconda3\\envs\\New_Env_2\\lib\\site-packages\\openpyxl\\worksheet\\_reader.py:329: UserWarning: Unknown extension is not supported and will be removed\n",
      "  warn(msg)\n"
     ]
    },
    {
     "name": "stdout",
     "output_type": "stream",
     "text": [
      "checking!!\n"
     ]
    },
    {
     "name": "stderr",
     "output_type": "stream",
     "text": [
      "C:\\Users\\sali85\\AppData\\Local\\Temp\\ipykernel_32644\\2206982253.py:345: VisibleDeprecationWarning: Creating an ndarray from ragged nested sequences (which is a list-or-tuple of lists-or-tuples-or ndarrays with different lengths or shapes) is deprecated. If you meant to do this, you must specify 'dtype=object' when creating the ndarray.\n",
      "  print(np.array(L_only_energy).shape)\n"
     ]
    },
    {
     "name": "stdout",
     "output_type": "stream",
     "text": [
      "(12,)\n",
      "(12, 60)\n",
      "Energy values > threshold:  (12, 60)\n",
      "L Energy Values:  (12, 60)\n",
      "All Energy Values:  (12, 60)\n",
      "Upper Threshold Energy Values:  (12, 60)\n",
      "Lower Threshold Energy Values:  (12, 60)\n",
      "(12, 60)\n",
      "(12, 60)\n",
      "Upper Threshold RMSD Values:  (12, 60)\n",
      "Lower Threshold RMSD Values:  (12, 60)\n",
      "[25.0, 26.0, 27.0, 28.0, 29.0, 30.0, 31.0, 32.0, 33.0, 34.0, 35.0, 36.0]\n",
      "Total Combinations for  12  is:  132\n"
     ]
    },
    {
     "name": "stderr",
     "output_type": "stream",
     "text": [
      "C:\\Users\\sali85\\Anaconda3\\envs\\New_Env_2\\lib\\site-packages\\openpyxl\\worksheet\\_reader.py:329: UserWarning: Unknown extension is not supported and will be removed\n",
      "  warn(msg)\n"
     ]
    },
    {
     "name": "stdout",
     "output_type": "stream",
     "text": [
      "checking!!\n"
     ]
    },
    {
     "name": "stderr",
     "output_type": "stream",
     "text": [
      "C:\\Users\\sali85\\AppData\\Local\\Temp\\ipykernel_32644\\2206982253.py:345: VisibleDeprecationWarning: Creating an ndarray from ragged nested sequences (which is a list-or-tuple of lists-or-tuples-or ndarrays with different lengths or shapes) is deprecated. If you meant to do this, you must specify 'dtype=object' when creating the ndarray.\n",
      "  print(np.array(L_only_energy).shape)\n"
     ]
    },
    {
     "name": "stdout",
     "output_type": "stream",
     "text": [
      "(10,)\n",
      "(10, 60)\n",
      "Energy values > threshold:  (10, 60)\n",
      "L Energy Values:  (10, 60)\n",
      "All Energy Values:  (10, 60)\n",
      "Upper Threshold Energy Values:  (10, 60)\n",
      "Lower Threshold Energy Values:  (10, 60)\n",
      "(10, 60)\n",
      "(10, 60)\n",
      "Upper Threshold RMSD Values:  (10, 60)\n",
      "Lower Threshold RMSD Values:  (10, 60)\n",
      "[64.0, 65.0, 66.0, 67.0, 68.0, 69.0, 70.0, 71.0, 72.0, 73.0]\n",
      "Total Combinations for  10  is:  90\n"
     ]
    },
    {
     "name": "stderr",
     "output_type": "stream",
     "text": [
      "C:\\Users\\sali85\\Anaconda3\\envs\\New_Env_2\\lib\\site-packages\\openpyxl\\worksheet\\_reader.py:329: UserWarning: Unknown extension is not supported and will be removed\n",
      "  warn(msg)\n"
     ]
    },
    {
     "name": "stdout",
     "output_type": "stream",
     "text": [
      "checking!!\n"
     ]
    },
    {
     "name": "stderr",
     "output_type": "stream",
     "text": [
      "C:\\Users\\sali85\\AppData\\Local\\Temp\\ipykernel_32644\\2206982253.py:345: VisibleDeprecationWarning: Creating an ndarray from ragged nested sequences (which is a list-or-tuple of lists-or-tuples-or ndarrays with different lengths or shapes) is deprecated. If you meant to do this, you must specify 'dtype=object' when creating the ndarray.\n",
      "  print(np.array(L_only_energy).shape)\n"
     ]
    },
    {
     "name": "stdout",
     "output_type": "stream",
     "text": [
      "(12,)\n",
      "(12, 60)\n",
      "Energy values > threshold:  (12, 60)\n",
      "L Energy Values:  (12, 60)\n",
      "All Energy Values:  (12, 60)\n",
      "Upper Threshold Energy Values:  (12, 60)\n",
      "Lower Threshold Energy Values:  (12, 60)\n",
      "(12, 60)\n",
      "(12, 60)\n",
      "Upper Threshold RMSD Values:  (12, 60)\n",
      "Lower Threshold RMSD Values:  (12, 60)\n",
      "[110.0, 111.0, 112.0, 113.0, 114.0, 115.0, 116.0, 117.0, 118.0, 119.0, 120.0, 121.0]\n",
      "Total Combinations for  12  is:  132\n"
     ]
    },
    {
     "name": "stderr",
     "output_type": "stream",
     "text": [
      "C:\\Users\\sali85\\Anaconda3\\envs\\New_Env_2\\lib\\site-packages\\openpyxl\\worksheet\\_reader.py:329: UserWarning: Unknown extension is not supported and will be removed\n",
      "  warn(msg)\n"
     ]
    },
    {
     "name": "stdout",
     "output_type": "stream",
     "text": [
      "checking!!\n"
     ]
    },
    {
     "name": "stderr",
     "output_type": "stream",
     "text": [
      "C:\\Users\\sali85\\AppData\\Local\\Temp\\ipykernel_32644\\2206982253.py:345: VisibleDeprecationWarning: Creating an ndarray from ragged nested sequences (which is a list-or-tuple of lists-or-tuples-or ndarrays with different lengths or shapes) is deprecated. If you meant to do this, you must specify 'dtype=object' when creating the ndarray.\n",
      "  print(np.array(L_only_energy).shape)\n"
     ]
    },
    {
     "name": "stdout",
     "output_type": "stream",
     "text": [
      "(11,)\n",
      "(11, 60)\n",
      "Energy values > threshold:  (11, 60)\n",
      "L Energy Values:  (11, 60)\n",
      "All Energy Values:  (11, 60)\n",
      "Upper Threshold Energy Values:  (11, 60)\n",
      "Lower Threshold Energy Values:  (11, 60)\n",
      "(11, 60)\n",
      "(11, 60)\n",
      "Upper Threshold RMSD Values:  (11, 60)\n",
      "Lower Threshold RMSD Values:  (11, 60)\n",
      "[13.0, 14.0, 15.0, 16.0, 17.0, 18.0, 19.0, 20.0, 21.0, 22.0, 23.0]\n",
      "Total Combinations for  11  is:  110\n"
     ]
    },
    {
     "name": "stderr",
     "output_type": "stream",
     "text": [
      "C:\\Users\\sali85\\Anaconda3\\envs\\New_Env_2\\lib\\site-packages\\openpyxl\\worksheet\\_reader.py:329: UserWarning: Unknown extension is not supported and will be removed\n",
      "  warn(msg)\n"
     ]
    },
    {
     "name": "stdout",
     "output_type": "stream",
     "text": [
      "checking!!\n"
     ]
    },
    {
     "name": "stderr",
     "output_type": "stream",
     "text": [
      "C:\\Users\\sali85\\AppData\\Local\\Temp\\ipykernel_32644\\2206982253.py:345: VisibleDeprecationWarning: Creating an ndarray from ragged nested sequences (which is a list-or-tuple of lists-or-tuples-or ndarrays with different lengths or shapes) is deprecated. If you meant to do this, you must specify 'dtype=object' when creating the ndarray.\n",
      "  print(np.array(L_only_energy).shape)\n"
     ]
    },
    {
     "name": "stdout",
     "output_type": "stream",
     "text": [
      "(11,)\n",
      "(11, 60)\n",
      "Energy values > threshold:  (11, 60)\n",
      "L Energy Values:  (11, 60)\n",
      "All Energy Values:  (11, 60)\n",
      "Upper Threshold Energy Values:  (11, 60)\n",
      "Lower Threshold Energy Values:  (11, 60)\n",
      "(11, 60)\n",
      "(11, 60)\n",
      "Upper Threshold RMSD Values:  (11, 60)\n",
      "Lower Threshold RMSD Values:  (11, 60)\n",
      "[534.8, 535.8, 536.8, 537.8, 538.8, 539.8, 540.8, 541.8, 542.8, 543.8, 544.8]\n",
      "Total Combinations for  11  is:  110\n"
     ]
    },
    {
     "name": "stderr",
     "output_type": "stream",
     "text": [
      "C:\\Users\\sali85\\Anaconda3\\envs\\New_Env_2\\lib\\site-packages\\openpyxl\\worksheet\\_reader.py:329: UserWarning: Unknown extension is not supported and will be removed\n",
      "  warn(msg)\n"
     ]
    },
    {
     "name": "stdout",
     "output_type": "stream",
     "text": [
      "checking!!\n"
     ]
    },
    {
     "name": "stderr",
     "output_type": "stream",
     "text": [
      "C:\\Users\\sali85\\AppData\\Local\\Temp\\ipykernel_32644\\2206982253.py:345: VisibleDeprecationWarning: Creating an ndarray from ragged nested sequences (which is a list-or-tuple of lists-or-tuples-or ndarrays with different lengths or shapes) is deprecated. If you meant to do this, you must specify 'dtype=object' when creating the ndarray.\n",
      "  print(np.array(L_only_energy).shape)\n"
     ]
    },
    {
     "name": "stdout",
     "output_type": "stream",
     "text": [
      "(11,)\n",
      "(11, 60)\n",
      "Energy values > threshold:  (11, 60)\n",
      "L Energy Values:  (11, 60)\n",
      "All Energy Values:  (11, 60)\n",
      "Upper Threshold Energy Values:  (11, 60)\n",
      "Lower Threshold Energy Values:  (11, 60)\n",
      "(11, 60)\n",
      "(11, 60)\n",
      "Upper Threshold RMSD Values:  (11, 60)\n",
      "Lower Threshold RMSD Values:  (11, 60)\n",
      "[238.1, 239.1, 240.1, 241.1, 242.1, 243.1, 244.1, 245.1, 246.1, 247.1, 248.1]\n",
      "Total Combinations for  11  is:  110\n"
     ]
    },
    {
     "name": "stderr",
     "output_type": "stream",
     "text": [
      "C:\\Users\\sali85\\Anaconda3\\envs\\New_Env_2\\lib\\site-packages\\openpyxl\\worksheet\\_reader.py:329: UserWarning: Unknown extension is not supported and will be removed\n",
      "  warn(msg)\n"
     ]
    },
    {
     "name": "stdout",
     "output_type": "stream",
     "text": [
      "checking!!\n"
     ]
    },
    {
     "name": "stderr",
     "output_type": "stream",
     "text": [
      "C:\\Users\\sali85\\AppData\\Local\\Temp\\ipykernel_32644\\2206982253.py:345: VisibleDeprecationWarning: Creating an ndarray from ragged nested sequences (which is a list-or-tuple of lists-or-tuples-or ndarrays with different lengths or shapes) is deprecated. If you meant to do this, you must specify 'dtype=object' when creating the ndarray.\n",
      "  print(np.array(L_only_energy).shape)\n"
     ]
    },
    {
     "name": "stdout",
     "output_type": "stream",
     "text": [
      "(11,)\n",
      "(11, 60)\n",
      "Energy values > threshold:  (11, 60)\n",
      "L Energy Values:  (11, 60)\n",
      "All Energy Values:  (11, 60)\n",
      "Upper Threshold Energy Values:  (11, 60)\n",
      "Lower Threshold Energy Values:  (11, 60)\n",
      "(11, 60)\n",
      "(11, 60)\n",
      "Upper Threshold RMSD Values:  (11, 60)\n",
      "Lower Threshold RMSD Values:  (11, 60)\n",
      "[219.8, 220.8, 221.8, 222.8, 223.8, 224.8, 225.8, 226.8, 227.8, 228.8, 229.8]\n",
      "Total Combinations for  11  is:  110\n"
     ]
    },
    {
     "name": "stderr",
     "output_type": "stream",
     "text": [
      "C:\\Users\\sali85\\Anaconda3\\envs\\New_Env_2\\lib\\site-packages\\openpyxl\\worksheet\\_reader.py:329: UserWarning: Unknown extension is not supported and will be removed\n",
      "  warn(msg)\n"
     ]
    },
    {
     "name": "stdout",
     "output_type": "stream",
     "text": [
      "checking!!\n"
     ]
    },
    {
     "name": "stderr",
     "output_type": "stream",
     "text": [
      "C:\\Users\\sali85\\AppData\\Local\\Temp\\ipykernel_32644\\2206982253.py:345: VisibleDeprecationWarning: Creating an ndarray from ragged nested sequences (which is a list-or-tuple of lists-or-tuples-or ndarrays with different lengths or shapes) is deprecated. If you meant to do this, you must specify 'dtype=object' when creating the ndarray.\n",
      "  print(np.array(L_only_energy).shape)\n"
     ]
    },
    {
     "name": "stdout",
     "output_type": "stream",
     "text": [
      "(11,)\n",
      "(11, 60)\n",
      "Energy values > threshold:  (11, 60)\n",
      "L Energy Values:  (11, 60)\n",
      "All Energy Values:  (11, 60)\n",
      "Upper Threshold Energy Values:  (11, 60)\n",
      "Lower Threshold Energy Values:  (11, 60)\n",
      "(11, 60)\n",
      "(11, 60)\n",
      "Upper Threshold RMSD Values:  (11, 60)\n",
      "Lower Threshold RMSD Values:  (11, 60)\n",
      "[32.0, 33.0, 34.0, 35.0, 36.0, 37.0, 38.0, 39.0, 40.0, 41.0, 42.0]\n",
      "Total Combinations for  11  is:  110\n"
     ]
    },
    {
     "name": "stderr",
     "output_type": "stream",
     "text": [
      "C:\\Users\\sali85\\Anaconda3\\envs\\New_Env_2\\lib\\site-packages\\openpyxl\\worksheet\\_reader.py:329: UserWarning: Unknown extension is not supported and will be removed\n",
      "  warn(msg)\n"
     ]
    },
    {
     "name": "stdout",
     "output_type": "stream",
     "text": [
      "checking!!\n"
     ]
    },
    {
     "name": "stderr",
     "output_type": "stream",
     "text": [
      "C:\\Users\\sali85\\AppData\\Local\\Temp\\ipykernel_32644\\2206982253.py:345: VisibleDeprecationWarning: Creating an ndarray from ragged nested sequences (which is a list-or-tuple of lists-or-tuples-or ndarrays with different lengths or shapes) is deprecated. If you meant to do this, you must specify 'dtype=object' when creating the ndarray.\n",
      "  print(np.array(L_only_energy).shape)\n"
     ]
    },
    {
     "name": "stdout",
     "output_type": "stream",
     "text": [
      "(12,)\n",
      "(12, 60)\n",
      "Energy values > threshold:  (12, 60)\n",
      "L Energy Values:  (12, 60)\n",
      "All Energy Values:  (12, 60)\n",
      "Upper Threshold Energy Values:  (12, 60)\n",
      "Lower Threshold Energy Values:  (12, 60)\n",
      "(12, 60)\n",
      "(12, 60)\n",
      "Upper Threshold RMSD Values:  (12, 60)\n",
      "Lower Threshold RMSD Values:  (12, 60)\n",
      "[21.0, 22.0, 23.0, 24.0, 25.0, 26.0, 27.0, 28.0, 29.0, 30.0, 31.0, 32.0]\n",
      "Total Combinations for  12  is:  132\n"
     ]
    },
    {
     "name": "stderr",
     "output_type": "stream",
     "text": [
      "C:\\Users\\sali85\\Anaconda3\\envs\\New_Env_2\\lib\\site-packages\\openpyxl\\worksheet\\_reader.py:329: UserWarning: Unknown extension is not supported and will be removed\n",
      "  warn(msg)\n"
     ]
    },
    {
     "name": "stdout",
     "output_type": "stream",
     "text": [
      "checking!!\n"
     ]
    },
    {
     "name": "stderr",
     "output_type": "stream",
     "text": [
      "C:\\Users\\sali85\\AppData\\Local\\Temp\\ipykernel_32644\\2206982253.py:345: VisibleDeprecationWarning: Creating an ndarray from ragged nested sequences (which is a list-or-tuple of lists-or-tuples-or ndarrays with different lengths or shapes) is deprecated. If you meant to do this, you must specify 'dtype=object' when creating the ndarray.\n",
      "  print(np.array(L_only_energy).shape)\n"
     ]
    },
    {
     "name": "stdout",
     "output_type": "stream",
     "text": [
      "(12,)\n",
      "(12, 60)\n",
      "Energy values > threshold:  (12, 60)\n",
      "L Energy Values:  (12, 60)\n",
      "All Energy Values:  (12, 60)\n",
      "Upper Threshold Energy Values:  (12, 60)\n",
      "Lower Threshold Energy Values:  (12, 60)\n",
      "(12, 60)\n",
      "(12, 60)\n",
      "Upper Threshold RMSD Values:  (12, 60)\n",
      "Lower Threshold RMSD Values:  (12, 60)\n",
      "[13.0, 14.0, 15.0, 16.0, 17.0, 18.0, 19.0, 20.0, 21.0, 22.0, 23.0, 24.0]\n",
      "Total Combinations for  12  is:  132\n"
     ]
    },
    {
     "name": "stderr",
     "output_type": "stream",
     "text": [
      "C:\\Users\\sali85\\Anaconda3\\envs\\New_Env_2\\lib\\site-packages\\openpyxl\\worksheet\\_reader.py:329: UserWarning: Unknown extension is not supported and will be removed\n",
      "  warn(msg)\n"
     ]
    },
    {
     "name": "stdout",
     "output_type": "stream",
     "text": [
      "checking!!\n"
     ]
    },
    {
     "name": "stderr",
     "output_type": "stream",
     "text": [
      "C:\\Users\\sali85\\AppData\\Local\\Temp\\ipykernel_32644\\2206982253.py:345: VisibleDeprecationWarning: Creating an ndarray from ragged nested sequences (which is a list-or-tuple of lists-or-tuples-or ndarrays with different lengths or shapes) is deprecated. If you meant to do this, you must specify 'dtype=object' when creating the ndarray.\n",
      "  print(np.array(L_only_energy).shape)\n"
     ]
    },
    {
     "name": "stdout",
     "output_type": "stream",
     "text": [
      "(12,)\n",
      "(12, 60)\n",
      "Energy values > threshold:  (12, 60)\n",
      "L Energy Values:  (12, 60)\n",
      "All Energy Values:  (12, 60)\n",
      "Upper Threshold Energy Values:  (12, 60)\n",
      "Lower Threshold Energy Values:  (12, 60)\n",
      "(12, 60)\n",
      "(12, 60)\n",
      "Upper Threshold RMSD Values:  (12, 60)\n",
      "Lower Threshold RMSD Values:  (12, 60)\n",
      "[160.0, 161.0, 162.0, 163.0, 164.0, 165.0, 166.0, 167.0, 168.0, 169.0, 170.0, 171.0]\n",
      "Total Combinations for  12  is:  132\n"
     ]
    },
    {
     "name": "stderr",
     "output_type": "stream",
     "text": [
      "C:\\Users\\sali85\\Anaconda3\\envs\\New_Env_2\\lib\\site-packages\\openpyxl\\worksheet\\_reader.py:329: UserWarning: Unknown extension is not supported and will be removed\n",
      "  warn(msg)\n"
     ]
    },
    {
     "name": "stdout",
     "output_type": "stream",
     "text": [
      "checking!!\n"
     ]
    },
    {
     "name": "stderr",
     "output_type": "stream",
     "text": [
      "C:\\Users\\sali85\\AppData\\Local\\Temp\\ipykernel_32644\\2206982253.py:345: VisibleDeprecationWarning: Creating an ndarray from ragged nested sequences (which is a list-or-tuple of lists-or-tuples-or ndarrays with different lengths or shapes) is deprecated. If you meant to do this, you must specify 'dtype=object' when creating the ndarray.\n",
      "  print(np.array(L_only_energy).shape)\n"
     ]
    },
    {
     "name": "stdout",
     "output_type": "stream",
     "text": [
      "(7,)\n",
      "(7, 60)\n",
      "Energy values > threshold:  (7, 60)\n",
      "L Energy Values:  (7, 60)\n",
      "All Energy Values:  (7, 60)\n",
      "Upper Threshold Energy Values:  (7, 60)\n",
      "Lower Threshold Energy Values:  (7, 60)\n",
      "(7, 60)\n",
      "(7, 60)\n",
      "Upper Threshold RMSD Values:  (7, 60)\n",
      "Lower Threshold RMSD Values:  (7, 60)\n",
      "[2770.0, 2771.0, 2772.0, 2773.0, 2774.0, 2775.0, 2776.0]\n",
      "Total Combinations for  7  is:  42\n"
     ]
    },
    {
     "name": "stderr",
     "output_type": "stream",
     "text": [
      "C:\\Users\\sali85\\Anaconda3\\envs\\New_Env_2\\lib\\site-packages\\openpyxl\\worksheet\\_reader.py:329: UserWarning: Unknown extension is not supported and will be removed\n",
      "  warn(msg)\n"
     ]
    },
    {
     "name": "stdout",
     "output_type": "stream",
     "text": [
      "checking!!\n",
      "(8, 1318)\n",
      "(8, 60)\n",
      "Energy values > threshold:  (8, 60)\n",
      "L Energy Values:  (8, 60)\n",
      "All Energy Values:  (8, 60)\n",
      "Upper Threshold Energy Values:  (8, 60)\n",
      "Lower Threshold Energy Values:  (8, 60)\n",
      "(8, 60)\n",
      "(8, 60)\n",
      "Upper Threshold RMSD Values:  (8, 60)\n",
      "Lower Threshold RMSD Values:  (8, 60)\n",
      "[3770.0, 3771.0, 3772.0, 3773.0, 3774.0, 3775.0, 3776.0, 3777.0]\n",
      "Total Combinations for  8  is:  56\n"
     ]
    },
    {
     "name": "stderr",
     "output_type": "stream",
     "text": [
      "C:\\Users\\sali85\\Anaconda3\\envs\\New_Env_2\\lib\\site-packages\\openpyxl\\worksheet\\_reader.py:329: UserWarning: Unknown extension is not supported and will be removed\n",
      "  warn(msg)\n"
     ]
    },
    {
     "name": "stdout",
     "output_type": "stream",
     "text": [
      "checking!!\n"
     ]
    },
    {
     "name": "stderr",
     "output_type": "stream",
     "text": [
      "C:\\Users\\sali85\\AppData\\Local\\Temp\\ipykernel_32644\\2206982253.py:345: VisibleDeprecationWarning: Creating an ndarray from ragged nested sequences (which is a list-or-tuple of lists-or-tuples-or ndarrays with different lengths or shapes) is deprecated. If you meant to do this, you must specify 'dtype=object' when creating the ndarray.\n",
      "  print(np.array(L_only_energy).shape)\n"
     ]
    },
    {
     "name": "stdout",
     "output_type": "stream",
     "text": [
      "(7,)\n",
      "(7, 60)\n",
      "Energy values > threshold:  (7, 60)\n",
      "L Energy Values:  (7, 60)\n",
      "All Energy Values:  (7, 60)\n",
      "Upper Threshold Energy Values:  (7, 60)\n",
      "Lower Threshold Energy Values:  (7, 60)\n",
      "(7, 60)\n",
      "(7, 60)\n",
      "Upper Threshold RMSD Values:  (7, 60)\n",
      "Lower Threshold RMSD Values:  (7, 60)\n",
      "[1260.0, 1261.0, 1262.0, 1263.0, 1264.0, 1265.0, 1266.0]\n",
      "Total Combinations for  7  is:  42\n"
     ]
    },
    {
     "name": "stderr",
     "output_type": "stream",
     "text": [
      "C:\\Users\\sali85\\Anaconda3\\envs\\New_Env_2\\lib\\site-packages\\openpyxl\\worksheet\\_reader.py:329: UserWarning: Unknown extension is not supported and will be removed\n",
      "  warn(msg)\n"
     ]
    },
    {
     "name": "stdout",
     "output_type": "stream",
     "text": [
      "checking!!\n",
      "(7, 1318)\n",
      "(7, 60)\n",
      "Energy values > threshold:  (7, 60)\n",
      "L Energy Values:  (7, 60)\n",
      "All Energy Values:  (7, 60)\n",
      "Upper Threshold Energy Values:  (7, 60)\n",
      "Lower Threshold Energy Values:  (7, 60)\n",
      "(7, 60)\n",
      "(7, 60)\n",
      "Upper Threshold RMSD Values:  (7, 60)\n",
      "Lower Threshold RMSD Values:  (7, 60)\n",
      "[1340.0, 1341.0, 1342.0, 1343.0, 1344.0, 1345.0, 1346.0]\n",
      "Total Combinations for  7  is:  42\n"
     ]
    },
    {
     "name": "stderr",
     "output_type": "stream",
     "text": [
      "C:\\Users\\sali85\\Anaconda3\\envs\\New_Env_2\\lib\\site-packages\\openpyxl\\worksheet\\_reader.py:329: UserWarning: Unknown extension is not supported and will be removed\n",
      "  warn(msg)\n"
     ]
    },
    {
     "name": "stdout",
     "output_type": "stream",
     "text": [
      "checking!!\n"
     ]
    },
    {
     "name": "stderr",
     "output_type": "stream",
     "text": [
      "C:\\Users\\sali85\\AppData\\Local\\Temp\\ipykernel_32644\\2206982253.py:345: VisibleDeprecationWarning: Creating an ndarray from ragged nested sequences (which is a list-or-tuple of lists-or-tuples-or ndarrays with different lengths or shapes) is deprecated. If you meant to do this, you must specify 'dtype=object' when creating the ndarray.\n",
      "  print(np.array(L_only_energy).shape)\n"
     ]
    },
    {
     "name": "stdout",
     "output_type": "stream",
     "text": [
      "(12,)\n",
      "(12, 60)\n",
      "Energy values > threshold:  (12, 60)\n",
      "L Energy Values:  (12, 60)\n",
      "All Energy Values:  (12, 60)\n",
      "Upper Threshold Energy Values:  (12, 60)\n",
      "Lower Threshold Energy Values:  (12, 60)\n",
      "(12, 60)\n",
      "(12, 60)\n",
      "Upper Threshold RMSD Values:  (12, 60)\n",
      "Lower Threshold RMSD Values:  (12, 60)\n",
      "[1.0, 2.0, 3.0, 4.0, 5.0, 6.0, 7.0, 8.0, 9.0, 10.0, 11.0, 12.0]\n",
      "Total Combinations for  12  is:  132\n"
     ]
    },
    {
     "name": "stderr",
     "output_type": "stream",
     "text": [
      "C:\\Users\\sali85\\Anaconda3\\envs\\New_Env_2\\lib\\site-packages\\openpyxl\\worksheet\\_reader.py:329: UserWarning: Unknown extension is not supported and will be removed\n",
      "  warn(msg)\n"
     ]
    },
    {
     "name": "stdout",
     "output_type": "stream",
     "text": [
      "checking!!\n"
     ]
    },
    {
     "name": "stderr",
     "output_type": "stream",
     "text": [
      "C:\\Users\\sali85\\AppData\\Local\\Temp\\ipykernel_32644\\2206982253.py:345: VisibleDeprecationWarning: Creating an ndarray from ragged nested sequences (which is a list-or-tuple of lists-or-tuples-or ndarrays with different lengths or shapes) is deprecated. If you meant to do this, you must specify 'dtype=object' when creating the ndarray.\n",
      "  print(np.array(L_only_energy).shape)\n",
      "C:\\Users\\sali85\\Anaconda3\\envs\\New_Env_2\\lib\\site-packages\\numpy\\core\\fromnumeric.py:3430: FutureWarning: In a future version, DataFrame.mean(axis=None) will return a scalar mean over the entire DataFrame. To retain the old behavior, use 'frame.mean(axis=0)' or just 'frame.mean()'\n",
      "  return mean(axis=axis, dtype=dtype, out=out, **kwargs)\n"
     ]
    },
    {
     "name": "stdout",
     "output_type": "stream",
     "text": [
      "(12,)\n",
      "(12, 60)\n",
      "Energy values > threshold:  (12, 60)\n",
      "L Energy Values:  (12, 60)\n",
      "All Energy Values:  (12, 60)\n",
      "Upper Threshold Energy Values:  (12, 60)\n",
      "Lower Threshold Energy Values:  (12, 60)\n",
      "(12, 60)\n",
      "(12, 60)\n",
      "Upper Threshold RMSD Values:  (12, 60)\n",
      "Lower Threshold RMSD Values:  (12, 60)\n",
      "[0.39, 1.3900000000000001, 2.39, 3.39, 4.390000000000001, 5.390000000000001, 6.390000000000001, 7.390000000000001, 8.39, 9.39, 10.39, 11.39]\n",
      "Total Combinations for  12  is:  132\n",
      "NB Time :  0.09278599999970538\n"
     ]
    },
    {
     "name": "stderr",
     "output_type": "stream",
     "text": [
      "C:\\Users\\sali85\\Anaconda3\\envs\\New_Env_2\\lib\\site-packages\\numpy\\core\\fromnumeric.py:3430: FutureWarning: In a future version, DataFrame.mean(axis=None) will return a scalar mean over the entire DataFrame. To retain the old behavior, use 'frame.mean(axis=0)' or just 'frame.mean()'\n",
      "  return mean(axis=axis, dtype=dtype, out=out, **kwargs)\n"
     ]
    },
    {
     "name": "stdout",
     "output_type": "stream",
     "text": [
      "MLP Time :  9.683852099999967\n"
     ]
    },
    {
     "name": "stderr",
     "output_type": "stream",
     "text": [
      "C:\\Users\\sali85\\Anaconda3\\envs\\New_Env_2\\lib\\site-packages\\numpy\\core\\fromnumeric.py:3430: FutureWarning: In a future version, DataFrame.mean(axis=None) will return a scalar mean over the entire DataFrame. To retain the old behavior, use 'frame.mean(axis=0)' or just 'frame.mean()'\n",
      "  return mean(axis=axis, dtype=dtype, out=out, **kwargs)\n"
     ]
    },
    {
     "name": "stdout",
     "output_type": "stream",
     "text": [
      "KNN Time :  3.0737239999998565\n"
     ]
    },
    {
     "name": "stderr",
     "output_type": "stream",
     "text": [
      "C:\\Users\\sali85\\Anaconda3\\envs\\New_Env_2\\lib\\site-packages\\numpy\\core\\fromnumeric.py:3430: FutureWarning: In a future version, DataFrame.mean(axis=None) will return a scalar mean over the entire DataFrame. To retain the old behavior, use 'frame.mean(axis=0)' or just 'frame.mean()'\n",
      "  return mean(axis=axis, dtype=dtype, out=out, **kwargs)\n",
      "C:\\Users\\sali85\\Anaconda3\\envs\\New_Env_2\\lib\\site-packages\\numpy\\core\\fromnumeric.py:3430: FutureWarning: In a future version, DataFrame.mean(axis=None) will return a scalar mean over the entire DataFrame. To retain the old behavior, use 'frame.mean(axis=0)' or just 'frame.mean()'\n",
      "  return mean(axis=axis, dtype=dtype, out=out, **kwargs)\n"
     ]
    },
    {
     "name": "stdout",
     "output_type": "stream",
     "text": [
      "RF Time :  3.7779905000002145\n",
      "Theta Coefficients: [[-0.82408239 -0.19276999 -0.07809588  0.34496321  0.45710595 -0.31189536\n",
      "  -0.11551489  0.06291069 -0.01504251 -0.39471179 -0.19737204 -0.39835438\n",
      "   0.01335105 -0.76362605 -0.20051801 -0.06382506 -0.06723334  0.06085825\n",
      "  -0.49077854 -0.19297189 -0.05106739 -0.10458608 -0.27135622 -0.11498593\n",
      "  -0.32752026 -0.07879017 -0.28351316  0.00978979  0.23645527  0.02640952\n",
      "   0.04444025  0.08584322  0.13359269 -0.0157777  -0.27800712 -0.05272188\n",
      "   0.08726855  0.40903604  0.26079821  0.40750806  0.55577196  0.75725888\n",
      "   0.52206281  0.28559948  0.19880589  0.34097653  0.20667657  0.03105267\n",
      "  -0.16508591  0.01690526  0.10645631  0.03153149  0.10184423  0.10431983\n",
      "   0.01811463  0.07354218  0.01039056  0.00273036  0.0391566   0.00667696\n",
      "   0.82408239  0.19276999  0.07809588 -0.34496321 -0.45710595  0.31189536\n",
      "   0.11551489 -0.06291069  0.01504251  0.39471179  0.19737204  0.39835438\n",
      "  -0.01335105  0.76362605  0.20051801  0.06382506  0.06723334 -0.06085825\n",
      "   0.49077854  0.19297189  0.05106739  0.10458608  0.27135622  0.11498593\n",
      "   0.32752026  0.07879017  0.28351316 -0.00978979 -0.23645527 -0.02640952\n",
      "  -0.04444025 -0.08584322 -0.13359269  0.0157777   0.27800712  0.05272188\n",
      "  -0.08726855 -0.40903604 -0.26079821 -0.40750806 -0.55577196 -0.75725888\n",
      "  -0.52206281 -0.28559948 -0.19880589 -0.34097653 -0.20667657 -0.03105267\n",
      "   0.16508591 -0.01690526 -0.10645631 -0.03153149 -0.10184423 -0.10431983\n",
      "  -0.01811463 -0.07354218 -0.01039056 -0.00273036 -0.0391566  -0.00667696]]\n",
      "Intercept: [-4.93427725e-13]\n",
      "LR Time :  0.10297549999995681\n"
     ]
    },
    {
     "name": "stderr",
     "output_type": "stream",
     "text": [
      "C:\\Users\\sali85\\Anaconda3\\envs\\New_Env_2\\lib\\site-packages\\numpy\\core\\fromnumeric.py:3430: FutureWarning: In a future version, DataFrame.mean(axis=None) will return a scalar mean over the entire DataFrame. To retain the old behavior, use 'frame.mean(axis=0)' or just 'frame.mean()'\n",
      "  return mean(axis=axis, dtype=dtype, out=out, **kwargs)\n"
     ]
    },
    {
     "name": "stdout",
     "output_type": "stream",
     "text": [
      "DT Time :  0.652197100000194\n"
     ]
    },
    {
     "name": "stderr",
     "output_type": "stream",
     "text": [
      "C:\\Users\\sali85\\Anaconda3\\envs\\New_Env_2\\lib\\site-packages\\numpy\\core\\fromnumeric.py:3430: FutureWarning: In a future version, DataFrame.mean(axis=None) will return a scalar mean over the entire DataFrame. To retain the old behavior, use 'frame.mean(axis=0)' or just 'frame.mean()'\n",
      "  return mean(axis=axis, dtype=dtype, out=out, **kwargs)\n"
     ]
    },
    {
     "name": "stdout",
     "output_type": "stream",
     "text": [
      "SVM Time :  11.744507699999758\n"
     ]
    },
    {
     "name": "stderr",
     "output_type": "stream",
     "text": [
      "C:\\Users\\sali85\\Anaconda3\\envs\\New_Env_2\\lib\\site-packages\\openpyxl\\worksheet\\_reader.py:329: UserWarning: Unknown extension is not supported and will be removed\n",
      "  warn(msg)\n"
     ]
    },
    {
     "name": "stdout",
     "output_type": "stream",
     "text": [
      "checking!!\n"
     ]
    },
    {
     "name": "stderr",
     "output_type": "stream",
     "text": [
      "C:\\Users\\sali85\\AppData\\Local\\Temp\\ipykernel_32644\\2206982253.py:345: VisibleDeprecationWarning: Creating an ndarray from ragged nested sequences (which is a list-or-tuple of lists-or-tuples-or ndarrays with different lengths or shapes) is deprecated. If you meant to do this, you must specify 'dtype=object' when creating the ndarray.\n",
      "  print(np.array(L_only_energy).shape)\n"
     ]
    },
    {
     "name": "stdout",
     "output_type": "stream",
     "text": [
      "(12,)\n",
      "(12, 60)\n",
      "Energy values > threshold:  (12, 60)\n",
      "L Energy Values:  (12, 60)\n",
      "All Energy Values:  (12, 60)\n",
      "Upper Threshold Energy Values:  (12, 60)\n",
      "Lower Threshold Energy Values:  (12, 60)\n",
      "(12, 60)\n",
      "(12, 60)\n",
      "Upper Threshold RMSD Values:  (12, 60)\n",
      "Lower Threshold RMSD Values:  (12, 60)\n",
      "[7.1, 8.1, 9.1, 10.1, 11.1, 12.1, 13.1, 14.1, 15.1, 16.1, 17.1, 18.1]\n",
      "Total Combinations for  12  is:  132\n"
     ]
    },
    {
     "name": "stderr",
     "output_type": "stream",
     "text": [
      "C:\\Users\\sali85\\Anaconda3\\envs\\New_Env_2\\lib\\site-packages\\openpyxl\\worksheet\\_reader.py:329: UserWarning: Unknown extension is not supported and will be removed\n",
      "  warn(msg)\n"
     ]
    },
    {
     "name": "stdout",
     "output_type": "stream",
     "text": [
      "checking!!\n"
     ]
    },
    {
     "name": "stderr",
     "output_type": "stream",
     "text": [
      "C:\\Users\\sali85\\AppData\\Local\\Temp\\ipykernel_32644\\2206982253.py:345: VisibleDeprecationWarning: Creating an ndarray from ragged nested sequences (which is a list-or-tuple of lists-or-tuples-or ndarrays with different lengths or shapes) is deprecated. If you meant to do this, you must specify 'dtype=object' when creating the ndarray.\n",
      "  print(np.array(L_only_energy).shape)\n"
     ]
    },
    {
     "name": "stdout",
     "output_type": "stream",
     "text": [
      "(12,)\n",
      "(12, 60)\n",
      "Energy values > threshold:  (12, 60)\n",
      "L Energy Values:  (12, 60)\n",
      "All Energy Values:  (12, 60)\n",
      "Upper Threshold Energy Values:  (12, 60)\n",
      "Lower Threshold Energy Values:  (12, 60)\n",
      "(12, 60)\n",
      "(12, 60)\n",
      "Upper Threshold RMSD Values:  (12, 60)\n",
      "Lower Threshold RMSD Values:  (12, 60)\n",
      "[3000.0, 3001.0, 3002.0, 3003.0, 3004.0, 3005.0, 3006.0, 3007.0, 3008.0, 3009.0, 3010.0, 3011.0]\n",
      "Total Combinations for  12  is:  132\n"
     ]
    },
    {
     "name": "stderr",
     "output_type": "stream",
     "text": [
      "C:\\Users\\sali85\\Anaconda3\\envs\\New_Env_2\\lib\\site-packages\\openpyxl\\worksheet\\_reader.py:329: UserWarning: Unknown extension is not supported and will be removed\n",
      "  warn(msg)\n"
     ]
    },
    {
     "name": "stdout",
     "output_type": "stream",
     "text": [
      "checking!!\n"
     ]
    },
    {
     "name": "stderr",
     "output_type": "stream",
     "text": [
      "C:\\Users\\sali85\\AppData\\Local\\Temp\\ipykernel_32644\\2206982253.py:345: VisibleDeprecationWarning: Creating an ndarray from ragged nested sequences (which is a list-or-tuple of lists-or-tuples-or ndarrays with different lengths or shapes) is deprecated. If you meant to do this, you must specify 'dtype=object' when creating the ndarray.\n",
      "  print(np.array(L_only_energy).shape)\n"
     ]
    },
    {
     "name": "stdout",
     "output_type": "stream",
     "text": [
      "(12,)\n",
      "(12, 60)\n",
      "Energy values > threshold:  (12, 60)\n",
      "L Energy Values:  (12, 60)\n",
      "All Energy Values:  (12, 60)\n",
      "Upper Threshold Energy Values:  (12, 60)\n",
      "Lower Threshold Energy Values:  (12, 60)\n",
      "(12, 60)\n",
      "(12, 60)\n",
      "Upper Threshold RMSD Values:  (12, 60)\n",
      "Lower Threshold RMSD Values:  (12, 60)\n",
      "[1000.0, 1001.0, 1002.0, 1003.0, 1004.0, 1005.0, 1006.0, 1007.0, 1008.0, 1009.0, 1010.0, 1011.0]\n",
      "Total Combinations for  12  is:  132\n"
     ]
    },
    {
     "name": "stderr",
     "output_type": "stream",
     "text": [
      "C:\\Users\\sali85\\Anaconda3\\envs\\New_Env_2\\lib\\site-packages\\openpyxl\\worksheet\\_reader.py:329: UserWarning: Unknown extension is not supported and will be removed\n",
      "  warn(msg)\n"
     ]
    },
    {
     "name": "stdout",
     "output_type": "stream",
     "text": [
      "checking!!\n"
     ]
    },
    {
     "name": "stderr",
     "output_type": "stream",
     "text": [
      "C:\\Users\\sali85\\AppData\\Local\\Temp\\ipykernel_32644\\2206982253.py:345: VisibleDeprecationWarning: Creating an ndarray from ragged nested sequences (which is a list-or-tuple of lists-or-tuples-or ndarrays with different lengths or shapes) is deprecated. If you meant to do this, you must specify 'dtype=object' when creating the ndarray.\n",
      "  print(np.array(L_only_energy).shape)\n"
     ]
    },
    {
     "name": "stdout",
     "output_type": "stream",
     "text": [
      "(12,)\n",
      "(12, 60)\n",
      "Energy values > threshold:  (12, 60)\n",
      "L Energy Values:  (12, 60)\n",
      "All Energy Values:  (12, 60)\n",
      "Upper Threshold Energy Values:  (12, 60)\n",
      "Lower Threshold Energy Values:  (12, 60)\n",
      "(12, 60)\n",
      "(12, 60)\n",
      "Upper Threshold RMSD Values:  (12, 60)\n",
      "Lower Threshold RMSD Values:  (12, 60)\n",
      "[0.15, 1.15, 2.15, 3.15, 4.15, 5.15, 6.15, 7.15, 8.15, 9.15, 10.15, 11.15]\n",
      "Total Combinations for  12  is:  132\n"
     ]
    },
    {
     "name": "stderr",
     "output_type": "stream",
     "text": [
      "C:\\Users\\sali85\\Anaconda3\\envs\\New_Env_2\\lib\\site-packages\\openpyxl\\worksheet\\_reader.py:329: UserWarning: Unknown extension is not supported and will be removed\n",
      "  warn(msg)\n"
     ]
    },
    {
     "name": "stdout",
     "output_type": "stream",
     "text": [
      "checking!!\n"
     ]
    },
    {
     "name": "stderr",
     "output_type": "stream",
     "text": [
      "C:\\Users\\sali85\\AppData\\Local\\Temp\\ipykernel_32644\\2206982253.py:345: VisibleDeprecationWarning: Creating an ndarray from ragged nested sequences (which is a list-or-tuple of lists-or-tuples-or ndarrays with different lengths or shapes) is deprecated. If you meant to do this, you must specify 'dtype=object' when creating the ndarray.\n",
      "  print(np.array(L_only_energy).shape)\n"
     ]
    },
    {
     "name": "stdout",
     "output_type": "stream",
     "text": [
      "(6,)\n",
      "(6, 60)\n",
      "Energy values > threshold:  (6, 60)\n",
      "L Energy Values:  (6, 60)\n",
      "All Energy Values:  (6, 60)\n",
      "Upper Threshold Energy Values:  (6, 60)\n",
      "Lower Threshold Energy Values:  (6, 60)\n",
      "(6, 60)\n",
      "(6, 60)\n",
      "Upper Threshold RMSD Values:  (6, 60)\n",
      "Lower Threshold RMSD Values:  (6, 60)\n",
      "[79.0, 80.0, 81.0, 82.0, 83.0, 84.0]\n",
      "Total Combinations for  6  is:  30\n"
     ]
    },
    {
     "name": "stderr",
     "output_type": "stream",
     "text": [
      "C:\\Users\\sali85\\Anaconda3\\envs\\New_Env_2\\lib\\site-packages\\openpyxl\\worksheet\\_reader.py:329: UserWarning: Unknown extension is not supported and will be removed\n",
      "  warn(msg)\n"
     ]
    },
    {
     "name": "stdout",
     "output_type": "stream",
     "text": [
      "checking!!\n"
     ]
    },
    {
     "name": "stderr",
     "output_type": "stream",
     "text": [
      "C:\\Users\\sali85\\AppData\\Local\\Temp\\ipykernel_32644\\2206982253.py:345: VisibleDeprecationWarning: Creating an ndarray from ragged nested sequences (which is a list-or-tuple of lists-or-tuples-or ndarrays with different lengths or shapes) is deprecated. If you meant to do this, you must specify 'dtype=object' when creating the ndarray.\n",
      "  print(np.array(L_only_energy).shape)\n"
     ]
    },
    {
     "name": "stdout",
     "output_type": "stream",
     "text": [
      "(12,)\n",
      "(12, 60)\n",
      "Energy values > threshold:  (12, 60)\n",
      "L Energy Values:  (12, 60)\n",
      "All Energy Values:  (12, 60)\n",
      "Upper Threshold Energy Values:  (12, 60)\n",
      "Lower Threshold Energy Values:  (12, 60)\n",
      "(12, 60)\n",
      "(12, 60)\n",
      "Upper Threshold RMSD Values:  (12, 60)\n",
      "Lower Threshold RMSD Values:  (12, 60)\n",
      "[70.0, 71.0, 72.0, 73.0, 74.0, 75.0, 76.0, 77.0, 78.0, 79.0, 80.0, 81.0]\n",
      "Total Combinations for  12  is:  132\n"
     ]
    },
    {
     "name": "stderr",
     "output_type": "stream",
     "text": [
      "C:\\Users\\sali85\\Anaconda3\\envs\\New_Env_2\\lib\\site-packages\\openpyxl\\worksheet\\_reader.py:329: UserWarning: Unknown extension is not supported and will be removed\n",
      "  warn(msg)\n"
     ]
    },
    {
     "name": "stdout",
     "output_type": "stream",
     "text": [
      "checking!!\n"
     ]
    },
    {
     "name": "stderr",
     "output_type": "stream",
     "text": [
      "C:\\Users\\sali85\\AppData\\Local\\Temp\\ipykernel_32644\\2206982253.py:345: VisibleDeprecationWarning: Creating an ndarray from ragged nested sequences (which is a list-or-tuple of lists-or-tuples-or ndarrays with different lengths or shapes) is deprecated. If you meant to do this, you must specify 'dtype=object' when creating the ndarray.\n",
      "  print(np.array(L_only_energy).shape)\n"
     ]
    },
    {
     "name": "stdout",
     "output_type": "stream",
     "text": [
      "(12,)\n",
      "(12, 60)\n",
      "Energy values > threshold:  (12, 60)\n",
      "L Energy Values:  (12, 60)\n",
      "All Energy Values:  (12, 60)\n",
      "Upper Threshold Energy Values:  (12, 60)\n",
      "Lower Threshold Energy Values:  (12, 60)\n",
      "(12, 60)\n",
      "(12, 60)\n",
      "Upper Threshold RMSD Values:  (12, 60)\n",
      "Lower Threshold RMSD Values:  (12, 60)\n",
      "[70.0, 71.0, 72.0, 73.0, 74.0, 75.0, 76.0, 77.0, 78.0, 79.0, 80.0, 81.0]\n",
      "Total Combinations for  12  is:  132\n"
     ]
    },
    {
     "name": "stderr",
     "output_type": "stream",
     "text": [
      "C:\\Users\\sali85\\Anaconda3\\envs\\New_Env_2\\lib\\site-packages\\openpyxl\\worksheet\\_reader.py:329: UserWarning: Unknown extension is not supported and will be removed\n",
      "  warn(msg)\n"
     ]
    },
    {
     "name": "stdout",
     "output_type": "stream",
     "text": [
      "checking!!\n"
     ]
    },
    {
     "name": "stderr",
     "output_type": "stream",
     "text": [
      "C:\\Users\\sali85\\AppData\\Local\\Temp\\ipykernel_32644\\2206982253.py:345: VisibleDeprecationWarning: Creating an ndarray from ragged nested sequences (which is a list-or-tuple of lists-or-tuples-or ndarrays with different lengths or shapes) is deprecated. If you meant to do this, you must specify 'dtype=object' when creating the ndarray.\n",
      "  print(np.array(L_only_energy).shape)\n"
     ]
    },
    {
     "name": "stdout",
     "output_type": "stream",
     "text": [
      "(12,)\n",
      "(12, 60)\n",
      "Energy values > threshold:  (12, 60)\n",
      "L Energy Values:  (12, 60)\n",
      "All Energy Values:  (12, 60)\n",
      "Upper Threshold Energy Values:  (12, 60)\n",
      "Lower Threshold Energy Values:  (12, 60)\n",
      "(12, 60)\n",
      "(12, 60)\n",
      "Upper Threshold RMSD Values:  (12, 60)\n",
      "Lower Threshold RMSD Values:  (12, 60)\n",
      "[1100.0, 1101.0, 1102.0, 1103.0, 1104.0, 1105.0, 1106.0, 1107.0, 1108.0, 1109.0, 1110.0, 1111.0]\n",
      "Total Combinations for  12  is:  132\n"
     ]
    },
    {
     "name": "stderr",
     "output_type": "stream",
     "text": [
      "C:\\Users\\sali85\\Anaconda3\\envs\\New_Env_2\\lib\\site-packages\\openpyxl\\worksheet\\_reader.py:329: UserWarning: Unknown extension is not supported and will be removed\n",
      "  warn(msg)\n"
     ]
    },
    {
     "name": "stdout",
     "output_type": "stream",
     "text": [
      "checking!!\n",
      "(12, 1318)\n",
      "(12, 60)\n",
      "Energy values > threshold:  (12, 60)\n",
      "L Energy Values:  (12, 60)\n",
      "All Energy Values:  (12, 60)\n",
      "Upper Threshold Energy Values:  (12, 60)\n",
      "Lower Threshold Energy Values:  (12, 60)\n",
      "(12, 60)\n",
      "(12, 60)\n",
      "Upper Threshold RMSD Values:  (12, 60)\n",
      "Lower Threshold RMSD Values:  (12, 60)\n",
      "[0.17, 1.17, 2.17, 3.17, 4.17, 5.17, 6.17, 7.17, 8.17, 9.17, 10.17, 11.17]\n",
      "Total Combinations for  12  is:  132\n"
     ]
    },
    {
     "name": "stderr",
     "output_type": "stream",
     "text": [
      "C:\\Users\\sali85\\Anaconda3\\envs\\New_Env_2\\lib\\site-packages\\openpyxl\\worksheet\\_reader.py:329: UserWarning: Unknown extension is not supported and will be removed\n",
      "  warn(msg)\n"
     ]
    },
    {
     "name": "stdout",
     "output_type": "stream",
     "text": [
      "checking!!\n"
     ]
    },
    {
     "name": "stderr",
     "output_type": "stream",
     "text": [
      "C:\\Users\\sali85\\AppData\\Local\\Temp\\ipykernel_32644\\2206982253.py:345: VisibleDeprecationWarning: Creating an ndarray from ragged nested sequences (which is a list-or-tuple of lists-or-tuples-or ndarrays with different lengths or shapes) is deprecated. If you meant to do this, you must specify 'dtype=object' when creating the ndarray.\n",
      "  print(np.array(L_only_energy).shape)\n"
     ]
    },
    {
     "name": "stdout",
     "output_type": "stream",
     "text": [
      "(12,)\n",
      "(12, 60)\n",
      "Energy values > threshold:  (12, 60)\n",
      "L Energy Values:  (12, 60)\n",
      "All Energy Values:  (12, 60)\n",
      "Upper Threshold Energy Values:  (12, 60)\n",
      "Lower Threshold Energy Values:  (12, 60)\n",
      "(12, 60)\n",
      "(12, 60)\n",
      "Upper Threshold RMSD Values:  (12, 60)\n",
      "Lower Threshold RMSD Values:  (12, 60)\n",
      "[200.0, 201.0, 202.0, 203.0, 204.0, 205.0, 206.0, 207.0, 208.0, 209.0, 210.0, 211.0]\n",
      "Total Combinations for  12  is:  132\n"
     ]
    },
    {
     "name": "stderr",
     "output_type": "stream",
     "text": [
      "C:\\Users\\sali85\\Anaconda3\\envs\\New_Env_2\\lib\\site-packages\\openpyxl\\worksheet\\_reader.py:329: UserWarning: Unknown extension is not supported and will be removed\n",
      "  warn(msg)\n"
     ]
    },
    {
     "name": "stdout",
     "output_type": "stream",
     "text": [
      "checking!!\n"
     ]
    },
    {
     "name": "stderr",
     "output_type": "stream",
     "text": [
      "C:\\Users\\sali85\\AppData\\Local\\Temp\\ipykernel_32644\\2206982253.py:345: VisibleDeprecationWarning: Creating an ndarray from ragged nested sequences (which is a list-or-tuple of lists-or-tuples-or ndarrays with different lengths or shapes) is deprecated. If you meant to do this, you must specify 'dtype=object' when creating the ndarray.\n",
      "  print(np.array(L_only_energy).shape)\n"
     ]
    },
    {
     "name": "stdout",
     "output_type": "stream",
     "text": [
      "(12,)\n",
      "(12, 60)\n",
      "Energy values > threshold:  (12, 60)\n",
      "L Energy Values:  (12, 60)\n",
      "All Energy Values:  (12, 60)\n",
      "Upper Threshold Energy Values:  (12, 60)\n",
      "Lower Threshold Energy Values:  (12, 60)\n",
      "(12, 60)\n",
      "(12, 60)\n",
      "Upper Threshold RMSD Values:  (12, 60)\n",
      "Lower Threshold RMSD Values:  (12, 60)\n",
      "[0.3, 1.3, 2.3, 3.3, 4.3, 5.3, 6.3, 7.3, 8.3, 9.3, 10.3, 11.3]\n",
      "Total Combinations for  12  is:  132\n"
     ]
    },
    {
     "name": "stderr",
     "output_type": "stream",
     "text": [
      "C:\\Users\\sali85\\Anaconda3\\envs\\New_Env_2\\lib\\site-packages\\openpyxl\\worksheet\\_reader.py:329: UserWarning: Unknown extension is not supported and will be removed\n",
      "  warn(msg)\n"
     ]
    },
    {
     "name": "stdout",
     "output_type": "stream",
     "text": [
      "checking!!\n"
     ]
    },
    {
     "name": "stderr",
     "output_type": "stream",
     "text": [
      "C:\\Users\\sali85\\AppData\\Local\\Temp\\ipykernel_32644\\2206982253.py:345: VisibleDeprecationWarning: Creating an ndarray from ragged nested sequences (which is a list-or-tuple of lists-or-tuples-or ndarrays with different lengths or shapes) is deprecated. If you meant to do this, you must specify 'dtype=object' when creating the ndarray.\n",
      "  print(np.array(L_only_energy).shape)\n"
     ]
    },
    {
     "name": "stdout",
     "output_type": "stream",
     "text": [
      "(12,)\n",
      "(12, 60)\n",
      "Energy values > threshold:  (12, 60)\n",
      "L Energy Values:  (12, 60)\n",
      "All Energy Values:  (12, 60)\n",
      "Upper Threshold Energy Values:  (12, 60)\n",
      "Lower Threshold Energy Values:  (12, 60)\n",
      "(12, 60)\n",
      "(12, 60)\n",
      "Upper Threshold RMSD Values:  (12, 60)\n",
      "Lower Threshold RMSD Values:  (12, 60)\n",
      "[0.52, 1.52, 2.52, 3.52, 4.52, 5.52, 6.52, 7.52, 8.52, 9.52, 10.52, 11.52]\n",
      "Total Combinations for  12  is:  132\n"
     ]
    },
    {
     "name": "stderr",
     "output_type": "stream",
     "text": [
      "C:\\Users\\sali85\\Anaconda3\\envs\\New_Env_2\\lib\\site-packages\\openpyxl\\worksheet\\_reader.py:329: UserWarning: Unknown extension is not supported and will be removed\n",
      "  warn(msg)\n"
     ]
    },
    {
     "name": "stdout",
     "output_type": "stream",
     "text": [
      "checking!!\n",
      "(12, 1318)\n",
      "(12, 60)\n",
      "Energy values > threshold:  (12, 60)\n",
      "L Energy Values:  (12, 60)\n",
      "All Energy Values:  (12, 60)\n",
      "Upper Threshold Energy Values:  (12, 60)\n",
      "Lower Threshold Energy Values:  (12, 60)\n",
      "(12, 60)\n",
      "(12, 60)\n",
      "Upper Threshold RMSD Values:  (12, 60)\n",
      "Lower Threshold RMSD Values:  (12, 60)\n",
      "[75.0, 76.0, 77.0, 78.0, 79.0, 80.0, 81.0, 82.0, 83.0, 84.0, 85.0, 86.0]\n",
      "Total Combinations for  12  is:  132\n"
     ]
    },
    {
     "name": "stderr",
     "output_type": "stream",
     "text": [
      "C:\\Users\\sali85\\Anaconda3\\envs\\New_Env_2\\lib\\site-packages\\openpyxl\\worksheet\\_reader.py:329: UserWarning: Unknown extension is not supported and will be removed\n",
      "  warn(msg)\n"
     ]
    },
    {
     "name": "stdout",
     "output_type": "stream",
     "text": [
      "checking!!\n"
     ]
    },
    {
     "name": "stderr",
     "output_type": "stream",
     "text": [
      "C:\\Users\\sali85\\AppData\\Local\\Temp\\ipykernel_32644\\2206982253.py:345: VisibleDeprecationWarning: Creating an ndarray from ragged nested sequences (which is a list-or-tuple of lists-or-tuples-or ndarrays with different lengths or shapes) is deprecated. If you meant to do this, you must specify 'dtype=object' when creating the ndarray.\n",
      "  print(np.array(L_only_energy).shape)\n"
     ]
    },
    {
     "name": "stdout",
     "output_type": "stream",
     "text": [
      "(7,)\n",
      "(7, 60)\n",
      "Energy values > threshold:  (7, 60)\n",
      "L Energy Values:  (7, 60)\n",
      "All Energy Values:  (7, 60)\n",
      "Upper Threshold Energy Values:  (7, 60)\n",
      "Lower Threshold Energy Values:  (7, 60)\n",
      "(7, 60)\n",
      "(7, 60)\n",
      "Upper Threshold RMSD Values:  (7, 60)\n",
      "Lower Threshold RMSD Values:  (7, 60)\n",
      "[250.0, 251.0, 252.0, 253.0, 254.0, 255.0, 256.0]\n",
      "Total Combinations for  7  is:  42\n"
     ]
    },
    {
     "name": "stderr",
     "output_type": "stream",
     "text": [
      "C:\\Users\\sali85\\Anaconda3\\envs\\New_Env_2\\lib\\site-packages\\openpyxl\\worksheet\\_reader.py:329: UserWarning: Unknown extension is not supported and will be removed\n",
      "  warn(msg)\n"
     ]
    },
    {
     "name": "stdout",
     "output_type": "stream",
     "text": [
      "checking!!\n",
      "(8, 1318)\n",
      "(8, 60)\n",
      "Energy values > threshold:  (8, 60)\n",
      "L Energy Values:  (8, 60)\n",
      "All Energy Values:  (8, 60)\n",
      "Upper Threshold Energy Values:  (8, 60)\n",
      "Lower Threshold Energy Values:  (8, 60)\n",
      "(8, 60)\n",
      "(8, 60)\n",
      "Upper Threshold RMSD Values:  (8, 60)\n",
      "Lower Threshold RMSD Values:  (8, 60)\n",
      "[170.0, 171.0, 172.0, 173.0, 174.0, 175.0, 176.0, 177.0]\n",
      "Total Combinations for  8  is:  56\n"
     ]
    },
    {
     "name": "stderr",
     "output_type": "stream",
     "text": [
      "C:\\Users\\sali85\\Anaconda3\\envs\\New_Env_2\\lib\\site-packages\\openpyxl\\worksheet\\_reader.py:329: UserWarning: Unknown extension is not supported and will be removed\n",
      "  warn(msg)\n"
     ]
    },
    {
     "name": "stdout",
     "output_type": "stream",
     "text": [
      "checking!!\n"
     ]
    },
    {
     "name": "stderr",
     "output_type": "stream",
     "text": [
      "C:\\Users\\sali85\\AppData\\Local\\Temp\\ipykernel_32644\\2206982253.py:345: VisibleDeprecationWarning: Creating an ndarray from ragged nested sequences (which is a list-or-tuple of lists-or-tuples-or ndarrays with different lengths or shapes) is deprecated. If you meant to do this, you must specify 'dtype=object' when creating the ndarray.\n",
      "  print(np.array(L_only_energy).shape)\n"
     ]
    },
    {
     "name": "stdout",
     "output_type": "stream",
     "text": [
      "(8,)\n",
      "(8, 60)\n",
      "Energy values > threshold:  (8, 60)\n",
      "L Energy Values:  (8, 60)\n",
      "All Energy Values:  (8, 60)\n",
      "Upper Threshold Energy Values:  (8, 60)\n",
      "Lower Threshold Energy Values:  (8, 60)\n",
      "(8, 60)\n",
      "(8, 60)\n",
      "Upper Threshold RMSD Values:  (8, 60)\n",
      "Lower Threshold RMSD Values:  (8, 60)\n",
      "[94.0, 95.0, 96.0, 97.0, 98.0, 99.0, 100.0, 101.0]\n",
      "Total Combinations for  8  is:  56\n"
     ]
    },
    {
     "name": "stderr",
     "output_type": "stream",
     "text": [
      "C:\\Users\\sali85\\Anaconda3\\envs\\New_Env_2\\lib\\site-packages\\openpyxl\\worksheet\\_reader.py:329: UserWarning: Unknown extension is not supported and will be removed\n",
      "  warn(msg)\n"
     ]
    },
    {
     "name": "stdout",
     "output_type": "stream",
     "text": [
      "checking!!\n"
     ]
    },
    {
     "name": "stderr",
     "output_type": "stream",
     "text": [
      "C:\\Users\\sali85\\AppData\\Local\\Temp\\ipykernel_32644\\2206982253.py:345: VisibleDeprecationWarning: Creating an ndarray from ragged nested sequences (which is a list-or-tuple of lists-or-tuples-or ndarrays with different lengths or shapes) is deprecated. If you meant to do this, you must specify 'dtype=object' when creating the ndarray.\n",
      "  print(np.array(L_only_energy).shape)\n"
     ]
    },
    {
     "name": "stdout",
     "output_type": "stream",
     "text": [
      "(7,)\n",
      "(7, 60)\n",
      "Energy values > threshold:  (7, 60)\n",
      "L Energy Values:  (7, 60)\n",
      "All Energy Values:  (7, 60)\n",
      "Upper Threshold Energy Values:  (7, 60)\n",
      "Lower Threshold Energy Values:  (7, 60)\n",
      "(7, 60)\n",
      "(7, 60)\n",
      "Upper Threshold RMSD Values:  (7, 60)\n",
      "Lower Threshold RMSD Values:  (7, 60)\n",
      "[95.0, 96.0, 97.0, 98.0, 99.0, 100.0, 101.0]\n",
      "Total Combinations for  7  is:  42\n"
     ]
    },
    {
     "name": "stderr",
     "output_type": "stream",
     "text": [
      "C:\\Users\\sali85\\Anaconda3\\envs\\New_Env_2\\lib\\site-packages\\openpyxl\\worksheet\\_reader.py:329: UserWarning: Unknown extension is not supported and will be removed\n",
      "  warn(msg)\n"
     ]
    },
    {
     "name": "stdout",
     "output_type": "stream",
     "text": [
      "checking!!\n"
     ]
    },
    {
     "name": "stderr",
     "output_type": "stream",
     "text": [
      "C:\\Users\\sali85\\AppData\\Local\\Temp\\ipykernel_32644\\2206982253.py:345: VisibleDeprecationWarning: Creating an ndarray from ragged nested sequences (which is a list-or-tuple of lists-or-tuples-or ndarrays with different lengths or shapes) is deprecated. If you meant to do this, you must specify 'dtype=object' when creating the ndarray.\n",
      "  print(np.array(L_only_energy).shape)\n"
     ]
    },
    {
     "name": "stdout",
     "output_type": "stream",
     "text": [
      "(7,)\n",
      "(7, 60)\n",
      "Energy values > threshold:  (7, 60)\n",
      "L Energy Values:  (7, 60)\n",
      "All Energy Values:  (7, 60)\n",
      "Upper Threshold Energy Values:  (7, 60)\n",
      "Lower Threshold Energy Values:  (7, 60)\n",
      "(7, 60)\n",
      "(7, 60)\n",
      "Upper Threshold RMSD Values:  (7, 60)\n",
      "Lower Threshold RMSD Values:  (7, 60)\n",
      "[2200.0, 2201.0, 2202.0, 2203.0, 2204.0, 2205.0, 2206.0]\n",
      "Total Combinations for  7  is:  42\n"
     ]
    },
    {
     "name": "stderr",
     "output_type": "stream",
     "text": [
      "C:\\Users\\sali85\\Anaconda3\\envs\\New_Env_2\\lib\\site-packages\\openpyxl\\worksheet\\_reader.py:329: UserWarning: Unknown extension is not supported and will be removed\n",
      "  warn(msg)\n"
     ]
    },
    {
     "name": "stdout",
     "output_type": "stream",
     "text": [
      "checking!!\n"
     ]
    },
    {
     "name": "stderr",
     "output_type": "stream",
     "text": [
      "C:\\Users\\sali85\\AppData\\Local\\Temp\\ipykernel_32644\\2206982253.py:345: VisibleDeprecationWarning: Creating an ndarray from ragged nested sequences (which is a list-or-tuple of lists-or-tuples-or ndarrays with different lengths or shapes) is deprecated. If you meant to do this, you must specify 'dtype=object' when creating the ndarray.\n",
      "  print(np.array(L_only_energy).shape)\n"
     ]
    },
    {
     "name": "stdout",
     "output_type": "stream",
     "text": [
      "(12,)\n",
      "(12, 60)\n",
      "Energy values > threshold:  (12, 60)\n",
      "L Energy Values:  (12, 60)\n",
      "All Energy Values:  (12, 60)\n",
      "Upper Threshold Energy Values:  (12, 60)\n",
      "Lower Threshold Energy Values:  (12, 60)\n",
      "(12, 60)\n",
      "(12, 60)\n",
      "Upper Threshold RMSD Values:  (12, 60)\n",
      "Lower Threshold RMSD Values:  (12, 60)\n",
      "[30.0, 31.0, 32.0, 33.0, 34.0, 35.0, 36.0, 37.0, 38.0, 39.0, 40.0, 41.0]\n",
      "Total Combinations for  12  is:  132\n"
     ]
    },
    {
     "name": "stderr",
     "output_type": "stream",
     "text": [
      "C:\\Users\\sali85\\Anaconda3\\envs\\New_Env_2\\lib\\site-packages\\openpyxl\\worksheet\\_reader.py:329: UserWarning: Unknown extension is not supported and will be removed\n",
      "  warn(msg)\n"
     ]
    },
    {
     "name": "stdout",
     "output_type": "stream",
     "text": [
      "checking!!\n"
     ]
    },
    {
     "name": "stderr",
     "output_type": "stream",
     "text": [
      "C:\\Users\\sali85\\AppData\\Local\\Temp\\ipykernel_32644\\2206982253.py:345: VisibleDeprecationWarning: Creating an ndarray from ragged nested sequences (which is a list-or-tuple of lists-or-tuples-or ndarrays with different lengths or shapes) is deprecated. If you meant to do this, you must specify 'dtype=object' when creating the ndarray.\n",
      "  print(np.array(L_only_energy).shape)\n"
     ]
    },
    {
     "name": "stdout",
     "output_type": "stream",
     "text": [
      "(12,)\n",
      "(12, 60)\n",
      "Energy values > threshold:  (12, 60)\n",
      "L Energy Values:  (12, 60)\n",
      "All Energy Values:  (12, 60)\n",
      "Upper Threshold Energy Values:  (12, 60)\n",
      "Lower Threshold Energy Values:  (12, 60)\n",
      "(12, 60)\n",
      "(12, 60)\n",
      "Upper Threshold RMSD Values:  (12, 60)\n",
      "Lower Threshold RMSD Values:  (12, 60)\n",
      "[100.0, 101.0, 102.0, 103.0, 104.0, 105.0, 106.0, 107.0, 108.0, 109.0, 110.0, 111.0]\n",
      "Total Combinations for  12  is:  132\n"
     ]
    },
    {
     "name": "stderr",
     "output_type": "stream",
     "text": [
      "C:\\Users\\sali85\\Anaconda3\\envs\\New_Env_2\\lib\\site-packages\\openpyxl\\worksheet\\_reader.py:329: UserWarning: Unknown extension is not supported and will be removed\n",
      "  warn(msg)\n"
     ]
    },
    {
     "name": "stdout",
     "output_type": "stream",
     "text": [
      "checking!!\n",
      "(8, 1318)\n",
      "(8, 60)\n",
      "Energy values > threshold:  (8, 60)\n",
      "L Energy Values:  (8, 60)\n",
      "All Energy Values:  (8, 60)\n",
      "Upper Threshold Energy Values:  (8, 60)\n",
      "Lower Threshold Energy Values:  (8, 60)\n",
      "(8, 60)\n",
      "(8, 60)\n",
      "Upper Threshold RMSD Values:  (8, 60)\n",
      "Lower Threshold RMSD Values:  (8, 60)\n",
      "[1.09, 2.09, 3.09, 4.09, 5.09, 6.09, 7.09, 8.09]\n",
      "Total Combinations for  8  is:  56\n"
     ]
    },
    {
     "name": "stderr",
     "output_type": "stream",
     "text": [
      "C:\\Users\\sali85\\Anaconda3\\envs\\New_Env_2\\lib\\site-packages\\openpyxl\\worksheet\\_reader.py:329: UserWarning: Unknown extension is not supported and will be removed\n",
      "  warn(msg)\n"
     ]
    },
    {
     "name": "stdout",
     "output_type": "stream",
     "text": [
      "checking!!\n"
     ]
    },
    {
     "name": "stderr",
     "output_type": "stream",
     "text": [
      "C:\\Users\\sali85\\AppData\\Local\\Temp\\ipykernel_32644\\2206982253.py:345: VisibleDeprecationWarning: Creating an ndarray from ragged nested sequences (which is a list-or-tuple of lists-or-tuples-or ndarrays with different lengths or shapes) is deprecated. If you meant to do this, you must specify 'dtype=object' when creating the ndarray.\n",
      "  print(np.array(L_only_energy).shape)\n"
     ]
    },
    {
     "name": "stdout",
     "output_type": "stream",
     "text": [
      "(12,)\n",
      "(12, 60)\n",
      "Energy values > threshold:  (12, 60)\n",
      "L Energy Values:  (12, 60)\n",
      "All Energy Values:  (12, 60)\n",
      "Upper Threshold Energy Values:  (12, 60)\n",
      "Lower Threshold Energy Values:  (12, 60)\n",
      "(12, 60)\n",
      "(12, 60)\n",
      "Upper Threshold RMSD Values:  (12, 60)\n",
      "Lower Threshold RMSD Values:  (12, 60)\n",
      "[1.0, 2.0, 3.0, 4.0, 5.0, 6.0, 7.0, 8.0, 9.0, 10.0, 11.0, 12.0]\n",
      "Total Combinations for  12  is:  132\n"
     ]
    },
    {
     "name": "stderr",
     "output_type": "stream",
     "text": [
      "C:\\Users\\sali85\\Anaconda3\\envs\\New_Env_2\\lib\\site-packages\\openpyxl\\worksheet\\_reader.py:329: UserWarning: Unknown extension is not supported and will be removed\n",
      "  warn(msg)\n"
     ]
    },
    {
     "name": "stdout",
     "output_type": "stream",
     "text": [
      "checking!!\n"
     ]
    },
    {
     "name": "stderr",
     "output_type": "stream",
     "text": [
      "C:\\Users\\sali85\\AppData\\Local\\Temp\\ipykernel_32644\\2206982253.py:345: VisibleDeprecationWarning: Creating an ndarray from ragged nested sequences (which is a list-or-tuple of lists-or-tuples-or ndarrays with different lengths or shapes) is deprecated. If you meant to do this, you must specify 'dtype=object' when creating the ndarray.\n",
      "  print(np.array(L_only_energy).shape)\n"
     ]
    },
    {
     "name": "stdout",
     "output_type": "stream",
     "text": [
      "(12,)\n",
      "(12, 60)\n",
      "Energy values > threshold:  (12, 60)\n",
      "L Energy Values:  (12, 60)\n",
      "All Energy Values:  (12, 60)\n",
      "Upper Threshold Energy Values:  (12, 60)\n",
      "Lower Threshold Energy Values:  (12, 60)\n",
      "(12, 60)\n",
      "(12, 60)\n",
      "Upper Threshold RMSD Values:  (12, 60)\n",
      "Lower Threshold RMSD Values:  (12, 60)\n",
      "[3.8, 4.8, 5.8, 6.8, 7.8, 8.8, 9.8, 10.8, 11.8, 12.8, 13.8, 14.8]\n",
      "Total Combinations for  12  is:  132\n"
     ]
    },
    {
     "name": "stderr",
     "output_type": "stream",
     "text": [
      "C:\\Users\\sali85\\Anaconda3\\envs\\New_Env_2\\lib\\site-packages\\openpyxl\\worksheet\\_reader.py:329: UserWarning: Unknown extension is not supported and will be removed\n",
      "  warn(msg)\n"
     ]
    },
    {
     "name": "stdout",
     "output_type": "stream",
     "text": [
      "checking!!\n",
      "(7, 1318)\n",
      "(7, 60)\n",
      "Energy values > threshold:  (7, 60)\n",
      "L Energy Values:  (7, 60)\n",
      "All Energy Values:  (7, 60)\n",
      "Upper Threshold Energy Values:  (7, 60)\n",
      "Lower Threshold Energy Values:  (7, 60)\n",
      "(7, 60)\n",
      "(7, 60)\n",
      "Upper Threshold RMSD Values:  (7, 60)\n",
      "Lower Threshold RMSD Values:  (7, 60)\n",
      "[270.0, 271.0, 272.0, 273.0, 274.0, 275.0, 276.0]\n",
      "Total Combinations for  7  is:  42\n"
     ]
    },
    {
     "name": "stderr",
     "output_type": "stream",
     "text": [
      "C:\\Users\\sali85\\Anaconda3\\envs\\New_Env_2\\lib\\site-packages\\openpyxl\\worksheet\\_reader.py:329: UserWarning: Unknown extension is not supported and will be removed\n",
      "  warn(msg)\n"
     ]
    },
    {
     "name": "stdout",
     "output_type": "stream",
     "text": [
      "checking!!\n",
      "(7, 1318)\n",
      "(7, 60)\n",
      "Energy values > threshold:  (7, 60)\n",
      "L Energy Values:  (7, 60)\n",
      "All Energy Values:  (7, 60)\n",
      "Upper Threshold Energy Values:  (7, 60)\n",
      "Lower Threshold Energy Values:  (7, 60)\n",
      "(7, 60)\n",
      "(7, 60)\n",
      "Upper Threshold RMSD Values:  (7, 60)\n",
      "Lower Threshold RMSD Values:  (7, 60)\n",
      "[220.0, 221.0, 222.0, 223.0, 224.0, 225.0, 226.0]\n",
      "Total Combinations for  7  is:  42\n"
     ]
    },
    {
     "name": "stderr",
     "output_type": "stream",
     "text": [
      "C:\\Users\\sali85\\Anaconda3\\envs\\New_Env_2\\lib\\site-packages\\openpyxl\\worksheet\\_reader.py:329: UserWarning: Unknown extension is not supported and will be removed\n",
      "  warn(msg)\n"
     ]
    },
    {
     "name": "stdout",
     "output_type": "stream",
     "text": [
      "checking!!\n"
     ]
    },
    {
     "name": "stderr",
     "output_type": "stream",
     "text": [
      "C:\\Users\\sali85\\AppData\\Local\\Temp\\ipykernel_32644\\2206982253.py:345: VisibleDeprecationWarning: Creating an ndarray from ragged nested sequences (which is a list-or-tuple of lists-or-tuples-or ndarrays with different lengths or shapes) is deprecated. If you meant to do this, you must specify 'dtype=object' when creating the ndarray.\n",
      "  print(np.array(L_only_energy).shape)\n"
     ]
    },
    {
     "name": "stdout",
     "output_type": "stream",
     "text": [
      "(6,)\n",
      "(6, 60)\n",
      "Energy values > threshold:  (6, 60)\n",
      "L Energy Values:  (6, 60)\n",
      "All Energy Values:  (6, 60)\n",
      "Upper Threshold Energy Values:  (6, 60)\n",
      "Lower Threshold Energy Values:  (6, 60)\n",
      "(6, 60)\n",
      "(6, 60)\n",
      "Upper Threshold RMSD Values:  (6, 60)\n",
      "Lower Threshold RMSD Values:  (6, 60)\n",
      "[15800.0, 15801.0, 15802.0, 15803.0, 15804.0, 15805.0]\n",
      "Total Combinations for  6  is:  30\n"
     ]
    },
    {
     "name": "stderr",
     "output_type": "stream",
     "text": [
      "C:\\Users\\sali85\\Anaconda3\\envs\\New_Env_2\\lib\\site-packages\\openpyxl\\worksheet\\_reader.py:329: UserWarning: Unknown extension is not supported and will be removed\n",
      "  warn(msg)\n"
     ]
    },
    {
     "name": "stdout",
     "output_type": "stream",
     "text": [
      "checking!!\n",
      "(6, 1318)\n",
      "(6, 60)\n",
      "Energy values > threshold:  (6, 60)\n",
      "L Energy Values:  (6, 60)\n",
      "All Energy Values:  (6, 60)\n",
      "Upper Threshold Energy Values:  (6, 60)\n",
      "Lower Threshold Energy Values:  (6, 60)\n",
      "(6, 60)\n",
      "(6, 60)\n",
      "Upper Threshold RMSD Values:  (6, 60)\n",
      "Lower Threshold RMSD Values:  (6, 60)\n",
      "[1580.0, 1581.0, 1582.0, 1583.0, 1584.0, 1585.0]\n",
      "Total Combinations for  6  is:  30\n"
     ]
    },
    {
     "name": "stderr",
     "output_type": "stream",
     "text": [
      "C:\\Users\\sali85\\Anaconda3\\envs\\New_Env_2\\lib\\site-packages\\openpyxl\\worksheet\\_reader.py:329: UserWarning: Unknown extension is not supported and will be removed\n",
      "  warn(msg)\n"
     ]
    },
    {
     "name": "stdout",
     "output_type": "stream",
     "text": [
      "checking!!\n"
     ]
    },
    {
     "name": "stderr",
     "output_type": "stream",
     "text": [
      "C:\\Users\\sali85\\AppData\\Local\\Temp\\ipykernel_32644\\2206982253.py:345: VisibleDeprecationWarning: Creating an ndarray from ragged nested sequences (which is a list-or-tuple of lists-or-tuples-or ndarrays with different lengths or shapes) is deprecated. If you meant to do this, you must specify 'dtype=object' when creating the ndarray.\n",
      "  print(np.array(L_only_energy).shape)\n"
     ]
    },
    {
     "name": "stdout",
     "output_type": "stream",
     "text": [
      "(12,)\n",
      "(12, 60)\n",
      "Energy values > threshold:  (12, 60)\n",
      "L Energy Values:  (12, 60)\n",
      "All Energy Values:  (12, 60)\n",
      "Upper Threshold Energy Values:  (12, 60)\n",
      "Lower Threshold Energy Values:  (12, 60)\n",
      "(12, 60)\n",
      "(12, 60)\n",
      "Upper Threshold RMSD Values:  (12, 60)\n",
      "Lower Threshold RMSD Values:  (12, 60)\n",
      "[0.054, 1.054, 2.0540000000000003, 3.0540000000000003, 4.054, 5.054, 6.054, 7.054, 8.054, 9.054, 10.054, 11.054]\n",
      "Total Combinations for  12  is:  132\n"
     ]
    },
    {
     "name": "stderr",
     "output_type": "stream",
     "text": [
      "C:\\Users\\sali85\\Anaconda3\\envs\\New_Env_2\\lib\\site-packages\\openpyxl\\worksheet\\_reader.py:329: UserWarning: Unknown extension is not supported and will be removed\n",
      "  warn(msg)\n"
     ]
    },
    {
     "name": "stdout",
     "output_type": "stream",
     "text": [
      "checking!!\n"
     ]
    },
    {
     "name": "stderr",
     "output_type": "stream",
     "text": [
      "C:\\Users\\sali85\\AppData\\Local\\Temp\\ipykernel_32644\\2206982253.py:345: VisibleDeprecationWarning: Creating an ndarray from ragged nested sequences (which is a list-or-tuple of lists-or-tuples-or ndarrays with different lengths or shapes) is deprecated. If you meant to do this, you must specify 'dtype=object' when creating the ndarray.\n",
      "  print(np.array(L_only_energy).shape)\n"
     ]
    },
    {
     "name": "stdout",
     "output_type": "stream",
     "text": [
      "(12,)\n",
      "(12, 60)\n",
      "Energy values > threshold:  (12, 60)\n",
      "L Energy Values:  (12, 60)\n",
      "All Energy Values:  (12, 60)\n",
      "Upper Threshold Energy Values:  (12, 60)\n",
      "Lower Threshold Energy Values:  (12, 60)\n",
      "(12, 60)\n",
      "(12, 60)\n",
      "Upper Threshold RMSD Values:  (12, 60)\n",
      "Lower Threshold RMSD Values:  (12, 60)\n",
      "[112.0, 113.0, 114.0, 115.0, 116.0, 117.0, 118.0, 119.0, 120.0, 121.0, 122.0, 123.0]\n",
      "Total Combinations for  12  is:  132\n"
     ]
    },
    {
     "name": "stderr",
     "output_type": "stream",
     "text": [
      "C:\\Users\\sali85\\Anaconda3\\envs\\New_Env_2\\lib\\site-packages\\openpyxl\\worksheet\\_reader.py:329: UserWarning: Unknown extension is not supported and will be removed\n",
      "  warn(msg)\n"
     ]
    },
    {
     "name": "stdout",
     "output_type": "stream",
     "text": [
      "checking!!\n"
     ]
    },
    {
     "name": "stderr",
     "output_type": "stream",
     "text": [
      "C:\\Users\\sali85\\AppData\\Local\\Temp\\ipykernel_32644\\2206982253.py:345: VisibleDeprecationWarning: Creating an ndarray from ragged nested sequences (which is a list-or-tuple of lists-or-tuples-or ndarrays with different lengths or shapes) is deprecated. If you meant to do this, you must specify 'dtype=object' when creating the ndarray.\n",
      "  print(np.array(L_only_energy).shape)\n"
     ]
    },
    {
     "name": "stdout",
     "output_type": "stream",
     "text": [
      "(12,)\n",
      "(12, 60)\n",
      "Energy values > threshold:  (12, 60)\n",
      "L Energy Values:  (12, 60)\n",
      "All Energy Values:  (12, 60)\n",
      "Upper Threshold Energy Values:  (12, 60)\n",
      "Lower Threshold Energy Values:  (12, 60)\n",
      "(12, 60)\n",
      "(12, 60)\n",
      "Upper Threshold RMSD Values:  (12, 60)\n",
      "Lower Threshold RMSD Values:  (12, 60)\n",
      "[270.0, 271.0, 272.0, 273.0, 274.0, 275.0, 276.0, 277.0, 278.0, 279.0, 280.0, 281.0]\n",
      "Total Combinations for  12  is:  132\n"
     ]
    },
    {
     "name": "stderr",
     "output_type": "stream",
     "text": [
      "C:\\Users\\sali85\\Anaconda3\\envs\\New_Env_2\\lib\\site-packages\\openpyxl\\worksheet\\_reader.py:329: UserWarning: Unknown extension is not supported and will be removed\n",
      "  warn(msg)\n"
     ]
    },
    {
     "name": "stdout",
     "output_type": "stream",
     "text": [
      "checking!!\n"
     ]
    },
    {
     "name": "stderr",
     "output_type": "stream",
     "text": [
      "C:\\Users\\sali85\\AppData\\Local\\Temp\\ipykernel_32644\\2206982253.py:345: VisibleDeprecationWarning: Creating an ndarray from ragged nested sequences (which is a list-or-tuple of lists-or-tuples-or ndarrays with different lengths or shapes) is deprecated. If you meant to do this, you must specify 'dtype=object' when creating the ndarray.\n",
      "  print(np.array(L_only_energy).shape)\n"
     ]
    },
    {
     "name": "stdout",
     "output_type": "stream",
     "text": [
      "(10,)\n",
      "(10, 60)\n",
      "Energy values > threshold:  (10, 60)\n",
      "L Energy Values:  (10, 60)\n",
      "All Energy Values:  (10, 60)\n",
      "Upper Threshold Energy Values:  (10, 60)\n",
      "Lower Threshold Energy Values:  (10, 60)\n",
      "(10, 60)\n",
      "(10, 60)\n",
      "Upper Threshold RMSD Values:  (10, 60)\n",
      "Lower Threshold RMSD Values:  (10, 60)\n",
      "[855.0, 856.0, 857.0, 858.0, 859.0, 860.0, 861.0, 862.0, 863.0, 864.0]\n",
      "Total Combinations for  10  is:  90\n"
     ]
    },
    {
     "name": "stderr",
     "output_type": "stream",
     "text": [
      "C:\\Users\\sali85\\Anaconda3\\envs\\New_Env_2\\lib\\site-packages\\openpyxl\\worksheet\\_reader.py:329: UserWarning: Unknown extension is not supported and will be removed\n",
      "  warn(msg)\n"
     ]
    },
    {
     "name": "stdout",
     "output_type": "stream",
     "text": [
      "checking!!\n"
     ]
    },
    {
     "name": "stderr",
     "output_type": "stream",
     "text": [
      "C:\\Users\\sali85\\AppData\\Local\\Temp\\ipykernel_32644\\2206982253.py:345: VisibleDeprecationWarning: Creating an ndarray from ragged nested sequences (which is a list-or-tuple of lists-or-tuples-or ndarrays with different lengths or shapes) is deprecated. If you meant to do this, you must specify 'dtype=object' when creating the ndarray.\n",
      "  print(np.array(L_only_energy).shape)\n"
     ]
    },
    {
     "name": "stdout",
     "output_type": "stream",
     "text": [
      "(10,)\n",
      "(10, 60)\n",
      "Energy values > threshold:  (10, 60)\n",
      "L Energy Values:  (10, 60)\n",
      "All Energy Values:  (10, 60)\n",
      "Upper Threshold Energy Values:  (10, 60)\n",
      "Lower Threshold Energy Values:  (10, 60)\n",
      "(10, 60)\n",
      "(10, 60)\n",
      "Upper Threshold RMSD Values:  (10, 60)\n",
      "Lower Threshold RMSD Values:  (10, 60)\n",
      "[24.0, 25.0, 26.0, 27.0, 28.0, 29.0, 30.0, 31.0, 32.0, 33.0]\n",
      "Total Combinations for  10  is:  90\n"
     ]
    },
    {
     "name": "stderr",
     "output_type": "stream",
     "text": [
      "C:\\Users\\sali85\\Anaconda3\\envs\\New_Env_2\\lib\\site-packages\\openpyxl\\worksheet\\_reader.py:329: UserWarning: Unknown extension is not supported and will be removed\n",
      "  warn(msg)\n"
     ]
    },
    {
     "name": "stdout",
     "output_type": "stream",
     "text": [
      "checking!!\n"
     ]
    },
    {
     "name": "stderr",
     "output_type": "stream",
     "text": [
      "C:\\Users\\sali85\\AppData\\Local\\Temp\\ipykernel_32644\\2206982253.py:345: VisibleDeprecationWarning: Creating an ndarray from ragged nested sequences (which is a list-or-tuple of lists-or-tuples-or ndarrays with different lengths or shapes) is deprecated. If you meant to do this, you must specify 'dtype=object' when creating the ndarray.\n",
      "  print(np.array(L_only_energy).shape)\n"
     ]
    },
    {
     "name": "stdout",
     "output_type": "stream",
     "text": [
      "(10,)\n",
      "(10, 60)\n",
      "Energy values > threshold:  (10, 60)\n",
      "L Energy Values:  (10, 60)\n",
      "All Energy Values:  (10, 60)\n",
      "Upper Threshold Energy Values:  (10, 60)\n",
      "Lower Threshold Energy Values:  (10, 60)\n",
      "(10, 60)\n",
      "(10, 60)\n",
      "Upper Threshold RMSD Values:  (10, 60)\n",
      "Lower Threshold RMSD Values:  (10, 60)\n",
      "[37.0, 38.0, 39.0, 40.0, 41.0, 42.0, 43.0, 44.0, 45.0, 46.0]\n",
      "Total Combinations for  10  is:  90\n"
     ]
    },
    {
     "name": "stderr",
     "output_type": "stream",
     "text": [
      "C:\\Users\\sali85\\Anaconda3\\envs\\New_Env_2\\lib\\site-packages\\openpyxl\\worksheet\\_reader.py:329: UserWarning: Unknown extension is not supported and will be removed\n",
      "  warn(msg)\n"
     ]
    },
    {
     "name": "stdout",
     "output_type": "stream",
     "text": [
      "checking!!\n"
     ]
    },
    {
     "name": "stderr",
     "output_type": "stream",
     "text": [
      "C:\\Users\\sali85\\AppData\\Local\\Temp\\ipykernel_32644\\2206982253.py:345: VisibleDeprecationWarning: Creating an ndarray from ragged nested sequences (which is a list-or-tuple of lists-or-tuples-or ndarrays with different lengths or shapes) is deprecated. If you meant to do this, you must specify 'dtype=object' when creating the ndarray.\n",
      "  print(np.array(L_only_energy).shape)\n"
     ]
    },
    {
     "name": "stdout",
     "output_type": "stream",
     "text": [
      "(10,)\n",
      "(10, 60)\n",
      "Energy values > threshold:  (10, 60)\n",
      "L Energy Values:  (10, 60)\n",
      "All Energy Values:  (10, 60)\n",
      "Upper Threshold Energy Values:  (10, 60)\n",
      "Lower Threshold Energy Values:  (10, 60)\n",
      "(10, 60)\n",
      "(10, 60)\n",
      "Upper Threshold RMSD Values:  (10, 60)\n",
      "Lower Threshold RMSD Values:  (10, 60)\n",
      "[21.0, 22.0, 23.0, 24.0, 25.0, 26.0, 27.0, 28.0, 29.0, 30.0]\n",
      "Total Combinations for  10  is:  90\n"
     ]
    },
    {
     "name": "stderr",
     "output_type": "stream",
     "text": [
      "C:\\Users\\sali85\\Anaconda3\\envs\\New_Env_2\\lib\\site-packages\\openpyxl\\worksheet\\_reader.py:329: UserWarning: Unknown extension is not supported and will be removed\n",
      "  warn(msg)\n"
     ]
    },
    {
     "name": "stdout",
     "output_type": "stream",
     "text": [
      "checking!!\n"
     ]
    },
    {
     "name": "stderr",
     "output_type": "stream",
     "text": [
      "C:\\Users\\sali85\\AppData\\Local\\Temp\\ipykernel_32644\\2206982253.py:345: VisibleDeprecationWarning: Creating an ndarray from ragged nested sequences (which is a list-or-tuple of lists-or-tuples-or ndarrays with different lengths or shapes) is deprecated. If you meant to do this, you must specify 'dtype=object' when creating the ndarray.\n",
      "  print(np.array(L_only_energy).shape)\n"
     ]
    },
    {
     "name": "stdout",
     "output_type": "stream",
     "text": [
      "(10,)\n",
      "(10, 60)\n",
      "Energy values > threshold:  (10, 60)\n",
      "L Energy Values:  (10, 60)\n",
      "All Energy Values:  (10, 60)\n",
      "Upper Threshold Energy Values:  (10, 60)\n",
      "Lower Threshold Energy Values:  (10, 60)\n",
      "(10, 60)\n",
      "(10, 60)\n",
      "Upper Threshold RMSD Values:  (10, 60)\n",
      "Lower Threshold RMSD Values:  (10, 60)\n",
      "[63.0, 64.0, 65.0, 66.0, 67.0, 68.0, 69.0, 70.0, 71.0, 72.0]\n",
      "Total Combinations for  10  is:  90\n"
     ]
    },
    {
     "name": "stderr",
     "output_type": "stream",
     "text": [
      "C:\\Users\\sali85\\Anaconda3\\envs\\New_Env_2\\lib\\site-packages\\openpyxl\\worksheet\\_reader.py:329: UserWarning: Unknown extension is not supported and will be removed\n",
      "  warn(msg)\n"
     ]
    },
    {
     "name": "stdout",
     "output_type": "stream",
     "text": [
      "checking!!\n"
     ]
    },
    {
     "name": "stderr",
     "output_type": "stream",
     "text": [
      "C:\\Users\\sali85\\AppData\\Local\\Temp\\ipykernel_32644\\2206982253.py:345: VisibleDeprecationWarning: Creating an ndarray from ragged nested sequences (which is a list-or-tuple of lists-or-tuples-or ndarrays with different lengths or shapes) is deprecated. If you meant to do this, you must specify 'dtype=object' when creating the ndarray.\n",
      "  print(np.array(L_only_energy).shape)\n"
     ]
    },
    {
     "name": "stdout",
     "output_type": "stream",
     "text": [
      "(10,)\n",
      "(10, 60)\n",
      "Energy values > threshold:  (10, 60)\n",
      "L Energy Values:  (10, 60)\n",
      "All Energy Values:  (10, 60)\n",
      "Upper Threshold Energy Values:  (10, 60)\n",
      "Lower Threshold Energy Values:  (10, 60)\n",
      "(10, 60)\n",
      "(10, 60)\n",
      "Upper Threshold RMSD Values:  (10, 60)\n",
      "Lower Threshold RMSD Values:  (10, 60)\n",
      "[6.0, 7.0, 8.0, 9.0, 10.0, 11.0, 12.0, 13.0, 14.0, 15.0]\n",
      "Total Combinations for  10  is:  90\n"
     ]
    },
    {
     "name": "stderr",
     "output_type": "stream",
     "text": [
      "C:\\Users\\sali85\\Anaconda3\\envs\\New_Env_2\\lib\\site-packages\\openpyxl\\worksheet\\_reader.py:329: UserWarning: Unknown extension is not supported and will be removed\n",
      "  warn(msg)\n"
     ]
    },
    {
     "name": "stdout",
     "output_type": "stream",
     "text": [
      "checking!!\n"
     ]
    },
    {
     "name": "stderr",
     "output_type": "stream",
     "text": [
      "C:\\Users\\sali85\\AppData\\Local\\Temp\\ipykernel_32644\\2206982253.py:345: VisibleDeprecationWarning: Creating an ndarray from ragged nested sequences (which is a list-or-tuple of lists-or-tuples-or ndarrays with different lengths or shapes) is deprecated. If you meant to do this, you must specify 'dtype=object' when creating the ndarray.\n",
      "  print(np.array(L_only_energy).shape)\n"
     ]
    },
    {
     "name": "stdout",
     "output_type": "stream",
     "text": [
      "(10,)\n",
      "(10, 60)\n",
      "Energy values > threshold:  (10, 60)\n",
      "L Energy Values:  (10, 60)\n",
      "All Energy Values:  (10, 60)\n",
      "Upper Threshold Energy Values:  (10, 60)\n",
      "Lower Threshold Energy Values:  (10, 60)\n",
      "(10, 60)\n",
      "(10, 60)\n",
      "Upper Threshold RMSD Values:  (10, 60)\n",
      "Lower Threshold RMSD Values:  (10, 60)\n",
      "[22.0, 23.0, 24.0, 25.0, 26.0, 27.0, 28.0, 29.0, 30.0, 31.0]\n",
      "Total Combinations for  10  is:  90\n"
     ]
    },
    {
     "name": "stderr",
     "output_type": "stream",
     "text": [
      "C:\\Users\\sali85\\Anaconda3\\envs\\New_Env_2\\lib\\site-packages\\openpyxl\\worksheet\\_reader.py:329: UserWarning: Unknown extension is not supported and will be removed\n",
      "  warn(msg)\n"
     ]
    },
    {
     "name": "stdout",
     "output_type": "stream",
     "text": [
      "checking!!\n"
     ]
    },
    {
     "name": "stderr",
     "output_type": "stream",
     "text": [
      "C:\\Users\\sali85\\AppData\\Local\\Temp\\ipykernel_32644\\2206982253.py:345: VisibleDeprecationWarning: Creating an ndarray from ragged nested sequences (which is a list-or-tuple of lists-or-tuples-or ndarrays with different lengths or shapes) is deprecated. If you meant to do this, you must specify 'dtype=object' when creating the ndarray.\n",
      "  print(np.array(L_only_energy).shape)\n"
     ]
    },
    {
     "name": "stdout",
     "output_type": "stream",
     "text": [
      "(12,)\n",
      "(12, 60)\n",
      "Energy values > threshold:  (12, 60)\n",
      "L Energy Values:  (12, 60)\n",
      "All Energy Values:  (12, 60)\n",
      "Upper Threshold Energy Values:  (12, 60)\n",
      "Lower Threshold Energy Values:  (12, 60)\n",
      "(12, 60)\n",
      "(12, 60)\n",
      "Upper Threshold RMSD Values:  (12, 60)\n",
      "Lower Threshold RMSD Values:  (12, 60)\n",
      "[25.0, 26.0, 27.0, 28.0, 29.0, 30.0, 31.0, 32.0, 33.0, 34.0, 35.0, 36.0]\n",
      "Total Combinations for  12  is:  132\n"
     ]
    },
    {
     "name": "stderr",
     "output_type": "stream",
     "text": [
      "C:\\Users\\sali85\\Anaconda3\\envs\\New_Env_2\\lib\\site-packages\\openpyxl\\worksheet\\_reader.py:329: UserWarning: Unknown extension is not supported and will be removed\n",
      "  warn(msg)\n"
     ]
    },
    {
     "name": "stdout",
     "output_type": "stream",
     "text": [
      "checking!!\n"
     ]
    },
    {
     "name": "stderr",
     "output_type": "stream",
     "text": [
      "C:\\Users\\sali85\\AppData\\Local\\Temp\\ipykernel_32644\\2206982253.py:345: VisibleDeprecationWarning: Creating an ndarray from ragged nested sequences (which is a list-or-tuple of lists-or-tuples-or ndarrays with different lengths or shapes) is deprecated. If you meant to do this, you must specify 'dtype=object' when creating the ndarray.\n",
      "  print(np.array(L_only_energy).shape)\n"
     ]
    },
    {
     "name": "stdout",
     "output_type": "stream",
     "text": [
      "(10,)\n",
      "(10, 60)\n",
      "Energy values > threshold:  (10, 60)\n",
      "L Energy Values:  (10, 60)\n",
      "All Energy Values:  (10, 60)\n",
      "Upper Threshold Energy Values:  (10, 60)\n",
      "Lower Threshold Energy Values:  (10, 60)\n",
      "(10, 60)\n",
      "(10, 60)\n",
      "Upper Threshold RMSD Values:  (10, 60)\n",
      "Lower Threshold RMSD Values:  (10, 60)\n",
      "[64.0, 65.0, 66.0, 67.0, 68.0, 69.0, 70.0, 71.0, 72.0, 73.0]\n",
      "Total Combinations for  10  is:  90\n"
     ]
    },
    {
     "name": "stderr",
     "output_type": "stream",
     "text": [
      "C:\\Users\\sali85\\Anaconda3\\envs\\New_Env_2\\lib\\site-packages\\openpyxl\\worksheet\\_reader.py:329: UserWarning: Unknown extension is not supported and will be removed\n",
      "  warn(msg)\n"
     ]
    },
    {
     "name": "stdout",
     "output_type": "stream",
     "text": [
      "checking!!\n"
     ]
    },
    {
     "name": "stderr",
     "output_type": "stream",
     "text": [
      "C:\\Users\\sali85\\AppData\\Local\\Temp\\ipykernel_32644\\2206982253.py:345: VisibleDeprecationWarning: Creating an ndarray from ragged nested sequences (which is a list-or-tuple of lists-or-tuples-or ndarrays with different lengths or shapes) is deprecated. If you meant to do this, you must specify 'dtype=object' when creating the ndarray.\n",
      "  print(np.array(L_only_energy).shape)\n"
     ]
    },
    {
     "name": "stdout",
     "output_type": "stream",
     "text": [
      "(12,)\n",
      "(12, 60)\n",
      "Energy values > threshold:  (12, 60)\n",
      "L Energy Values:  (12, 60)\n",
      "All Energy Values:  (12, 60)\n",
      "Upper Threshold Energy Values:  (12, 60)\n",
      "Lower Threshold Energy Values:  (12, 60)\n",
      "(12, 60)\n",
      "(12, 60)\n",
      "Upper Threshold RMSD Values:  (12, 60)\n",
      "Lower Threshold RMSD Values:  (12, 60)\n",
      "[110.0, 111.0, 112.0, 113.0, 114.0, 115.0, 116.0, 117.0, 118.0, 119.0, 120.0, 121.0]\n",
      "Total Combinations for  12  is:  132\n"
     ]
    },
    {
     "name": "stderr",
     "output_type": "stream",
     "text": [
      "C:\\Users\\sali85\\Anaconda3\\envs\\New_Env_2\\lib\\site-packages\\openpyxl\\worksheet\\_reader.py:329: UserWarning: Unknown extension is not supported and will be removed\n",
      "  warn(msg)\n"
     ]
    },
    {
     "name": "stdout",
     "output_type": "stream",
     "text": [
      "checking!!\n"
     ]
    },
    {
     "name": "stderr",
     "output_type": "stream",
     "text": [
      "C:\\Users\\sali85\\AppData\\Local\\Temp\\ipykernel_32644\\2206982253.py:345: VisibleDeprecationWarning: Creating an ndarray from ragged nested sequences (which is a list-or-tuple of lists-or-tuples-or ndarrays with different lengths or shapes) is deprecated. If you meant to do this, you must specify 'dtype=object' when creating the ndarray.\n",
      "  print(np.array(L_only_energy).shape)\n"
     ]
    },
    {
     "name": "stdout",
     "output_type": "stream",
     "text": [
      "(11,)\n",
      "(11, 60)\n",
      "Energy values > threshold:  (11, 60)\n",
      "L Energy Values:  (11, 60)\n",
      "All Energy Values:  (11, 60)\n",
      "Upper Threshold Energy Values:  (11, 60)\n",
      "Lower Threshold Energy Values:  (11, 60)\n",
      "(11, 60)\n",
      "(11, 60)\n",
      "Upper Threshold RMSD Values:  (11, 60)\n",
      "Lower Threshold RMSD Values:  (11, 60)\n",
      "[13.0, 14.0, 15.0, 16.0, 17.0, 18.0, 19.0, 20.0, 21.0, 22.0, 23.0]\n",
      "Total Combinations for  11  is:  110\n"
     ]
    },
    {
     "name": "stderr",
     "output_type": "stream",
     "text": [
      "C:\\Users\\sali85\\Anaconda3\\envs\\New_Env_2\\lib\\site-packages\\openpyxl\\worksheet\\_reader.py:329: UserWarning: Unknown extension is not supported and will be removed\n",
      "  warn(msg)\n"
     ]
    },
    {
     "name": "stdout",
     "output_type": "stream",
     "text": [
      "checking!!\n"
     ]
    },
    {
     "name": "stderr",
     "output_type": "stream",
     "text": [
      "C:\\Users\\sali85\\AppData\\Local\\Temp\\ipykernel_32644\\2206982253.py:345: VisibleDeprecationWarning: Creating an ndarray from ragged nested sequences (which is a list-or-tuple of lists-or-tuples-or ndarrays with different lengths or shapes) is deprecated. If you meant to do this, you must specify 'dtype=object' when creating the ndarray.\n",
      "  print(np.array(L_only_energy).shape)\n"
     ]
    },
    {
     "name": "stdout",
     "output_type": "stream",
     "text": [
      "(11,)\n",
      "(11, 60)\n",
      "Energy values > threshold:  (11, 60)\n",
      "L Energy Values:  (11, 60)\n",
      "All Energy Values:  (11, 60)\n",
      "Upper Threshold Energy Values:  (11, 60)\n",
      "Lower Threshold Energy Values:  (11, 60)\n",
      "(11, 60)\n",
      "(11, 60)\n",
      "Upper Threshold RMSD Values:  (11, 60)\n",
      "Lower Threshold RMSD Values:  (11, 60)\n",
      "[534.8, 535.8, 536.8, 537.8, 538.8, 539.8, 540.8, 541.8, 542.8, 543.8, 544.8]\n",
      "Total Combinations for  11  is:  110\n"
     ]
    },
    {
     "name": "stderr",
     "output_type": "stream",
     "text": [
      "C:\\Users\\sali85\\Anaconda3\\envs\\New_Env_2\\lib\\site-packages\\openpyxl\\worksheet\\_reader.py:329: UserWarning: Unknown extension is not supported and will be removed\n",
      "  warn(msg)\n"
     ]
    },
    {
     "name": "stdout",
     "output_type": "stream",
     "text": [
      "checking!!\n"
     ]
    },
    {
     "name": "stderr",
     "output_type": "stream",
     "text": [
      "C:\\Users\\sali85\\AppData\\Local\\Temp\\ipykernel_32644\\2206982253.py:345: VisibleDeprecationWarning: Creating an ndarray from ragged nested sequences (which is a list-or-tuple of lists-or-tuples-or ndarrays with different lengths or shapes) is deprecated. If you meant to do this, you must specify 'dtype=object' when creating the ndarray.\n",
      "  print(np.array(L_only_energy).shape)\n"
     ]
    },
    {
     "name": "stdout",
     "output_type": "stream",
     "text": [
      "(11,)\n",
      "(11, 60)\n",
      "Energy values > threshold:  (11, 60)\n",
      "L Energy Values:  (11, 60)\n",
      "All Energy Values:  (11, 60)\n",
      "Upper Threshold Energy Values:  (11, 60)\n",
      "Lower Threshold Energy Values:  (11, 60)\n",
      "(11, 60)\n",
      "(11, 60)\n",
      "Upper Threshold RMSD Values:  (11, 60)\n",
      "Lower Threshold RMSD Values:  (11, 60)\n",
      "[238.1, 239.1, 240.1, 241.1, 242.1, 243.1, 244.1, 245.1, 246.1, 247.1, 248.1]\n",
      "Total Combinations for  11  is:  110\n"
     ]
    },
    {
     "name": "stderr",
     "output_type": "stream",
     "text": [
      "C:\\Users\\sali85\\Anaconda3\\envs\\New_Env_2\\lib\\site-packages\\openpyxl\\worksheet\\_reader.py:329: UserWarning: Unknown extension is not supported and will be removed\n",
      "  warn(msg)\n"
     ]
    },
    {
     "name": "stdout",
     "output_type": "stream",
     "text": [
      "checking!!\n"
     ]
    },
    {
     "name": "stderr",
     "output_type": "stream",
     "text": [
      "C:\\Users\\sali85\\AppData\\Local\\Temp\\ipykernel_32644\\2206982253.py:345: VisibleDeprecationWarning: Creating an ndarray from ragged nested sequences (which is a list-or-tuple of lists-or-tuples-or ndarrays with different lengths or shapes) is deprecated. If you meant to do this, you must specify 'dtype=object' when creating the ndarray.\n",
      "  print(np.array(L_only_energy).shape)\n"
     ]
    },
    {
     "name": "stdout",
     "output_type": "stream",
     "text": [
      "(11,)\n",
      "(11, 60)\n",
      "Energy values > threshold:  (11, 60)\n",
      "L Energy Values:  (11, 60)\n",
      "All Energy Values:  (11, 60)\n",
      "Upper Threshold Energy Values:  (11, 60)\n",
      "Lower Threshold Energy Values:  (11, 60)\n",
      "(11, 60)\n",
      "(11, 60)\n",
      "Upper Threshold RMSD Values:  (11, 60)\n",
      "Lower Threshold RMSD Values:  (11, 60)\n",
      "[219.8, 220.8, 221.8, 222.8, 223.8, 224.8, 225.8, 226.8, 227.8, 228.8, 229.8]\n",
      "Total Combinations for  11  is:  110\n"
     ]
    },
    {
     "name": "stderr",
     "output_type": "stream",
     "text": [
      "C:\\Users\\sali85\\Anaconda3\\envs\\New_Env_2\\lib\\site-packages\\openpyxl\\worksheet\\_reader.py:329: UserWarning: Unknown extension is not supported and will be removed\n",
      "  warn(msg)\n"
     ]
    },
    {
     "name": "stdout",
     "output_type": "stream",
     "text": [
      "checking!!\n"
     ]
    },
    {
     "name": "stderr",
     "output_type": "stream",
     "text": [
      "C:\\Users\\sali85\\AppData\\Local\\Temp\\ipykernel_32644\\2206982253.py:345: VisibleDeprecationWarning: Creating an ndarray from ragged nested sequences (which is a list-or-tuple of lists-or-tuples-or ndarrays with different lengths or shapes) is deprecated. If you meant to do this, you must specify 'dtype=object' when creating the ndarray.\n",
      "  print(np.array(L_only_energy).shape)\n"
     ]
    },
    {
     "name": "stdout",
     "output_type": "stream",
     "text": [
      "(11,)\n",
      "(11, 60)\n",
      "Energy values > threshold:  (11, 60)\n",
      "L Energy Values:  (11, 60)\n",
      "All Energy Values:  (11, 60)\n",
      "Upper Threshold Energy Values:  (11, 60)\n",
      "Lower Threshold Energy Values:  (11, 60)\n",
      "(11, 60)\n",
      "(11, 60)\n",
      "Upper Threshold RMSD Values:  (11, 60)\n",
      "Lower Threshold RMSD Values:  (11, 60)\n",
      "[32.0, 33.0, 34.0, 35.0, 36.0, 37.0, 38.0, 39.0, 40.0, 41.0, 42.0]\n",
      "Total Combinations for  11  is:  110\n"
     ]
    },
    {
     "name": "stderr",
     "output_type": "stream",
     "text": [
      "C:\\Users\\sali85\\Anaconda3\\envs\\New_Env_2\\lib\\site-packages\\openpyxl\\worksheet\\_reader.py:329: UserWarning: Unknown extension is not supported and will be removed\n",
      "  warn(msg)\n"
     ]
    },
    {
     "name": "stdout",
     "output_type": "stream",
     "text": [
      "checking!!\n"
     ]
    },
    {
     "name": "stderr",
     "output_type": "stream",
     "text": [
      "C:\\Users\\sali85\\AppData\\Local\\Temp\\ipykernel_32644\\2206982253.py:345: VisibleDeprecationWarning: Creating an ndarray from ragged nested sequences (which is a list-or-tuple of lists-or-tuples-or ndarrays with different lengths or shapes) is deprecated. If you meant to do this, you must specify 'dtype=object' when creating the ndarray.\n",
      "  print(np.array(L_only_energy).shape)\n"
     ]
    },
    {
     "name": "stdout",
     "output_type": "stream",
     "text": [
      "(12,)\n",
      "(12, 60)\n",
      "Energy values > threshold:  (12, 60)\n",
      "L Energy Values:  (12, 60)\n",
      "All Energy Values:  (12, 60)\n",
      "Upper Threshold Energy Values:  (12, 60)\n",
      "Lower Threshold Energy Values:  (12, 60)\n",
      "(12, 60)\n",
      "(12, 60)\n",
      "Upper Threshold RMSD Values:  (12, 60)\n",
      "Lower Threshold RMSD Values:  (12, 60)\n",
      "[21.0, 22.0, 23.0, 24.0, 25.0, 26.0, 27.0, 28.0, 29.0, 30.0, 31.0, 32.0]\n",
      "Total Combinations for  12  is:  132\n"
     ]
    },
    {
     "name": "stderr",
     "output_type": "stream",
     "text": [
      "C:\\Users\\sali85\\Anaconda3\\envs\\New_Env_2\\lib\\site-packages\\openpyxl\\worksheet\\_reader.py:329: UserWarning: Unknown extension is not supported and will be removed\n",
      "  warn(msg)\n"
     ]
    },
    {
     "name": "stdout",
     "output_type": "stream",
     "text": [
      "checking!!\n"
     ]
    },
    {
     "name": "stderr",
     "output_type": "stream",
     "text": [
      "C:\\Users\\sali85\\AppData\\Local\\Temp\\ipykernel_32644\\2206982253.py:345: VisibleDeprecationWarning: Creating an ndarray from ragged nested sequences (which is a list-or-tuple of lists-or-tuples-or ndarrays with different lengths or shapes) is deprecated. If you meant to do this, you must specify 'dtype=object' when creating the ndarray.\n",
      "  print(np.array(L_only_energy).shape)\n"
     ]
    },
    {
     "name": "stdout",
     "output_type": "stream",
     "text": [
      "(12,)\n",
      "(12, 60)\n",
      "Energy values > threshold:  (12, 60)\n",
      "L Energy Values:  (12, 60)\n",
      "All Energy Values:  (12, 60)\n",
      "Upper Threshold Energy Values:  (12, 60)\n",
      "Lower Threshold Energy Values:  (12, 60)\n",
      "(12, 60)\n",
      "(12, 60)\n",
      "Upper Threshold RMSD Values:  (12, 60)\n",
      "Lower Threshold RMSD Values:  (12, 60)\n",
      "[13.0, 14.0, 15.0, 16.0, 17.0, 18.0, 19.0, 20.0, 21.0, 22.0, 23.0, 24.0]\n",
      "Total Combinations for  12  is:  132\n"
     ]
    },
    {
     "name": "stderr",
     "output_type": "stream",
     "text": [
      "C:\\Users\\sali85\\Anaconda3\\envs\\New_Env_2\\lib\\site-packages\\openpyxl\\worksheet\\_reader.py:329: UserWarning: Unknown extension is not supported and will be removed\n",
      "  warn(msg)\n"
     ]
    },
    {
     "name": "stdout",
     "output_type": "stream",
     "text": [
      "checking!!\n"
     ]
    },
    {
     "name": "stderr",
     "output_type": "stream",
     "text": [
      "C:\\Users\\sali85\\AppData\\Local\\Temp\\ipykernel_32644\\2206982253.py:345: VisibleDeprecationWarning: Creating an ndarray from ragged nested sequences (which is a list-or-tuple of lists-or-tuples-or ndarrays with different lengths or shapes) is deprecated. If you meant to do this, you must specify 'dtype=object' when creating the ndarray.\n",
      "  print(np.array(L_only_energy).shape)\n"
     ]
    },
    {
     "name": "stdout",
     "output_type": "stream",
     "text": [
      "(12,)\n",
      "(12, 60)\n",
      "Energy values > threshold:  (12, 60)\n",
      "L Energy Values:  (12, 60)\n",
      "All Energy Values:  (12, 60)\n",
      "Upper Threshold Energy Values:  (12, 60)\n",
      "Lower Threshold Energy Values:  (12, 60)\n",
      "(12, 60)\n",
      "(12, 60)\n",
      "Upper Threshold RMSD Values:  (12, 60)\n",
      "Lower Threshold RMSD Values:  (12, 60)\n",
      "[160.0, 161.0, 162.0, 163.0, 164.0, 165.0, 166.0, 167.0, 168.0, 169.0, 170.0, 171.0]\n",
      "Total Combinations for  12  is:  132\n"
     ]
    },
    {
     "name": "stderr",
     "output_type": "stream",
     "text": [
      "C:\\Users\\sali85\\Anaconda3\\envs\\New_Env_2\\lib\\site-packages\\openpyxl\\worksheet\\_reader.py:329: UserWarning: Unknown extension is not supported and will be removed\n",
      "  warn(msg)\n"
     ]
    },
    {
     "name": "stdout",
     "output_type": "stream",
     "text": [
      "checking!!\n"
     ]
    },
    {
     "name": "stderr",
     "output_type": "stream",
     "text": [
      "C:\\Users\\sali85\\AppData\\Local\\Temp\\ipykernel_32644\\2206982253.py:345: VisibleDeprecationWarning: Creating an ndarray from ragged nested sequences (which is a list-or-tuple of lists-or-tuples-or ndarrays with different lengths or shapes) is deprecated. If you meant to do this, you must specify 'dtype=object' when creating the ndarray.\n",
      "  print(np.array(L_only_energy).shape)\n"
     ]
    },
    {
     "name": "stdout",
     "output_type": "stream",
     "text": [
      "(7,)\n",
      "(7, 60)\n",
      "Energy values > threshold:  (7, 60)\n",
      "L Energy Values:  (7, 60)\n",
      "All Energy Values:  (7, 60)\n",
      "Upper Threshold Energy Values:  (7, 60)\n",
      "Lower Threshold Energy Values:  (7, 60)\n",
      "(7, 60)\n",
      "(7, 60)\n",
      "Upper Threshold RMSD Values:  (7, 60)\n",
      "Lower Threshold RMSD Values:  (7, 60)\n",
      "[2770.0, 2771.0, 2772.0, 2773.0, 2774.0, 2775.0, 2776.0]\n",
      "Total Combinations for  7  is:  42\n"
     ]
    },
    {
     "name": "stderr",
     "output_type": "stream",
     "text": [
      "C:\\Users\\sali85\\Anaconda3\\envs\\New_Env_2\\lib\\site-packages\\openpyxl\\worksheet\\_reader.py:329: UserWarning: Unknown extension is not supported and will be removed\n",
      "  warn(msg)\n"
     ]
    },
    {
     "name": "stdout",
     "output_type": "stream",
     "text": [
      "checking!!\n",
      "(8, 1318)\n",
      "(8, 60)\n",
      "Energy values > threshold:  (8, 60)\n",
      "L Energy Values:  (8, 60)\n",
      "All Energy Values:  (8, 60)\n",
      "Upper Threshold Energy Values:  (8, 60)\n",
      "Lower Threshold Energy Values:  (8, 60)\n",
      "(8, 60)\n",
      "(8, 60)\n",
      "Upper Threshold RMSD Values:  (8, 60)\n",
      "Lower Threshold RMSD Values:  (8, 60)\n",
      "[3770.0, 3771.0, 3772.0, 3773.0, 3774.0, 3775.0, 3776.0, 3777.0]\n",
      "Total Combinations for  8  is:  56\n"
     ]
    },
    {
     "name": "stderr",
     "output_type": "stream",
     "text": [
      "C:\\Users\\sali85\\Anaconda3\\envs\\New_Env_2\\lib\\site-packages\\openpyxl\\worksheet\\_reader.py:329: UserWarning: Unknown extension is not supported and will be removed\n",
      "  warn(msg)\n"
     ]
    },
    {
     "name": "stdout",
     "output_type": "stream",
     "text": [
      "checking!!\n"
     ]
    },
    {
     "name": "stderr",
     "output_type": "stream",
     "text": [
      "C:\\Users\\sali85\\AppData\\Local\\Temp\\ipykernel_32644\\2206982253.py:345: VisibleDeprecationWarning: Creating an ndarray from ragged nested sequences (which is a list-or-tuple of lists-or-tuples-or ndarrays with different lengths or shapes) is deprecated. If you meant to do this, you must specify 'dtype=object' when creating the ndarray.\n",
      "  print(np.array(L_only_energy).shape)\n"
     ]
    },
    {
     "name": "stdout",
     "output_type": "stream",
     "text": [
      "(7,)\n",
      "(7, 60)\n",
      "Energy values > threshold:  (7, 60)\n",
      "L Energy Values:  (7, 60)\n",
      "All Energy Values:  (7, 60)\n",
      "Upper Threshold Energy Values:  (7, 60)\n",
      "Lower Threshold Energy Values:  (7, 60)\n",
      "(7, 60)\n",
      "(7, 60)\n",
      "Upper Threshold RMSD Values:  (7, 60)\n",
      "Lower Threshold RMSD Values:  (7, 60)\n",
      "[1260.0, 1261.0, 1262.0, 1263.0, 1264.0, 1265.0, 1266.0]\n",
      "Total Combinations for  7  is:  42\n"
     ]
    },
    {
     "name": "stderr",
     "output_type": "stream",
     "text": [
      "C:\\Users\\sali85\\Anaconda3\\envs\\New_Env_2\\lib\\site-packages\\openpyxl\\worksheet\\_reader.py:329: UserWarning: Unknown extension is not supported and will be removed\n",
      "  warn(msg)\n"
     ]
    },
    {
     "name": "stdout",
     "output_type": "stream",
     "text": [
      "checking!!\n",
      "(7, 1318)\n",
      "(7, 60)\n",
      "Energy values > threshold:  (7, 60)\n",
      "L Energy Values:  (7, 60)\n",
      "All Energy Values:  (7, 60)\n",
      "Upper Threshold Energy Values:  (7, 60)\n",
      "Lower Threshold Energy Values:  (7, 60)\n",
      "(7, 60)\n",
      "(7, 60)\n",
      "Upper Threshold RMSD Values:  (7, 60)\n",
      "Lower Threshold RMSD Values:  (7, 60)\n",
      "[1340.0, 1341.0, 1342.0, 1343.0, 1344.0, 1345.0, 1346.0]\n",
      "Total Combinations for  7  is:  42\n"
     ]
    },
    {
     "name": "stderr",
     "output_type": "stream",
     "text": [
      "C:\\Users\\sali85\\Anaconda3\\envs\\New_Env_2\\lib\\site-packages\\openpyxl\\worksheet\\_reader.py:329: UserWarning: Unknown extension is not supported and will be removed\n",
      "  warn(msg)\n"
     ]
    },
    {
     "name": "stdout",
     "output_type": "stream",
     "text": [
      "checking!!\n"
     ]
    },
    {
     "name": "stderr",
     "output_type": "stream",
     "text": [
      "C:\\Users\\sali85\\AppData\\Local\\Temp\\ipykernel_32644\\2206982253.py:345: VisibleDeprecationWarning: Creating an ndarray from ragged nested sequences (which is a list-or-tuple of lists-or-tuples-or ndarrays with different lengths or shapes) is deprecated. If you meant to do this, you must specify 'dtype=object' when creating the ndarray.\n",
      "  print(np.array(L_only_energy).shape)\n"
     ]
    },
    {
     "name": "stdout",
     "output_type": "stream",
     "text": [
      "(12,)\n",
      "(12, 60)\n",
      "Energy values > threshold:  (12, 60)\n",
      "L Energy Values:  (12, 60)\n",
      "All Energy Values:  (12, 60)\n",
      "Upper Threshold Energy Values:  (12, 60)\n",
      "Lower Threshold Energy Values:  (12, 60)\n",
      "(12, 60)\n",
      "(12, 60)\n",
      "Upper Threshold RMSD Values:  (12, 60)\n",
      "Lower Threshold RMSD Values:  (12, 60)\n",
      "[1.0, 2.0, 3.0, 4.0, 5.0, 6.0, 7.0, 8.0, 9.0, 10.0, 11.0, 12.0]\n",
      "Total Combinations for  12  is:  132\n"
     ]
    },
    {
     "name": "stderr",
     "output_type": "stream",
     "text": [
      "C:\\Users\\sali85\\Anaconda3\\envs\\New_Env_2\\lib\\site-packages\\openpyxl\\worksheet\\_reader.py:329: UserWarning: Unknown extension is not supported and will be removed\n",
      "  warn(msg)\n"
     ]
    },
    {
     "name": "stdout",
     "output_type": "stream",
     "text": [
      "checking!!\n"
     ]
    },
    {
     "name": "stderr",
     "output_type": "stream",
     "text": [
      "C:\\Users\\sali85\\AppData\\Local\\Temp\\ipykernel_32644\\2206982253.py:345: VisibleDeprecationWarning: Creating an ndarray from ragged nested sequences (which is a list-or-tuple of lists-or-tuples-or ndarrays with different lengths or shapes) is deprecated. If you meant to do this, you must specify 'dtype=object' when creating the ndarray.\n",
      "  print(np.array(L_only_energy).shape)\n",
      "C:\\Users\\sali85\\Anaconda3\\envs\\New_Env_2\\lib\\site-packages\\numpy\\core\\fromnumeric.py:3430: FutureWarning: In a future version, DataFrame.mean(axis=None) will return a scalar mean over the entire DataFrame. To retain the old behavior, use 'frame.mean(axis=0)' or just 'frame.mean()'\n",
      "  return mean(axis=axis, dtype=dtype, out=out, **kwargs)\n"
     ]
    },
    {
     "name": "stdout",
     "output_type": "stream",
     "text": [
      "(12,)\n",
      "(12, 60)\n",
      "Energy values > threshold:  (12, 60)\n",
      "L Energy Values:  (12, 60)\n",
      "All Energy Values:  (12, 60)\n",
      "Upper Threshold Energy Values:  (12, 60)\n",
      "Lower Threshold Energy Values:  (12, 60)\n",
      "(12, 60)\n",
      "(12, 60)\n",
      "Upper Threshold RMSD Values:  (12, 60)\n",
      "Lower Threshold RMSD Values:  (12, 60)\n",
      "[0.39, 1.3900000000000001, 2.39, 3.39, 4.390000000000001, 5.390000000000001, 6.390000000000001, 7.390000000000001, 8.39, 9.39, 10.39, 11.39]\n",
      "Total Combinations for  12  is:  132\n",
      "NB Time :  0.10885790000020279\n"
     ]
    },
    {
     "name": "stderr",
     "output_type": "stream",
     "text": [
      "C:\\Users\\sali85\\Anaconda3\\envs\\New_Env_2\\lib\\site-packages\\numpy\\core\\fromnumeric.py:3430: FutureWarning: In a future version, DataFrame.mean(axis=None) will return a scalar mean over the entire DataFrame. To retain the old behavior, use 'frame.mean(axis=0)' or just 'frame.mean()'\n",
      "  return mean(axis=axis, dtype=dtype, out=out, **kwargs)\n"
     ]
    },
    {
     "name": "stdout",
     "output_type": "stream",
     "text": [
      "MLP Time :  14.340620800000124\n"
     ]
    },
    {
     "name": "stderr",
     "output_type": "stream",
     "text": [
      "C:\\Users\\sali85\\Anaconda3\\envs\\New_Env_2\\lib\\site-packages\\numpy\\core\\fromnumeric.py:3430: FutureWarning: In a future version, DataFrame.mean(axis=None) will return a scalar mean over the entire DataFrame. To retain the old behavior, use 'frame.mean(axis=0)' or just 'frame.mean()'\n",
      "  return mean(axis=axis, dtype=dtype, out=out, **kwargs)\n"
     ]
    },
    {
     "name": "stdout",
     "output_type": "stream",
     "text": [
      "KNN Time :  3.180298799999946\n"
     ]
    },
    {
     "name": "stderr",
     "output_type": "stream",
     "text": [
      "C:\\Users\\sali85\\Anaconda3\\envs\\New_Env_2\\lib\\site-packages\\numpy\\core\\fromnumeric.py:3430: FutureWarning: In a future version, DataFrame.mean(axis=None) will return a scalar mean over the entire DataFrame. To retain the old behavior, use 'frame.mean(axis=0)' or just 'frame.mean()'\n",
      "  return mean(axis=axis, dtype=dtype, out=out, **kwargs)\n",
      "C:\\Users\\sali85\\Anaconda3\\envs\\New_Env_2\\lib\\site-packages\\numpy\\core\\fromnumeric.py:3430: FutureWarning: In a future version, DataFrame.mean(axis=None) will return a scalar mean over the entire DataFrame. To retain the old behavior, use 'frame.mean(axis=0)' or just 'frame.mean()'\n",
      "  return mean(axis=axis, dtype=dtype, out=out, **kwargs)\n"
     ]
    },
    {
     "name": "stdout",
     "output_type": "stream",
     "text": [
      "RF Time :  3.480815899999925\n",
      "Theta Coefficients: [[-1.24452627e+00 -6.76813028e-01 -6.48376967e-01 -9.65379877e-02\n",
      "  -6.84458656e-02 -3.94148118e-01 -3.03941780e-02 -1.38286913e-01\n",
      "  -2.70320750e-01 -3.90524054e-01 -5.35818125e-01 -6.63168306e-01\n",
      "  -4.33978155e-04 -5.97179946e-01 -4.09632649e-02 -1.38405201e-02\n",
      "   5.01385851e-02 -4.19928821e-03 -3.55589813e-01 -5.23284662e-02\n",
      "   2.30887750e-01  1.05822566e-01 -9.99342504e-02 -1.75644818e-01\n",
      "  -1.14079676e-01  1.40004924e-01 -4.59254963e-02  6.06718961e-03\n",
      "   3.63182055e-01  7.06521812e-02  2.88384118e-01  3.51855868e-01\n",
      "   4.82520551e-01  4.07957101e-01  5.96961362e-02  1.16764521e-01\n",
      "   1.35833590e-01  1.53211911e-02 -9.13356950e-02  1.10479267e-01\n",
      "   3.62826671e-01  6.02078476e-01  5.10638896e-01  4.32541140e-01\n",
      "   3.48738348e-01  4.31279541e-01  3.30212259e-01  1.46941248e-01\n",
      "   1.77964459e-01  1.87231492e-01  1.58083481e-01 -2.69628410e-02\n",
      "  -1.32286779e-02  8.44918124e-02 -1.98546295e-02  3.79965714e-02\n",
      "   1.04449361e-03  1.37171555e-02  3.56377186e-02  1.18705666e-02\n",
      "   1.24452627e+00  6.76813028e-01  6.48376967e-01  9.65379877e-02\n",
      "   6.84458656e-02  3.94148118e-01  3.03941780e-02  1.38286913e-01\n",
      "   2.70320750e-01  3.90524054e-01  5.35818125e-01  6.63168306e-01\n",
      "   4.33978159e-04  5.97179946e-01  4.09632649e-02  1.38405201e-02\n",
      "  -5.01385851e-02  4.19928822e-03  3.55589813e-01  5.23284662e-02\n",
      "  -2.30887750e-01 -1.05822566e-01  9.99342504e-02  1.75644818e-01\n",
      "   1.14079676e-01 -1.40004924e-01  4.59254963e-02 -6.06718961e-03\n",
      "  -3.63182055e-01 -7.06521812e-02 -2.88384118e-01 -3.51855868e-01\n",
      "  -4.82520551e-01 -4.07957101e-01 -5.96961362e-02 -1.16764521e-01\n",
      "  -1.35833590e-01 -1.53211911e-02  9.13356950e-02 -1.10479267e-01\n",
      "  -3.62826671e-01 -6.02078476e-01 -5.10638896e-01 -4.32541140e-01\n",
      "  -3.48738348e-01 -4.31279541e-01 -3.30212259e-01 -1.46941248e-01\n",
      "  -1.77964459e-01 -1.87231492e-01 -1.58083481e-01  2.69628410e-02\n",
      "   1.32286779e-02 -8.44918124e-02  1.98546295e-02 -3.79965714e-02\n",
      "  -1.04449361e-03 -1.37171555e-02 -3.56377186e-02 -1.18705666e-02]]\n",
      "Intercept: [-9.8305902e-13]\n",
      "LR Time :  0.12217009999994843\n"
     ]
    },
    {
     "name": "stderr",
     "output_type": "stream",
     "text": [
      "C:\\Users\\sali85\\Anaconda3\\envs\\New_Env_2\\lib\\site-packages\\numpy\\core\\fromnumeric.py:3430: FutureWarning: In a future version, DataFrame.mean(axis=None) will return a scalar mean over the entire DataFrame. To retain the old behavior, use 'frame.mean(axis=0)' or just 'frame.mean()'\n",
      "  return mean(axis=axis, dtype=dtype, out=out, **kwargs)\n"
     ]
    },
    {
     "name": "stdout",
     "output_type": "stream",
     "text": [
      "DT Time :  0.5352215999996588\n"
     ]
    },
    {
     "name": "stderr",
     "output_type": "stream",
     "text": [
      "C:\\Users\\sali85\\Anaconda3\\envs\\New_Env_2\\lib\\site-packages\\numpy\\core\\fromnumeric.py:3430: FutureWarning: In a future version, DataFrame.mean(axis=None) will return a scalar mean over the entire DataFrame. To retain the old behavior, use 'frame.mean(axis=0)' or just 'frame.mean()'\n",
      "  return mean(axis=axis, dtype=dtype, out=out, **kwargs)\n"
     ]
    },
    {
     "name": "stdout",
     "output_type": "stream",
     "text": [
      "SVM Time :  12.574701699999878\n"
     ]
    },
    {
     "name": "stderr",
     "output_type": "stream",
     "text": [
      "C:\\Users\\sali85\\Anaconda3\\envs\\New_Env_2\\lib\\site-packages\\openpyxl\\worksheet\\_reader.py:329: UserWarning: Unknown extension is not supported and will be removed\n",
      "  warn(msg)\n"
     ]
    },
    {
     "name": "stdout",
     "output_type": "stream",
     "text": [
      "checking!!\n"
     ]
    },
    {
     "name": "stderr",
     "output_type": "stream",
     "text": [
      "C:\\Users\\sali85\\AppData\\Local\\Temp\\ipykernel_32644\\2206982253.py:345: VisibleDeprecationWarning: Creating an ndarray from ragged nested sequences (which is a list-or-tuple of lists-or-tuples-or ndarrays with different lengths or shapes) is deprecated. If you meant to do this, you must specify 'dtype=object' when creating the ndarray.\n",
      "  print(np.array(L_only_energy).shape)\n"
     ]
    },
    {
     "name": "stdout",
     "output_type": "stream",
     "text": [
      "(12,)\n",
      "(12, 60)\n",
      "Energy values > threshold:  (12, 60)\n",
      "L Energy Values:  (12, 60)\n",
      "All Energy Values:  (12, 60)\n",
      "Upper Threshold Energy Values:  (12, 60)\n",
      "Lower Threshold Energy Values:  (12, 60)\n",
      "(12, 60)\n",
      "(12, 60)\n",
      "Upper Threshold RMSD Values:  (12, 60)\n",
      "Lower Threshold RMSD Values:  (12, 60)\n",
      "[7.1, 8.1, 9.1, 10.1, 11.1, 12.1, 13.1, 14.1, 15.1, 16.1, 17.1, 18.1]\n",
      "Total Combinations for  12  is:  132\n"
     ]
    },
    {
     "name": "stderr",
     "output_type": "stream",
     "text": [
      "C:\\Users\\sali85\\Anaconda3\\envs\\New_Env_2\\lib\\site-packages\\openpyxl\\worksheet\\_reader.py:329: UserWarning: Unknown extension is not supported and will be removed\n",
      "  warn(msg)\n"
     ]
    },
    {
     "name": "stdout",
     "output_type": "stream",
     "text": [
      "checking!!\n"
     ]
    },
    {
     "name": "stderr",
     "output_type": "stream",
     "text": [
      "C:\\Users\\sali85\\AppData\\Local\\Temp\\ipykernel_32644\\2206982253.py:345: VisibleDeprecationWarning: Creating an ndarray from ragged nested sequences (which is a list-or-tuple of lists-or-tuples-or ndarrays with different lengths or shapes) is deprecated. If you meant to do this, you must specify 'dtype=object' when creating the ndarray.\n",
      "  print(np.array(L_only_energy).shape)\n"
     ]
    },
    {
     "name": "stdout",
     "output_type": "stream",
     "text": [
      "(12,)\n",
      "(12, 60)\n",
      "Energy values > threshold:  (12, 60)\n",
      "L Energy Values:  (12, 60)\n",
      "All Energy Values:  (12, 60)\n",
      "Upper Threshold Energy Values:  (12, 60)\n",
      "Lower Threshold Energy Values:  (12, 60)\n",
      "(12, 60)\n",
      "(12, 60)\n",
      "Upper Threshold RMSD Values:  (12, 60)\n",
      "Lower Threshold RMSD Values:  (12, 60)\n",
      "[3000.0, 3001.0, 3002.0, 3003.0, 3004.0, 3005.0, 3006.0, 3007.0, 3008.0, 3009.0, 3010.0, 3011.0]\n",
      "Total Combinations for  12  is:  132\n"
     ]
    },
    {
     "name": "stderr",
     "output_type": "stream",
     "text": [
      "C:\\Users\\sali85\\Anaconda3\\envs\\New_Env_2\\lib\\site-packages\\openpyxl\\worksheet\\_reader.py:329: UserWarning: Unknown extension is not supported and will be removed\n",
      "  warn(msg)\n"
     ]
    },
    {
     "name": "stdout",
     "output_type": "stream",
     "text": [
      "checking!!\n"
     ]
    },
    {
     "name": "stderr",
     "output_type": "stream",
     "text": [
      "C:\\Users\\sali85\\AppData\\Local\\Temp\\ipykernel_32644\\2206982253.py:345: VisibleDeprecationWarning: Creating an ndarray from ragged nested sequences (which is a list-or-tuple of lists-or-tuples-or ndarrays with different lengths or shapes) is deprecated. If you meant to do this, you must specify 'dtype=object' when creating the ndarray.\n",
      "  print(np.array(L_only_energy).shape)\n"
     ]
    },
    {
     "name": "stdout",
     "output_type": "stream",
     "text": [
      "(12,)\n",
      "(12, 60)\n",
      "Energy values > threshold:  (12, 60)\n",
      "L Energy Values:  (12, 60)\n",
      "All Energy Values:  (12, 60)\n",
      "Upper Threshold Energy Values:  (12, 60)\n",
      "Lower Threshold Energy Values:  (12, 60)\n",
      "(12, 60)\n",
      "(12, 60)\n",
      "Upper Threshold RMSD Values:  (12, 60)\n",
      "Lower Threshold RMSD Values:  (12, 60)\n",
      "[1000.0, 1001.0, 1002.0, 1003.0, 1004.0, 1005.0, 1006.0, 1007.0, 1008.0, 1009.0, 1010.0, 1011.0]\n",
      "Total Combinations for  12  is:  132\n"
     ]
    },
    {
     "name": "stderr",
     "output_type": "stream",
     "text": [
      "C:\\Users\\sali85\\Anaconda3\\envs\\New_Env_2\\lib\\site-packages\\openpyxl\\worksheet\\_reader.py:329: UserWarning: Unknown extension is not supported and will be removed\n",
      "  warn(msg)\n"
     ]
    },
    {
     "name": "stdout",
     "output_type": "stream",
     "text": [
      "checking!!\n"
     ]
    },
    {
     "name": "stderr",
     "output_type": "stream",
     "text": [
      "C:\\Users\\sali85\\AppData\\Local\\Temp\\ipykernel_32644\\2206982253.py:345: VisibleDeprecationWarning: Creating an ndarray from ragged nested sequences (which is a list-or-tuple of lists-or-tuples-or ndarrays with different lengths or shapes) is deprecated. If you meant to do this, you must specify 'dtype=object' when creating the ndarray.\n",
      "  print(np.array(L_only_energy).shape)\n"
     ]
    },
    {
     "name": "stdout",
     "output_type": "stream",
     "text": [
      "(12,)\n",
      "(12, 60)\n",
      "Energy values > threshold:  (12, 60)\n",
      "L Energy Values:  (12, 60)\n",
      "All Energy Values:  (12, 60)\n",
      "Upper Threshold Energy Values:  (12, 60)\n",
      "Lower Threshold Energy Values:  (12, 60)\n",
      "(12, 60)\n",
      "(12, 60)\n",
      "Upper Threshold RMSD Values:  (12, 60)\n",
      "Lower Threshold RMSD Values:  (12, 60)\n",
      "[0.15, 1.15, 2.15, 3.15, 4.15, 5.15, 6.15, 7.15, 8.15, 9.15, 10.15, 11.15]\n",
      "Total Combinations for  12  is:  132\n"
     ]
    },
    {
     "name": "stderr",
     "output_type": "stream",
     "text": [
      "C:\\Users\\sali85\\Anaconda3\\envs\\New_Env_2\\lib\\site-packages\\openpyxl\\worksheet\\_reader.py:329: UserWarning: Unknown extension is not supported and will be removed\n",
      "  warn(msg)\n"
     ]
    },
    {
     "name": "stdout",
     "output_type": "stream",
     "text": [
      "checking!!\n"
     ]
    },
    {
     "name": "stderr",
     "output_type": "stream",
     "text": [
      "C:\\Users\\sali85\\AppData\\Local\\Temp\\ipykernel_32644\\2206982253.py:345: VisibleDeprecationWarning: Creating an ndarray from ragged nested sequences (which is a list-or-tuple of lists-or-tuples-or ndarrays with different lengths or shapes) is deprecated. If you meant to do this, you must specify 'dtype=object' when creating the ndarray.\n",
      "  print(np.array(L_only_energy).shape)\n"
     ]
    },
    {
     "name": "stdout",
     "output_type": "stream",
     "text": [
      "(6,)\n",
      "(6, 60)\n",
      "Energy values > threshold:  (6, 60)\n",
      "L Energy Values:  (6, 60)\n",
      "All Energy Values:  (6, 60)\n",
      "Upper Threshold Energy Values:  (6, 60)\n",
      "Lower Threshold Energy Values:  (6, 60)\n",
      "(6, 60)\n",
      "(6, 60)\n",
      "Upper Threshold RMSD Values:  (6, 60)\n",
      "Lower Threshold RMSD Values:  (6, 60)\n",
      "[79.0, 80.0, 81.0, 82.0, 83.0, 84.0]\n",
      "Total Combinations for  6  is:  30\n"
     ]
    },
    {
     "name": "stderr",
     "output_type": "stream",
     "text": [
      "C:\\Users\\sali85\\Anaconda3\\envs\\New_Env_2\\lib\\site-packages\\openpyxl\\worksheet\\_reader.py:329: UserWarning: Unknown extension is not supported and will be removed\n",
      "  warn(msg)\n"
     ]
    },
    {
     "name": "stdout",
     "output_type": "stream",
     "text": [
      "checking!!\n"
     ]
    },
    {
     "name": "stderr",
     "output_type": "stream",
     "text": [
      "C:\\Users\\sali85\\AppData\\Local\\Temp\\ipykernel_32644\\2206982253.py:345: VisibleDeprecationWarning: Creating an ndarray from ragged nested sequences (which is a list-or-tuple of lists-or-tuples-or ndarrays with different lengths or shapes) is deprecated. If you meant to do this, you must specify 'dtype=object' when creating the ndarray.\n",
      "  print(np.array(L_only_energy).shape)\n"
     ]
    },
    {
     "name": "stdout",
     "output_type": "stream",
     "text": [
      "(12,)\n",
      "(12, 60)\n",
      "Energy values > threshold:  (12, 60)\n",
      "L Energy Values:  (12, 60)\n",
      "All Energy Values:  (12, 60)\n",
      "Upper Threshold Energy Values:  (12, 60)\n",
      "Lower Threshold Energy Values:  (12, 60)\n",
      "(12, 60)\n",
      "(12, 60)\n",
      "Upper Threshold RMSD Values:  (12, 60)\n",
      "Lower Threshold RMSD Values:  (12, 60)\n",
      "[70.0, 71.0, 72.0, 73.0, 74.0, 75.0, 76.0, 77.0, 78.0, 79.0, 80.0, 81.0]\n",
      "Total Combinations for  12  is:  132\n"
     ]
    },
    {
     "name": "stderr",
     "output_type": "stream",
     "text": [
      "C:\\Users\\sali85\\Anaconda3\\envs\\New_Env_2\\lib\\site-packages\\openpyxl\\worksheet\\_reader.py:329: UserWarning: Unknown extension is not supported and will be removed\n",
      "  warn(msg)\n"
     ]
    },
    {
     "name": "stdout",
     "output_type": "stream",
     "text": [
      "checking!!\n"
     ]
    },
    {
     "name": "stderr",
     "output_type": "stream",
     "text": [
      "C:\\Users\\sali85\\AppData\\Local\\Temp\\ipykernel_32644\\2206982253.py:345: VisibleDeprecationWarning: Creating an ndarray from ragged nested sequences (which is a list-or-tuple of lists-or-tuples-or ndarrays with different lengths or shapes) is deprecated. If you meant to do this, you must specify 'dtype=object' when creating the ndarray.\n",
      "  print(np.array(L_only_energy).shape)\n"
     ]
    },
    {
     "name": "stdout",
     "output_type": "stream",
     "text": [
      "(12,)\n",
      "(12, 60)\n",
      "Energy values > threshold:  (12, 60)\n",
      "L Energy Values:  (12, 60)\n",
      "All Energy Values:  (12, 60)\n",
      "Upper Threshold Energy Values:  (12, 60)\n",
      "Lower Threshold Energy Values:  (12, 60)\n",
      "(12, 60)\n",
      "(12, 60)\n",
      "Upper Threshold RMSD Values:  (12, 60)\n",
      "Lower Threshold RMSD Values:  (12, 60)\n",
      "[70.0, 71.0, 72.0, 73.0, 74.0, 75.0, 76.0, 77.0, 78.0, 79.0, 80.0, 81.0]\n",
      "Total Combinations for  12  is:  132\n"
     ]
    },
    {
     "name": "stderr",
     "output_type": "stream",
     "text": [
      "C:\\Users\\sali85\\Anaconda3\\envs\\New_Env_2\\lib\\site-packages\\openpyxl\\worksheet\\_reader.py:329: UserWarning: Unknown extension is not supported and will be removed\n",
      "  warn(msg)\n"
     ]
    },
    {
     "name": "stdout",
     "output_type": "stream",
     "text": [
      "checking!!\n"
     ]
    },
    {
     "name": "stderr",
     "output_type": "stream",
     "text": [
      "C:\\Users\\sali85\\AppData\\Local\\Temp\\ipykernel_32644\\2206982253.py:345: VisibleDeprecationWarning: Creating an ndarray from ragged nested sequences (which is a list-or-tuple of lists-or-tuples-or ndarrays with different lengths or shapes) is deprecated. If you meant to do this, you must specify 'dtype=object' when creating the ndarray.\n",
      "  print(np.array(L_only_energy).shape)\n"
     ]
    },
    {
     "name": "stdout",
     "output_type": "stream",
     "text": [
      "(12,)\n",
      "(12, 60)\n",
      "Energy values > threshold:  (12, 60)\n",
      "L Energy Values:  (12, 60)\n",
      "All Energy Values:  (12, 60)\n",
      "Upper Threshold Energy Values:  (12, 60)\n",
      "Lower Threshold Energy Values:  (12, 60)\n",
      "(12, 60)\n",
      "(12, 60)\n",
      "Upper Threshold RMSD Values:  (12, 60)\n",
      "Lower Threshold RMSD Values:  (12, 60)\n",
      "[1100.0, 1101.0, 1102.0, 1103.0, 1104.0, 1105.0, 1106.0, 1107.0, 1108.0, 1109.0, 1110.0, 1111.0]\n",
      "Total Combinations for  12  is:  132\n"
     ]
    },
    {
     "name": "stderr",
     "output_type": "stream",
     "text": [
      "C:\\Users\\sali85\\Anaconda3\\envs\\New_Env_2\\lib\\site-packages\\openpyxl\\worksheet\\_reader.py:329: UserWarning: Unknown extension is not supported and will be removed\n",
      "  warn(msg)\n"
     ]
    },
    {
     "name": "stdout",
     "output_type": "stream",
     "text": [
      "checking!!\n",
      "(12, 1318)\n",
      "(12, 60)\n",
      "Energy values > threshold:  (12, 60)\n",
      "L Energy Values:  (12, 60)\n",
      "All Energy Values:  (12, 60)\n",
      "Upper Threshold Energy Values:  (12, 60)\n",
      "Lower Threshold Energy Values:  (12, 60)\n",
      "(12, 60)\n",
      "(12, 60)\n",
      "Upper Threshold RMSD Values:  (12, 60)\n",
      "Lower Threshold RMSD Values:  (12, 60)\n",
      "[0.17, 1.17, 2.17, 3.17, 4.17, 5.17, 6.17, 7.17, 8.17, 9.17, 10.17, 11.17]\n",
      "Total Combinations for  12  is:  132\n"
     ]
    },
    {
     "name": "stderr",
     "output_type": "stream",
     "text": [
      "C:\\Users\\sali85\\Anaconda3\\envs\\New_Env_2\\lib\\site-packages\\openpyxl\\worksheet\\_reader.py:329: UserWarning: Unknown extension is not supported and will be removed\n",
      "  warn(msg)\n"
     ]
    },
    {
     "name": "stdout",
     "output_type": "stream",
     "text": [
      "checking!!\n"
     ]
    },
    {
     "name": "stderr",
     "output_type": "stream",
     "text": [
      "C:\\Users\\sali85\\AppData\\Local\\Temp\\ipykernel_32644\\2206982253.py:345: VisibleDeprecationWarning: Creating an ndarray from ragged nested sequences (which is a list-or-tuple of lists-or-tuples-or ndarrays with different lengths or shapes) is deprecated. If you meant to do this, you must specify 'dtype=object' when creating the ndarray.\n",
      "  print(np.array(L_only_energy).shape)\n"
     ]
    },
    {
     "name": "stdout",
     "output_type": "stream",
     "text": [
      "(12,)\n",
      "(12, 60)\n",
      "Energy values > threshold:  (12, 60)\n",
      "L Energy Values:  (12, 60)\n",
      "All Energy Values:  (12, 60)\n",
      "Upper Threshold Energy Values:  (12, 60)\n",
      "Lower Threshold Energy Values:  (12, 60)\n",
      "(12, 60)\n",
      "(12, 60)\n",
      "Upper Threshold RMSD Values:  (12, 60)\n",
      "Lower Threshold RMSD Values:  (12, 60)\n",
      "[200.0, 201.0, 202.0, 203.0, 204.0, 205.0, 206.0, 207.0, 208.0, 209.0, 210.0, 211.0]\n",
      "Total Combinations for  12  is:  132\n"
     ]
    },
    {
     "name": "stderr",
     "output_type": "stream",
     "text": [
      "C:\\Users\\sali85\\Anaconda3\\envs\\New_Env_2\\lib\\site-packages\\openpyxl\\worksheet\\_reader.py:329: UserWarning: Unknown extension is not supported and will be removed\n",
      "  warn(msg)\n"
     ]
    },
    {
     "name": "stdout",
     "output_type": "stream",
     "text": [
      "checking!!\n"
     ]
    },
    {
     "name": "stderr",
     "output_type": "stream",
     "text": [
      "C:\\Users\\sali85\\AppData\\Local\\Temp\\ipykernel_32644\\2206982253.py:345: VisibleDeprecationWarning: Creating an ndarray from ragged nested sequences (which is a list-or-tuple of lists-or-tuples-or ndarrays with different lengths or shapes) is deprecated. If you meant to do this, you must specify 'dtype=object' when creating the ndarray.\n",
      "  print(np.array(L_only_energy).shape)\n"
     ]
    },
    {
     "name": "stdout",
     "output_type": "stream",
     "text": [
      "(12,)\n",
      "(12, 60)\n",
      "Energy values > threshold:  (12, 60)\n",
      "L Energy Values:  (12, 60)\n",
      "All Energy Values:  (12, 60)\n",
      "Upper Threshold Energy Values:  (12, 60)\n",
      "Lower Threshold Energy Values:  (12, 60)\n",
      "(12, 60)\n",
      "(12, 60)\n",
      "Upper Threshold RMSD Values:  (12, 60)\n",
      "Lower Threshold RMSD Values:  (12, 60)\n",
      "[0.3, 1.3, 2.3, 3.3, 4.3, 5.3, 6.3, 7.3, 8.3, 9.3, 10.3, 11.3]\n",
      "Total Combinations for  12  is:  132\n"
     ]
    },
    {
     "name": "stderr",
     "output_type": "stream",
     "text": [
      "C:\\Users\\sali85\\Anaconda3\\envs\\New_Env_2\\lib\\site-packages\\openpyxl\\worksheet\\_reader.py:329: UserWarning: Unknown extension is not supported and will be removed\n",
      "  warn(msg)\n"
     ]
    },
    {
     "name": "stdout",
     "output_type": "stream",
     "text": [
      "checking!!\n"
     ]
    },
    {
     "name": "stderr",
     "output_type": "stream",
     "text": [
      "C:\\Users\\sali85\\AppData\\Local\\Temp\\ipykernel_32644\\2206982253.py:345: VisibleDeprecationWarning: Creating an ndarray from ragged nested sequences (which is a list-or-tuple of lists-or-tuples-or ndarrays with different lengths or shapes) is deprecated. If you meant to do this, you must specify 'dtype=object' when creating the ndarray.\n",
      "  print(np.array(L_only_energy).shape)\n"
     ]
    },
    {
     "name": "stdout",
     "output_type": "stream",
     "text": [
      "(12,)\n",
      "(12, 60)\n",
      "Energy values > threshold:  (12, 60)\n",
      "L Energy Values:  (12, 60)\n",
      "All Energy Values:  (12, 60)\n",
      "Upper Threshold Energy Values:  (12, 60)\n",
      "Lower Threshold Energy Values:  (12, 60)\n",
      "(12, 60)\n",
      "(12, 60)\n",
      "Upper Threshold RMSD Values:  (12, 60)\n",
      "Lower Threshold RMSD Values:  (12, 60)\n",
      "[0.52, 1.52, 2.52, 3.52, 4.52, 5.52, 6.52, 7.52, 8.52, 9.52, 10.52, 11.52]\n",
      "Total Combinations for  12  is:  132\n"
     ]
    },
    {
     "name": "stderr",
     "output_type": "stream",
     "text": [
      "C:\\Users\\sali85\\Anaconda3\\envs\\New_Env_2\\lib\\site-packages\\openpyxl\\worksheet\\_reader.py:329: UserWarning: Unknown extension is not supported and will be removed\n",
      "  warn(msg)\n"
     ]
    },
    {
     "name": "stdout",
     "output_type": "stream",
     "text": [
      "checking!!\n",
      "(12, 1318)\n",
      "(12, 60)\n",
      "Energy values > threshold:  (12, 60)\n",
      "L Energy Values:  (12, 60)\n",
      "All Energy Values:  (12, 60)\n",
      "Upper Threshold Energy Values:  (12, 60)\n",
      "Lower Threshold Energy Values:  (12, 60)\n",
      "(12, 60)\n",
      "(12, 60)\n",
      "Upper Threshold RMSD Values:  (12, 60)\n",
      "Lower Threshold RMSD Values:  (12, 60)\n",
      "[75.0, 76.0, 77.0, 78.0, 79.0, 80.0, 81.0, 82.0, 83.0, 84.0, 85.0, 86.0]\n",
      "Total Combinations for  12  is:  132\n"
     ]
    },
    {
     "name": "stderr",
     "output_type": "stream",
     "text": [
      "C:\\Users\\sali85\\Anaconda3\\envs\\New_Env_2\\lib\\site-packages\\openpyxl\\worksheet\\_reader.py:329: UserWarning: Unknown extension is not supported and will be removed\n",
      "  warn(msg)\n"
     ]
    },
    {
     "name": "stdout",
     "output_type": "stream",
     "text": [
      "checking!!\n"
     ]
    },
    {
     "name": "stderr",
     "output_type": "stream",
     "text": [
      "C:\\Users\\sali85\\AppData\\Local\\Temp\\ipykernel_32644\\2206982253.py:345: VisibleDeprecationWarning: Creating an ndarray from ragged nested sequences (which is a list-or-tuple of lists-or-tuples-or ndarrays with different lengths or shapes) is deprecated. If you meant to do this, you must specify 'dtype=object' when creating the ndarray.\n",
      "  print(np.array(L_only_energy).shape)\n"
     ]
    },
    {
     "name": "stdout",
     "output_type": "stream",
     "text": [
      "(7,)\n",
      "(7, 60)\n",
      "Energy values > threshold:  (7, 60)\n",
      "L Energy Values:  (7, 60)\n",
      "All Energy Values:  (7, 60)\n",
      "Upper Threshold Energy Values:  (7, 60)\n",
      "Lower Threshold Energy Values:  (7, 60)\n",
      "(7, 60)\n",
      "(7, 60)\n",
      "Upper Threshold RMSD Values:  (7, 60)\n",
      "Lower Threshold RMSD Values:  (7, 60)\n",
      "[250.0, 251.0, 252.0, 253.0, 254.0, 255.0, 256.0]\n",
      "Total Combinations for  7  is:  42\n"
     ]
    },
    {
     "name": "stderr",
     "output_type": "stream",
     "text": [
      "C:\\Users\\sali85\\Anaconda3\\envs\\New_Env_2\\lib\\site-packages\\openpyxl\\worksheet\\_reader.py:329: UserWarning: Unknown extension is not supported and will be removed\n",
      "  warn(msg)\n"
     ]
    },
    {
     "name": "stdout",
     "output_type": "stream",
     "text": [
      "checking!!\n",
      "(8, 1318)\n",
      "(8, 60)\n",
      "Energy values > threshold:  (8, 60)\n",
      "L Energy Values:  (8, 60)\n",
      "All Energy Values:  (8, 60)\n",
      "Upper Threshold Energy Values:  (8, 60)\n",
      "Lower Threshold Energy Values:  (8, 60)\n",
      "(8, 60)\n",
      "(8, 60)\n",
      "Upper Threshold RMSD Values:  (8, 60)\n",
      "Lower Threshold RMSD Values:  (8, 60)\n",
      "[170.0, 171.0, 172.0, 173.0, 174.0, 175.0, 176.0, 177.0]\n",
      "Total Combinations for  8  is:  56\n"
     ]
    },
    {
     "name": "stderr",
     "output_type": "stream",
     "text": [
      "C:\\Users\\sali85\\Anaconda3\\envs\\New_Env_2\\lib\\site-packages\\openpyxl\\worksheet\\_reader.py:329: UserWarning: Unknown extension is not supported and will be removed\n",
      "  warn(msg)\n"
     ]
    },
    {
     "name": "stdout",
     "output_type": "stream",
     "text": [
      "checking!!\n"
     ]
    },
    {
     "name": "stderr",
     "output_type": "stream",
     "text": [
      "C:\\Users\\sali85\\AppData\\Local\\Temp\\ipykernel_32644\\2206982253.py:345: VisibleDeprecationWarning: Creating an ndarray from ragged nested sequences (which is a list-or-tuple of lists-or-tuples-or ndarrays with different lengths or shapes) is deprecated. If you meant to do this, you must specify 'dtype=object' when creating the ndarray.\n",
      "  print(np.array(L_only_energy).shape)\n"
     ]
    },
    {
     "name": "stdout",
     "output_type": "stream",
     "text": [
      "(8,)\n",
      "(8, 60)\n",
      "Energy values > threshold:  (8, 60)\n",
      "L Energy Values:  (8, 60)\n",
      "All Energy Values:  (8, 60)\n",
      "Upper Threshold Energy Values:  (8, 60)\n",
      "Lower Threshold Energy Values:  (8, 60)\n",
      "(8, 60)\n",
      "(8, 60)\n",
      "Upper Threshold RMSD Values:  (8, 60)\n",
      "Lower Threshold RMSD Values:  (8, 60)\n",
      "[94.0, 95.0, 96.0, 97.0, 98.0, 99.0, 100.0, 101.0]\n",
      "Total Combinations for  8  is:  56\n"
     ]
    },
    {
     "name": "stderr",
     "output_type": "stream",
     "text": [
      "C:\\Users\\sali85\\Anaconda3\\envs\\New_Env_2\\lib\\site-packages\\openpyxl\\worksheet\\_reader.py:329: UserWarning: Unknown extension is not supported and will be removed\n",
      "  warn(msg)\n"
     ]
    },
    {
     "name": "stdout",
     "output_type": "stream",
     "text": [
      "checking!!\n"
     ]
    },
    {
     "name": "stderr",
     "output_type": "stream",
     "text": [
      "C:\\Users\\sali85\\AppData\\Local\\Temp\\ipykernel_32644\\2206982253.py:345: VisibleDeprecationWarning: Creating an ndarray from ragged nested sequences (which is a list-or-tuple of lists-or-tuples-or ndarrays with different lengths or shapes) is deprecated. If you meant to do this, you must specify 'dtype=object' when creating the ndarray.\n",
      "  print(np.array(L_only_energy).shape)\n"
     ]
    },
    {
     "name": "stdout",
     "output_type": "stream",
     "text": [
      "(7,)\n",
      "(7, 60)\n",
      "Energy values > threshold:  (7, 60)\n",
      "L Energy Values:  (7, 60)\n",
      "All Energy Values:  (7, 60)\n",
      "Upper Threshold Energy Values:  (7, 60)\n",
      "Lower Threshold Energy Values:  (7, 60)\n",
      "(7, 60)\n",
      "(7, 60)\n",
      "Upper Threshold RMSD Values:  (7, 60)\n",
      "Lower Threshold RMSD Values:  (7, 60)\n",
      "[95.0, 96.0, 97.0, 98.0, 99.0, 100.0, 101.0]\n",
      "Total Combinations for  7  is:  42\n"
     ]
    },
    {
     "name": "stderr",
     "output_type": "stream",
     "text": [
      "C:\\Users\\sali85\\Anaconda3\\envs\\New_Env_2\\lib\\site-packages\\openpyxl\\worksheet\\_reader.py:329: UserWarning: Unknown extension is not supported and will be removed\n",
      "  warn(msg)\n"
     ]
    },
    {
     "name": "stdout",
     "output_type": "stream",
     "text": [
      "checking!!\n"
     ]
    },
    {
     "name": "stderr",
     "output_type": "stream",
     "text": [
      "C:\\Users\\sali85\\AppData\\Local\\Temp\\ipykernel_32644\\2206982253.py:345: VisibleDeprecationWarning: Creating an ndarray from ragged nested sequences (which is a list-or-tuple of lists-or-tuples-or ndarrays with different lengths or shapes) is deprecated. If you meant to do this, you must specify 'dtype=object' when creating the ndarray.\n",
      "  print(np.array(L_only_energy).shape)\n"
     ]
    },
    {
     "name": "stdout",
     "output_type": "stream",
     "text": [
      "(7,)\n",
      "(7, 60)\n",
      "Energy values > threshold:  (7, 60)\n",
      "L Energy Values:  (7, 60)\n",
      "All Energy Values:  (7, 60)\n",
      "Upper Threshold Energy Values:  (7, 60)\n",
      "Lower Threshold Energy Values:  (7, 60)\n",
      "(7, 60)\n",
      "(7, 60)\n",
      "Upper Threshold RMSD Values:  (7, 60)\n",
      "Lower Threshold RMSD Values:  (7, 60)\n",
      "[2200.0, 2201.0, 2202.0, 2203.0, 2204.0, 2205.0, 2206.0]\n",
      "Total Combinations for  7  is:  42\n"
     ]
    },
    {
     "name": "stderr",
     "output_type": "stream",
     "text": [
      "C:\\Users\\sali85\\Anaconda3\\envs\\New_Env_2\\lib\\site-packages\\openpyxl\\worksheet\\_reader.py:329: UserWarning: Unknown extension is not supported and will be removed\n",
      "  warn(msg)\n"
     ]
    },
    {
     "name": "stdout",
     "output_type": "stream",
     "text": [
      "checking!!\n"
     ]
    },
    {
     "name": "stderr",
     "output_type": "stream",
     "text": [
      "C:\\Users\\sali85\\AppData\\Local\\Temp\\ipykernel_32644\\2206982253.py:345: VisibleDeprecationWarning: Creating an ndarray from ragged nested sequences (which is a list-or-tuple of lists-or-tuples-or ndarrays with different lengths or shapes) is deprecated. If you meant to do this, you must specify 'dtype=object' when creating the ndarray.\n",
      "  print(np.array(L_only_energy).shape)\n"
     ]
    },
    {
     "name": "stdout",
     "output_type": "stream",
     "text": [
      "(12,)\n",
      "(12, 60)\n",
      "Energy values > threshold:  (12, 60)\n",
      "L Energy Values:  (12, 60)\n",
      "All Energy Values:  (12, 60)\n",
      "Upper Threshold Energy Values:  (12, 60)\n",
      "Lower Threshold Energy Values:  (12, 60)\n",
      "(12, 60)\n",
      "(12, 60)\n",
      "Upper Threshold RMSD Values:  (12, 60)\n",
      "Lower Threshold RMSD Values:  (12, 60)\n",
      "[30.0, 31.0, 32.0, 33.0, 34.0, 35.0, 36.0, 37.0, 38.0, 39.0, 40.0, 41.0]\n",
      "Total Combinations for  12  is:  132\n"
     ]
    },
    {
     "name": "stderr",
     "output_type": "stream",
     "text": [
      "C:\\Users\\sali85\\Anaconda3\\envs\\New_Env_2\\lib\\site-packages\\openpyxl\\worksheet\\_reader.py:329: UserWarning: Unknown extension is not supported and will be removed\n",
      "  warn(msg)\n"
     ]
    },
    {
     "name": "stdout",
     "output_type": "stream",
     "text": [
      "checking!!\n"
     ]
    },
    {
     "name": "stderr",
     "output_type": "stream",
     "text": [
      "C:\\Users\\sali85\\AppData\\Local\\Temp\\ipykernel_32644\\2206982253.py:345: VisibleDeprecationWarning: Creating an ndarray from ragged nested sequences (which is a list-or-tuple of lists-or-tuples-or ndarrays with different lengths or shapes) is deprecated. If you meant to do this, you must specify 'dtype=object' when creating the ndarray.\n",
      "  print(np.array(L_only_energy).shape)\n"
     ]
    },
    {
     "name": "stdout",
     "output_type": "stream",
     "text": [
      "(12,)\n",
      "(12, 60)\n",
      "Energy values > threshold:  (12, 60)\n",
      "L Energy Values:  (12, 60)\n",
      "All Energy Values:  (12, 60)\n",
      "Upper Threshold Energy Values:  (12, 60)\n",
      "Lower Threshold Energy Values:  (12, 60)\n",
      "(12, 60)\n",
      "(12, 60)\n",
      "Upper Threshold RMSD Values:  (12, 60)\n",
      "Lower Threshold RMSD Values:  (12, 60)\n",
      "[100.0, 101.0, 102.0, 103.0, 104.0, 105.0, 106.0, 107.0, 108.0, 109.0, 110.0, 111.0]\n",
      "Total Combinations for  12  is:  132\n"
     ]
    },
    {
     "name": "stderr",
     "output_type": "stream",
     "text": [
      "C:\\Users\\sali85\\Anaconda3\\envs\\New_Env_2\\lib\\site-packages\\openpyxl\\worksheet\\_reader.py:329: UserWarning: Unknown extension is not supported and will be removed\n",
      "  warn(msg)\n"
     ]
    },
    {
     "name": "stdout",
     "output_type": "stream",
     "text": [
      "checking!!\n",
      "(8, 1318)\n",
      "(8, 60)\n",
      "Energy values > threshold:  (8, 60)\n",
      "L Energy Values:  (8, 60)\n",
      "All Energy Values:  (8, 60)\n",
      "Upper Threshold Energy Values:  (8, 60)\n",
      "Lower Threshold Energy Values:  (8, 60)\n",
      "(8, 60)\n",
      "(8, 60)\n",
      "Upper Threshold RMSD Values:  (8, 60)\n",
      "Lower Threshold RMSD Values:  (8, 60)\n",
      "[1.09, 2.09, 3.09, 4.09, 5.09, 6.09, 7.09, 8.09]\n",
      "Total Combinations for  8  is:  56\n"
     ]
    },
    {
     "name": "stderr",
     "output_type": "stream",
     "text": [
      "C:\\Users\\sali85\\Anaconda3\\envs\\New_Env_2\\lib\\site-packages\\openpyxl\\worksheet\\_reader.py:329: UserWarning: Unknown extension is not supported and will be removed\n",
      "  warn(msg)\n"
     ]
    },
    {
     "name": "stdout",
     "output_type": "stream",
     "text": [
      "checking!!\n"
     ]
    },
    {
     "name": "stderr",
     "output_type": "stream",
     "text": [
      "C:\\Users\\sali85\\AppData\\Local\\Temp\\ipykernel_32644\\2206982253.py:345: VisibleDeprecationWarning: Creating an ndarray from ragged nested sequences (which is a list-or-tuple of lists-or-tuples-or ndarrays with different lengths or shapes) is deprecated. If you meant to do this, you must specify 'dtype=object' when creating the ndarray.\n",
      "  print(np.array(L_only_energy).shape)\n"
     ]
    },
    {
     "name": "stdout",
     "output_type": "stream",
     "text": [
      "(12,)\n",
      "(12, 60)\n",
      "Energy values > threshold:  (12, 60)\n",
      "L Energy Values:  (12, 60)\n",
      "All Energy Values:  (12, 60)\n",
      "Upper Threshold Energy Values:  (12, 60)\n",
      "Lower Threshold Energy Values:  (12, 60)\n",
      "(12, 60)\n",
      "(12, 60)\n",
      "Upper Threshold RMSD Values:  (12, 60)\n",
      "Lower Threshold RMSD Values:  (12, 60)\n",
      "[1.0, 2.0, 3.0, 4.0, 5.0, 6.0, 7.0, 8.0, 9.0, 10.0, 11.0, 12.0]\n",
      "Total Combinations for  12  is:  132\n"
     ]
    },
    {
     "name": "stderr",
     "output_type": "stream",
     "text": [
      "C:\\Users\\sali85\\Anaconda3\\envs\\New_Env_2\\lib\\site-packages\\openpyxl\\worksheet\\_reader.py:329: UserWarning: Unknown extension is not supported and will be removed\n",
      "  warn(msg)\n"
     ]
    },
    {
     "name": "stdout",
     "output_type": "stream",
     "text": [
      "checking!!\n"
     ]
    },
    {
     "name": "stderr",
     "output_type": "stream",
     "text": [
      "C:\\Users\\sali85\\AppData\\Local\\Temp\\ipykernel_32644\\2206982253.py:345: VisibleDeprecationWarning: Creating an ndarray from ragged nested sequences (which is a list-or-tuple of lists-or-tuples-or ndarrays with different lengths or shapes) is deprecated. If you meant to do this, you must specify 'dtype=object' when creating the ndarray.\n",
      "  print(np.array(L_only_energy).shape)\n"
     ]
    },
    {
     "name": "stdout",
     "output_type": "stream",
     "text": [
      "(12,)\n",
      "(12, 60)\n",
      "Energy values > threshold:  (12, 60)\n",
      "L Energy Values:  (12, 60)\n",
      "All Energy Values:  (12, 60)\n",
      "Upper Threshold Energy Values:  (12, 60)\n",
      "Lower Threshold Energy Values:  (12, 60)\n",
      "(12, 60)\n",
      "(12, 60)\n",
      "Upper Threshold RMSD Values:  (12, 60)\n",
      "Lower Threshold RMSD Values:  (12, 60)\n",
      "[3.8, 4.8, 5.8, 6.8, 7.8, 8.8, 9.8, 10.8, 11.8, 12.8, 13.8, 14.8]\n",
      "Total Combinations for  12  is:  132\n"
     ]
    },
    {
     "name": "stderr",
     "output_type": "stream",
     "text": [
      "C:\\Users\\sali85\\Anaconda3\\envs\\New_Env_2\\lib\\site-packages\\openpyxl\\worksheet\\_reader.py:329: UserWarning: Unknown extension is not supported and will be removed\n",
      "  warn(msg)\n"
     ]
    },
    {
     "name": "stdout",
     "output_type": "stream",
     "text": [
      "checking!!\n",
      "(7, 1318)\n",
      "(7, 60)\n",
      "Energy values > threshold:  (7, 60)\n",
      "L Energy Values:  (7, 60)\n",
      "All Energy Values:  (7, 60)\n",
      "Upper Threshold Energy Values:  (7, 60)\n",
      "Lower Threshold Energy Values:  (7, 60)\n",
      "(7, 60)\n",
      "(7, 60)\n",
      "Upper Threshold RMSD Values:  (7, 60)\n",
      "Lower Threshold RMSD Values:  (7, 60)\n",
      "[270.0, 271.0, 272.0, 273.0, 274.0, 275.0, 276.0]\n",
      "Total Combinations for  7  is:  42\n"
     ]
    },
    {
     "name": "stderr",
     "output_type": "stream",
     "text": [
      "C:\\Users\\sali85\\Anaconda3\\envs\\New_Env_2\\lib\\site-packages\\openpyxl\\worksheet\\_reader.py:329: UserWarning: Unknown extension is not supported and will be removed\n",
      "  warn(msg)\n"
     ]
    },
    {
     "name": "stdout",
     "output_type": "stream",
     "text": [
      "checking!!\n",
      "(7, 1318)\n",
      "(7, 60)\n",
      "Energy values > threshold:  (7, 60)\n",
      "L Energy Values:  (7, 60)\n",
      "All Energy Values:  (7, 60)\n",
      "Upper Threshold Energy Values:  (7, 60)\n",
      "Lower Threshold Energy Values:  (7, 60)\n",
      "(7, 60)\n",
      "(7, 60)\n",
      "Upper Threshold RMSD Values:  (7, 60)\n",
      "Lower Threshold RMSD Values:  (7, 60)\n",
      "[220.0, 221.0, 222.0, 223.0, 224.0, 225.0, 226.0]\n",
      "Total Combinations for  7  is:  42\n"
     ]
    },
    {
     "name": "stderr",
     "output_type": "stream",
     "text": [
      "C:\\Users\\sali85\\Anaconda3\\envs\\New_Env_2\\lib\\site-packages\\openpyxl\\worksheet\\_reader.py:329: UserWarning: Unknown extension is not supported and will be removed\n",
      "  warn(msg)\n"
     ]
    },
    {
     "name": "stdout",
     "output_type": "stream",
     "text": [
      "checking!!\n"
     ]
    },
    {
     "name": "stderr",
     "output_type": "stream",
     "text": [
      "C:\\Users\\sali85\\AppData\\Local\\Temp\\ipykernel_32644\\2206982253.py:345: VisibleDeprecationWarning: Creating an ndarray from ragged nested sequences (which is a list-or-tuple of lists-or-tuples-or ndarrays with different lengths or shapes) is deprecated. If you meant to do this, you must specify 'dtype=object' when creating the ndarray.\n",
      "  print(np.array(L_only_energy).shape)\n"
     ]
    },
    {
     "name": "stdout",
     "output_type": "stream",
     "text": [
      "(6,)\n",
      "(6, 60)\n",
      "Energy values > threshold:  (6, 60)\n",
      "L Energy Values:  (6, 60)\n",
      "All Energy Values:  (6, 60)\n",
      "Upper Threshold Energy Values:  (6, 60)\n",
      "Lower Threshold Energy Values:  (6, 60)\n",
      "(6, 60)\n",
      "(6, 60)\n",
      "Upper Threshold RMSD Values:  (6, 60)\n",
      "Lower Threshold RMSD Values:  (6, 60)\n",
      "[15800.0, 15801.0, 15802.0, 15803.0, 15804.0, 15805.0]\n",
      "Total Combinations for  6  is:  30\n"
     ]
    },
    {
     "name": "stderr",
     "output_type": "stream",
     "text": [
      "C:\\Users\\sali85\\Anaconda3\\envs\\New_Env_2\\lib\\site-packages\\openpyxl\\worksheet\\_reader.py:329: UserWarning: Unknown extension is not supported and will be removed\n",
      "  warn(msg)\n"
     ]
    },
    {
     "name": "stdout",
     "output_type": "stream",
     "text": [
      "checking!!\n",
      "(6, 1318)\n",
      "(6, 60)\n",
      "Energy values > threshold:  (6, 60)\n",
      "L Energy Values:  (6, 60)\n",
      "All Energy Values:  (6, 60)\n",
      "Upper Threshold Energy Values:  (6, 60)\n",
      "Lower Threshold Energy Values:  (6, 60)\n",
      "(6, 60)\n",
      "(6, 60)\n",
      "Upper Threshold RMSD Values:  (6, 60)\n",
      "Lower Threshold RMSD Values:  (6, 60)\n",
      "[1580.0, 1581.0, 1582.0, 1583.0, 1584.0, 1585.0]\n",
      "Total Combinations for  6  is:  30\n"
     ]
    },
    {
     "name": "stderr",
     "output_type": "stream",
     "text": [
      "C:\\Users\\sali85\\Anaconda3\\envs\\New_Env_2\\lib\\site-packages\\openpyxl\\worksheet\\_reader.py:329: UserWarning: Unknown extension is not supported and will be removed\n",
      "  warn(msg)\n"
     ]
    },
    {
     "name": "stdout",
     "output_type": "stream",
     "text": [
      "checking!!\n"
     ]
    },
    {
     "name": "stderr",
     "output_type": "stream",
     "text": [
      "C:\\Users\\sali85\\AppData\\Local\\Temp\\ipykernel_32644\\2206982253.py:345: VisibleDeprecationWarning: Creating an ndarray from ragged nested sequences (which is a list-or-tuple of lists-or-tuples-or ndarrays with different lengths or shapes) is deprecated. If you meant to do this, you must specify 'dtype=object' when creating the ndarray.\n",
      "  print(np.array(L_only_energy).shape)\n"
     ]
    },
    {
     "name": "stdout",
     "output_type": "stream",
     "text": [
      "(12,)\n",
      "(12, 60)\n",
      "Energy values > threshold:  (12, 60)\n",
      "L Energy Values:  (12, 60)\n",
      "All Energy Values:  (12, 60)\n",
      "Upper Threshold Energy Values:  (12, 60)\n",
      "Lower Threshold Energy Values:  (12, 60)\n",
      "(12, 60)\n",
      "(12, 60)\n",
      "Upper Threshold RMSD Values:  (12, 60)\n",
      "Lower Threshold RMSD Values:  (12, 60)\n",
      "[0.054, 1.054, 2.0540000000000003, 3.0540000000000003, 4.054, 5.054, 6.054, 7.054, 8.054, 9.054, 10.054, 11.054]\n",
      "Total Combinations for  12  is:  132\n"
     ]
    },
    {
     "name": "stderr",
     "output_type": "stream",
     "text": [
      "C:\\Users\\sali85\\Anaconda3\\envs\\New_Env_2\\lib\\site-packages\\openpyxl\\worksheet\\_reader.py:329: UserWarning: Unknown extension is not supported and will be removed\n",
      "  warn(msg)\n"
     ]
    },
    {
     "name": "stdout",
     "output_type": "stream",
     "text": [
      "checking!!\n"
     ]
    },
    {
     "name": "stderr",
     "output_type": "stream",
     "text": [
      "C:\\Users\\sali85\\AppData\\Local\\Temp\\ipykernel_32644\\2206982253.py:345: VisibleDeprecationWarning: Creating an ndarray from ragged nested sequences (which is a list-or-tuple of lists-or-tuples-or ndarrays with different lengths or shapes) is deprecated. If you meant to do this, you must specify 'dtype=object' when creating the ndarray.\n",
      "  print(np.array(L_only_energy).shape)\n"
     ]
    },
    {
     "name": "stdout",
     "output_type": "stream",
     "text": [
      "(12,)\n",
      "(12, 60)\n",
      "Energy values > threshold:  (12, 60)\n",
      "L Energy Values:  (12, 60)\n",
      "All Energy Values:  (12, 60)\n",
      "Upper Threshold Energy Values:  (12, 60)\n",
      "Lower Threshold Energy Values:  (12, 60)\n",
      "(12, 60)\n",
      "(12, 60)\n",
      "Upper Threshold RMSD Values:  (12, 60)\n",
      "Lower Threshold RMSD Values:  (12, 60)\n",
      "[112.0, 113.0, 114.0, 115.0, 116.0, 117.0, 118.0, 119.0, 120.0, 121.0, 122.0, 123.0]\n",
      "Total Combinations for  12  is:  132\n"
     ]
    },
    {
     "name": "stderr",
     "output_type": "stream",
     "text": [
      "C:\\Users\\sali85\\Anaconda3\\envs\\New_Env_2\\lib\\site-packages\\openpyxl\\worksheet\\_reader.py:329: UserWarning: Unknown extension is not supported and will be removed\n",
      "  warn(msg)\n"
     ]
    },
    {
     "name": "stdout",
     "output_type": "stream",
     "text": [
      "checking!!\n"
     ]
    },
    {
     "name": "stderr",
     "output_type": "stream",
     "text": [
      "C:\\Users\\sali85\\AppData\\Local\\Temp\\ipykernel_32644\\2206982253.py:345: VisibleDeprecationWarning: Creating an ndarray from ragged nested sequences (which is a list-or-tuple of lists-or-tuples-or ndarrays with different lengths or shapes) is deprecated. If you meant to do this, you must specify 'dtype=object' when creating the ndarray.\n",
      "  print(np.array(L_only_energy).shape)\n"
     ]
    },
    {
     "name": "stdout",
     "output_type": "stream",
     "text": [
      "(12,)\n",
      "(12, 60)\n",
      "Energy values > threshold:  (12, 60)\n",
      "L Energy Values:  (12, 60)\n",
      "All Energy Values:  (12, 60)\n",
      "Upper Threshold Energy Values:  (12, 60)\n",
      "Lower Threshold Energy Values:  (12, 60)\n",
      "(12, 60)\n",
      "(12, 60)\n",
      "Upper Threshold RMSD Values:  (12, 60)\n",
      "Lower Threshold RMSD Values:  (12, 60)\n",
      "[270.0, 271.0, 272.0, 273.0, 274.0, 275.0, 276.0, 277.0, 278.0, 279.0, 280.0, 281.0]\n",
      "Total Combinations for  12  is:  132\n"
     ]
    },
    {
     "name": "stderr",
     "output_type": "stream",
     "text": [
      "C:\\Users\\sali85\\Anaconda3\\envs\\New_Env_2\\lib\\site-packages\\openpyxl\\worksheet\\_reader.py:329: UserWarning: Unknown extension is not supported and will be removed\n",
      "  warn(msg)\n"
     ]
    },
    {
     "name": "stdout",
     "output_type": "stream",
     "text": [
      "checking!!\n"
     ]
    },
    {
     "name": "stderr",
     "output_type": "stream",
     "text": [
      "C:\\Users\\sali85\\AppData\\Local\\Temp\\ipykernel_32644\\2206982253.py:345: VisibleDeprecationWarning: Creating an ndarray from ragged nested sequences (which is a list-or-tuple of lists-or-tuples-or ndarrays with different lengths or shapes) is deprecated. If you meant to do this, you must specify 'dtype=object' when creating the ndarray.\n",
      "  print(np.array(L_only_energy).shape)\n"
     ]
    },
    {
     "name": "stdout",
     "output_type": "stream",
     "text": [
      "(10,)\n",
      "(10, 60)\n",
      "Energy values > threshold:  (10, 60)\n",
      "L Energy Values:  (10, 60)\n",
      "All Energy Values:  (10, 60)\n",
      "Upper Threshold Energy Values:  (10, 60)\n",
      "Lower Threshold Energy Values:  (10, 60)\n",
      "(10, 60)\n",
      "(10, 60)\n",
      "Upper Threshold RMSD Values:  (10, 60)\n",
      "Lower Threshold RMSD Values:  (10, 60)\n",
      "[855.0, 856.0, 857.0, 858.0, 859.0, 860.0, 861.0, 862.0, 863.0, 864.0]\n",
      "Total Combinations for  10  is:  90\n"
     ]
    },
    {
     "name": "stderr",
     "output_type": "stream",
     "text": [
      "C:\\Users\\sali85\\Anaconda3\\envs\\New_Env_2\\lib\\site-packages\\openpyxl\\worksheet\\_reader.py:329: UserWarning: Unknown extension is not supported and will be removed\n",
      "  warn(msg)\n"
     ]
    },
    {
     "name": "stdout",
     "output_type": "stream",
     "text": [
      "checking!!\n"
     ]
    },
    {
     "name": "stderr",
     "output_type": "stream",
     "text": [
      "C:\\Users\\sali85\\AppData\\Local\\Temp\\ipykernel_32644\\2206982253.py:345: VisibleDeprecationWarning: Creating an ndarray from ragged nested sequences (which is a list-or-tuple of lists-or-tuples-or ndarrays with different lengths or shapes) is deprecated. If you meant to do this, you must specify 'dtype=object' when creating the ndarray.\n",
      "  print(np.array(L_only_energy).shape)\n"
     ]
    },
    {
     "name": "stdout",
     "output_type": "stream",
     "text": [
      "(10,)\n",
      "(10, 60)\n",
      "Energy values > threshold:  (10, 60)\n",
      "L Energy Values:  (10, 60)\n",
      "All Energy Values:  (10, 60)\n",
      "Upper Threshold Energy Values:  (10, 60)\n",
      "Lower Threshold Energy Values:  (10, 60)\n",
      "(10, 60)\n",
      "(10, 60)\n",
      "Upper Threshold RMSD Values:  (10, 60)\n",
      "Lower Threshold RMSD Values:  (10, 60)\n",
      "[24.0, 25.0, 26.0, 27.0, 28.0, 29.0, 30.0, 31.0, 32.0, 33.0]\n",
      "Total Combinations for  10  is:  90\n"
     ]
    },
    {
     "name": "stderr",
     "output_type": "stream",
     "text": [
      "C:\\Users\\sali85\\Anaconda3\\envs\\New_Env_2\\lib\\site-packages\\openpyxl\\worksheet\\_reader.py:329: UserWarning: Unknown extension is not supported and will be removed\n",
      "  warn(msg)\n"
     ]
    },
    {
     "name": "stdout",
     "output_type": "stream",
     "text": [
      "checking!!\n"
     ]
    },
    {
     "name": "stderr",
     "output_type": "stream",
     "text": [
      "C:\\Users\\sali85\\AppData\\Local\\Temp\\ipykernel_32644\\2206982253.py:345: VisibleDeprecationWarning: Creating an ndarray from ragged nested sequences (which is a list-or-tuple of lists-or-tuples-or ndarrays with different lengths or shapes) is deprecated. If you meant to do this, you must specify 'dtype=object' when creating the ndarray.\n",
      "  print(np.array(L_only_energy).shape)\n"
     ]
    },
    {
     "name": "stdout",
     "output_type": "stream",
     "text": [
      "(10,)\n",
      "(10, 60)\n",
      "Energy values > threshold:  (10, 60)\n",
      "L Energy Values:  (10, 60)\n",
      "All Energy Values:  (10, 60)\n",
      "Upper Threshold Energy Values:  (10, 60)\n",
      "Lower Threshold Energy Values:  (10, 60)\n",
      "(10, 60)\n",
      "(10, 60)\n",
      "Upper Threshold RMSD Values:  (10, 60)\n",
      "Lower Threshold RMSD Values:  (10, 60)\n",
      "[37.0, 38.0, 39.0, 40.0, 41.0, 42.0, 43.0, 44.0, 45.0, 46.0]\n",
      "Total Combinations for  10  is:  90\n"
     ]
    },
    {
     "name": "stderr",
     "output_type": "stream",
     "text": [
      "C:\\Users\\sali85\\Anaconda3\\envs\\New_Env_2\\lib\\site-packages\\openpyxl\\worksheet\\_reader.py:329: UserWarning: Unknown extension is not supported and will be removed\n",
      "  warn(msg)\n"
     ]
    },
    {
     "name": "stdout",
     "output_type": "stream",
     "text": [
      "checking!!\n"
     ]
    },
    {
     "name": "stderr",
     "output_type": "stream",
     "text": [
      "C:\\Users\\sali85\\AppData\\Local\\Temp\\ipykernel_32644\\2206982253.py:345: VisibleDeprecationWarning: Creating an ndarray from ragged nested sequences (which is a list-or-tuple of lists-or-tuples-or ndarrays with different lengths or shapes) is deprecated. If you meant to do this, you must specify 'dtype=object' when creating the ndarray.\n",
      "  print(np.array(L_only_energy).shape)\n"
     ]
    },
    {
     "name": "stdout",
     "output_type": "stream",
     "text": [
      "(10,)\n",
      "(10, 60)\n",
      "Energy values > threshold:  (10, 60)\n",
      "L Energy Values:  (10, 60)\n",
      "All Energy Values:  (10, 60)\n",
      "Upper Threshold Energy Values:  (10, 60)\n",
      "Lower Threshold Energy Values:  (10, 60)\n",
      "(10, 60)\n",
      "(10, 60)\n",
      "Upper Threshold RMSD Values:  (10, 60)\n",
      "Lower Threshold RMSD Values:  (10, 60)\n",
      "[21.0, 22.0, 23.0, 24.0, 25.0, 26.0, 27.0, 28.0, 29.0, 30.0]\n",
      "Total Combinations for  10  is:  90\n"
     ]
    },
    {
     "name": "stderr",
     "output_type": "stream",
     "text": [
      "C:\\Users\\sali85\\Anaconda3\\envs\\New_Env_2\\lib\\site-packages\\openpyxl\\worksheet\\_reader.py:329: UserWarning: Unknown extension is not supported and will be removed\n",
      "  warn(msg)\n"
     ]
    },
    {
     "name": "stdout",
     "output_type": "stream",
     "text": [
      "checking!!\n"
     ]
    },
    {
     "name": "stderr",
     "output_type": "stream",
     "text": [
      "C:\\Users\\sali85\\AppData\\Local\\Temp\\ipykernel_32644\\2206982253.py:345: VisibleDeprecationWarning: Creating an ndarray from ragged nested sequences (which is a list-or-tuple of lists-or-tuples-or ndarrays with different lengths or shapes) is deprecated. If you meant to do this, you must specify 'dtype=object' when creating the ndarray.\n",
      "  print(np.array(L_only_energy).shape)\n"
     ]
    },
    {
     "name": "stdout",
     "output_type": "stream",
     "text": [
      "(10,)\n",
      "(10, 60)\n",
      "Energy values > threshold:  (10, 60)\n",
      "L Energy Values:  (10, 60)\n",
      "All Energy Values:  (10, 60)\n",
      "Upper Threshold Energy Values:  (10, 60)\n",
      "Lower Threshold Energy Values:  (10, 60)\n",
      "(10, 60)\n",
      "(10, 60)\n",
      "Upper Threshold RMSD Values:  (10, 60)\n",
      "Lower Threshold RMSD Values:  (10, 60)\n",
      "[63.0, 64.0, 65.0, 66.0, 67.0, 68.0, 69.0, 70.0, 71.0, 72.0]\n",
      "Total Combinations for  10  is:  90\n"
     ]
    },
    {
     "name": "stderr",
     "output_type": "stream",
     "text": [
      "C:\\Users\\sali85\\Anaconda3\\envs\\New_Env_2\\lib\\site-packages\\openpyxl\\worksheet\\_reader.py:329: UserWarning: Unknown extension is not supported and will be removed\n",
      "  warn(msg)\n"
     ]
    },
    {
     "name": "stdout",
     "output_type": "stream",
     "text": [
      "checking!!\n"
     ]
    },
    {
     "name": "stderr",
     "output_type": "stream",
     "text": [
      "C:\\Users\\sali85\\AppData\\Local\\Temp\\ipykernel_32644\\2206982253.py:345: VisibleDeprecationWarning: Creating an ndarray from ragged nested sequences (which is a list-or-tuple of lists-or-tuples-or ndarrays with different lengths or shapes) is deprecated. If you meant to do this, you must specify 'dtype=object' when creating the ndarray.\n",
      "  print(np.array(L_only_energy).shape)\n"
     ]
    },
    {
     "name": "stdout",
     "output_type": "stream",
     "text": [
      "(10,)\n",
      "(10, 60)\n",
      "Energy values > threshold:  (10, 60)\n",
      "L Energy Values:  (10, 60)\n",
      "All Energy Values:  (10, 60)\n",
      "Upper Threshold Energy Values:  (10, 60)\n",
      "Lower Threshold Energy Values:  (10, 60)\n",
      "(10, 60)\n",
      "(10, 60)\n",
      "Upper Threshold RMSD Values:  (10, 60)\n",
      "Lower Threshold RMSD Values:  (10, 60)\n",
      "[6.0, 7.0, 8.0, 9.0, 10.0, 11.0, 12.0, 13.0, 14.0, 15.0]\n",
      "Total Combinations for  10  is:  90\n"
     ]
    },
    {
     "name": "stderr",
     "output_type": "stream",
     "text": [
      "C:\\Users\\sali85\\Anaconda3\\envs\\New_Env_2\\lib\\site-packages\\openpyxl\\worksheet\\_reader.py:329: UserWarning: Unknown extension is not supported and will be removed\n",
      "  warn(msg)\n"
     ]
    },
    {
     "name": "stdout",
     "output_type": "stream",
     "text": [
      "checking!!\n"
     ]
    },
    {
     "name": "stderr",
     "output_type": "stream",
     "text": [
      "C:\\Users\\sali85\\AppData\\Local\\Temp\\ipykernel_32644\\2206982253.py:345: VisibleDeprecationWarning: Creating an ndarray from ragged nested sequences (which is a list-or-tuple of lists-or-tuples-or ndarrays with different lengths or shapes) is deprecated. If you meant to do this, you must specify 'dtype=object' when creating the ndarray.\n",
      "  print(np.array(L_only_energy).shape)\n"
     ]
    },
    {
     "name": "stdout",
     "output_type": "stream",
     "text": [
      "(10,)\n",
      "(10, 60)\n",
      "Energy values > threshold:  (10, 60)\n",
      "L Energy Values:  (10, 60)\n",
      "All Energy Values:  (10, 60)\n",
      "Upper Threshold Energy Values:  (10, 60)\n",
      "Lower Threshold Energy Values:  (10, 60)\n",
      "(10, 60)\n",
      "(10, 60)\n",
      "Upper Threshold RMSD Values:  (10, 60)\n",
      "Lower Threshold RMSD Values:  (10, 60)\n",
      "[22.0, 23.0, 24.0, 25.0, 26.0, 27.0, 28.0, 29.0, 30.0, 31.0]\n",
      "Total Combinations for  10  is:  90\n"
     ]
    },
    {
     "name": "stderr",
     "output_type": "stream",
     "text": [
      "C:\\Users\\sali85\\Anaconda3\\envs\\New_Env_2\\lib\\site-packages\\openpyxl\\worksheet\\_reader.py:329: UserWarning: Unknown extension is not supported and will be removed\n",
      "  warn(msg)\n"
     ]
    },
    {
     "name": "stdout",
     "output_type": "stream",
     "text": [
      "checking!!\n"
     ]
    },
    {
     "name": "stderr",
     "output_type": "stream",
     "text": [
      "C:\\Users\\sali85\\AppData\\Local\\Temp\\ipykernel_32644\\2206982253.py:345: VisibleDeprecationWarning: Creating an ndarray from ragged nested sequences (which is a list-or-tuple of lists-or-tuples-or ndarrays with different lengths or shapes) is deprecated. If you meant to do this, you must specify 'dtype=object' when creating the ndarray.\n",
      "  print(np.array(L_only_energy).shape)\n"
     ]
    },
    {
     "name": "stdout",
     "output_type": "stream",
     "text": [
      "(12,)\n",
      "(12, 60)\n",
      "Energy values > threshold:  (12, 60)\n",
      "L Energy Values:  (12, 60)\n",
      "All Energy Values:  (12, 60)\n",
      "Upper Threshold Energy Values:  (12, 60)\n",
      "Lower Threshold Energy Values:  (12, 60)\n",
      "(12, 60)\n",
      "(12, 60)\n",
      "Upper Threshold RMSD Values:  (12, 60)\n",
      "Lower Threshold RMSD Values:  (12, 60)\n",
      "[25.0, 26.0, 27.0, 28.0, 29.0, 30.0, 31.0, 32.0, 33.0, 34.0, 35.0, 36.0]\n",
      "Total Combinations for  12  is:  132\n"
     ]
    },
    {
     "name": "stderr",
     "output_type": "stream",
     "text": [
      "C:\\Users\\sali85\\Anaconda3\\envs\\New_Env_2\\lib\\site-packages\\openpyxl\\worksheet\\_reader.py:329: UserWarning: Unknown extension is not supported and will be removed\n",
      "  warn(msg)\n"
     ]
    },
    {
     "name": "stdout",
     "output_type": "stream",
     "text": [
      "checking!!\n"
     ]
    },
    {
     "name": "stderr",
     "output_type": "stream",
     "text": [
      "C:\\Users\\sali85\\AppData\\Local\\Temp\\ipykernel_32644\\2206982253.py:345: VisibleDeprecationWarning: Creating an ndarray from ragged nested sequences (which is a list-or-tuple of lists-or-tuples-or ndarrays with different lengths or shapes) is deprecated. If you meant to do this, you must specify 'dtype=object' when creating the ndarray.\n",
      "  print(np.array(L_only_energy).shape)\n"
     ]
    },
    {
     "name": "stdout",
     "output_type": "stream",
     "text": [
      "(10,)\n",
      "(10, 60)\n",
      "Energy values > threshold:  (10, 60)\n",
      "L Energy Values:  (10, 60)\n",
      "All Energy Values:  (10, 60)\n",
      "Upper Threshold Energy Values:  (10, 60)\n",
      "Lower Threshold Energy Values:  (10, 60)\n",
      "(10, 60)\n",
      "(10, 60)\n",
      "Upper Threshold RMSD Values:  (10, 60)\n",
      "Lower Threshold RMSD Values:  (10, 60)\n",
      "[64.0, 65.0, 66.0, 67.0, 68.0, 69.0, 70.0, 71.0, 72.0, 73.0]\n",
      "Total Combinations for  10  is:  90\n"
     ]
    },
    {
     "name": "stderr",
     "output_type": "stream",
     "text": [
      "C:\\Users\\sali85\\Anaconda3\\envs\\New_Env_2\\lib\\site-packages\\openpyxl\\worksheet\\_reader.py:329: UserWarning: Unknown extension is not supported and will be removed\n",
      "  warn(msg)\n"
     ]
    },
    {
     "name": "stdout",
     "output_type": "stream",
     "text": [
      "checking!!\n"
     ]
    },
    {
     "name": "stderr",
     "output_type": "stream",
     "text": [
      "C:\\Users\\sali85\\AppData\\Local\\Temp\\ipykernel_32644\\2206982253.py:345: VisibleDeprecationWarning: Creating an ndarray from ragged nested sequences (which is a list-or-tuple of lists-or-tuples-or ndarrays with different lengths or shapes) is deprecated. If you meant to do this, you must specify 'dtype=object' when creating the ndarray.\n",
      "  print(np.array(L_only_energy).shape)\n"
     ]
    },
    {
     "name": "stdout",
     "output_type": "stream",
     "text": [
      "(12,)\n",
      "(12, 60)\n",
      "Energy values > threshold:  (12, 60)\n",
      "L Energy Values:  (12, 60)\n",
      "All Energy Values:  (12, 60)\n",
      "Upper Threshold Energy Values:  (12, 60)\n",
      "Lower Threshold Energy Values:  (12, 60)\n",
      "(12, 60)\n",
      "(12, 60)\n",
      "Upper Threshold RMSD Values:  (12, 60)\n",
      "Lower Threshold RMSD Values:  (12, 60)\n",
      "[110.0, 111.0, 112.0, 113.0, 114.0, 115.0, 116.0, 117.0, 118.0, 119.0, 120.0, 121.0]\n",
      "Total Combinations for  12  is:  132\n"
     ]
    },
    {
     "name": "stderr",
     "output_type": "stream",
     "text": [
      "C:\\Users\\sali85\\Anaconda3\\envs\\New_Env_2\\lib\\site-packages\\openpyxl\\worksheet\\_reader.py:329: UserWarning: Unknown extension is not supported and will be removed\n",
      "  warn(msg)\n"
     ]
    },
    {
     "name": "stdout",
     "output_type": "stream",
     "text": [
      "checking!!\n"
     ]
    },
    {
     "name": "stderr",
     "output_type": "stream",
     "text": [
      "C:\\Users\\sali85\\AppData\\Local\\Temp\\ipykernel_32644\\2206982253.py:345: VisibleDeprecationWarning: Creating an ndarray from ragged nested sequences (which is a list-or-tuple of lists-or-tuples-or ndarrays with different lengths or shapes) is deprecated. If you meant to do this, you must specify 'dtype=object' when creating the ndarray.\n",
      "  print(np.array(L_only_energy).shape)\n"
     ]
    },
    {
     "name": "stdout",
     "output_type": "stream",
     "text": [
      "(11,)\n",
      "(11, 60)\n",
      "Energy values > threshold:  (11, 60)\n",
      "L Energy Values:  (11, 60)\n",
      "All Energy Values:  (11, 60)\n",
      "Upper Threshold Energy Values:  (11, 60)\n",
      "Lower Threshold Energy Values:  (11, 60)\n",
      "(11, 60)\n",
      "(11, 60)\n",
      "Upper Threshold RMSD Values:  (11, 60)\n",
      "Lower Threshold RMSD Values:  (11, 60)\n",
      "[13.0, 14.0, 15.0, 16.0, 17.0, 18.0, 19.0, 20.0, 21.0, 22.0, 23.0]\n",
      "Total Combinations for  11  is:  110\n"
     ]
    },
    {
     "name": "stderr",
     "output_type": "stream",
     "text": [
      "C:\\Users\\sali85\\Anaconda3\\envs\\New_Env_2\\lib\\site-packages\\openpyxl\\worksheet\\_reader.py:329: UserWarning: Unknown extension is not supported and will be removed\n",
      "  warn(msg)\n"
     ]
    },
    {
     "name": "stdout",
     "output_type": "stream",
     "text": [
      "checking!!\n"
     ]
    },
    {
     "name": "stderr",
     "output_type": "stream",
     "text": [
      "C:\\Users\\sali85\\AppData\\Local\\Temp\\ipykernel_32644\\2206982253.py:345: VisibleDeprecationWarning: Creating an ndarray from ragged nested sequences (which is a list-or-tuple of lists-or-tuples-or ndarrays with different lengths or shapes) is deprecated. If you meant to do this, you must specify 'dtype=object' when creating the ndarray.\n",
      "  print(np.array(L_only_energy).shape)\n"
     ]
    },
    {
     "name": "stdout",
     "output_type": "stream",
     "text": [
      "(11,)\n",
      "(11, 60)\n",
      "Energy values > threshold:  (11, 60)\n",
      "L Energy Values:  (11, 60)\n",
      "All Energy Values:  (11, 60)\n",
      "Upper Threshold Energy Values:  (11, 60)\n",
      "Lower Threshold Energy Values:  (11, 60)\n",
      "(11, 60)\n",
      "(11, 60)\n",
      "Upper Threshold RMSD Values:  (11, 60)\n",
      "Lower Threshold RMSD Values:  (11, 60)\n",
      "[534.8, 535.8, 536.8, 537.8, 538.8, 539.8, 540.8, 541.8, 542.8, 543.8, 544.8]\n",
      "Total Combinations for  11  is:  110\n"
     ]
    },
    {
     "name": "stderr",
     "output_type": "stream",
     "text": [
      "C:\\Users\\sali85\\Anaconda3\\envs\\New_Env_2\\lib\\site-packages\\openpyxl\\worksheet\\_reader.py:329: UserWarning: Unknown extension is not supported and will be removed\n",
      "  warn(msg)\n"
     ]
    },
    {
     "name": "stdout",
     "output_type": "stream",
     "text": [
      "checking!!\n"
     ]
    },
    {
     "name": "stderr",
     "output_type": "stream",
     "text": [
      "C:\\Users\\sali85\\AppData\\Local\\Temp\\ipykernel_32644\\2206982253.py:345: VisibleDeprecationWarning: Creating an ndarray from ragged nested sequences (which is a list-or-tuple of lists-or-tuples-or ndarrays with different lengths or shapes) is deprecated. If you meant to do this, you must specify 'dtype=object' when creating the ndarray.\n",
      "  print(np.array(L_only_energy).shape)\n"
     ]
    },
    {
     "name": "stdout",
     "output_type": "stream",
     "text": [
      "(11,)\n",
      "(11, 60)\n",
      "Energy values > threshold:  (11, 60)\n",
      "L Energy Values:  (11, 60)\n",
      "All Energy Values:  (11, 60)\n",
      "Upper Threshold Energy Values:  (11, 60)\n",
      "Lower Threshold Energy Values:  (11, 60)\n",
      "(11, 60)\n",
      "(11, 60)\n",
      "Upper Threshold RMSD Values:  (11, 60)\n",
      "Lower Threshold RMSD Values:  (11, 60)\n",
      "[238.1, 239.1, 240.1, 241.1, 242.1, 243.1, 244.1, 245.1, 246.1, 247.1, 248.1]\n",
      "Total Combinations for  11  is:  110\n"
     ]
    },
    {
     "name": "stderr",
     "output_type": "stream",
     "text": [
      "C:\\Users\\sali85\\Anaconda3\\envs\\New_Env_2\\lib\\site-packages\\openpyxl\\worksheet\\_reader.py:329: UserWarning: Unknown extension is not supported and will be removed\n",
      "  warn(msg)\n"
     ]
    },
    {
     "name": "stdout",
     "output_type": "stream",
     "text": [
      "checking!!\n"
     ]
    },
    {
     "name": "stderr",
     "output_type": "stream",
     "text": [
      "C:\\Users\\sali85\\AppData\\Local\\Temp\\ipykernel_32644\\2206982253.py:345: VisibleDeprecationWarning: Creating an ndarray from ragged nested sequences (which is a list-or-tuple of lists-or-tuples-or ndarrays with different lengths or shapes) is deprecated. If you meant to do this, you must specify 'dtype=object' when creating the ndarray.\n",
      "  print(np.array(L_only_energy).shape)\n"
     ]
    },
    {
     "name": "stdout",
     "output_type": "stream",
     "text": [
      "(11,)\n",
      "(11, 60)\n",
      "Energy values > threshold:  (11, 60)\n",
      "L Energy Values:  (11, 60)\n",
      "All Energy Values:  (11, 60)\n",
      "Upper Threshold Energy Values:  (11, 60)\n",
      "Lower Threshold Energy Values:  (11, 60)\n",
      "(11, 60)\n",
      "(11, 60)\n",
      "Upper Threshold RMSD Values:  (11, 60)\n",
      "Lower Threshold RMSD Values:  (11, 60)\n",
      "[219.8, 220.8, 221.8, 222.8, 223.8, 224.8, 225.8, 226.8, 227.8, 228.8, 229.8]\n",
      "Total Combinations for  11  is:  110\n"
     ]
    },
    {
     "name": "stderr",
     "output_type": "stream",
     "text": [
      "C:\\Users\\sali85\\Anaconda3\\envs\\New_Env_2\\lib\\site-packages\\openpyxl\\worksheet\\_reader.py:329: UserWarning: Unknown extension is not supported and will be removed\n",
      "  warn(msg)\n"
     ]
    },
    {
     "name": "stdout",
     "output_type": "stream",
     "text": [
      "checking!!\n"
     ]
    },
    {
     "name": "stderr",
     "output_type": "stream",
     "text": [
      "C:\\Users\\sali85\\AppData\\Local\\Temp\\ipykernel_32644\\2206982253.py:345: VisibleDeprecationWarning: Creating an ndarray from ragged nested sequences (which is a list-or-tuple of lists-or-tuples-or ndarrays with different lengths or shapes) is deprecated. If you meant to do this, you must specify 'dtype=object' when creating the ndarray.\n",
      "  print(np.array(L_only_energy).shape)\n"
     ]
    },
    {
     "name": "stdout",
     "output_type": "stream",
     "text": [
      "(11,)\n",
      "(11, 60)\n",
      "Energy values > threshold:  (11, 60)\n",
      "L Energy Values:  (11, 60)\n",
      "All Energy Values:  (11, 60)\n",
      "Upper Threshold Energy Values:  (11, 60)\n",
      "Lower Threshold Energy Values:  (11, 60)\n",
      "(11, 60)\n",
      "(11, 60)\n",
      "Upper Threshold RMSD Values:  (11, 60)\n",
      "Lower Threshold RMSD Values:  (11, 60)\n",
      "[32.0, 33.0, 34.0, 35.0, 36.0, 37.0, 38.0, 39.0, 40.0, 41.0, 42.0]\n",
      "Total Combinations for  11  is:  110\n"
     ]
    },
    {
     "name": "stderr",
     "output_type": "stream",
     "text": [
      "C:\\Users\\sali85\\Anaconda3\\envs\\New_Env_2\\lib\\site-packages\\openpyxl\\worksheet\\_reader.py:329: UserWarning: Unknown extension is not supported and will be removed\n",
      "  warn(msg)\n"
     ]
    },
    {
     "name": "stdout",
     "output_type": "stream",
     "text": [
      "checking!!\n"
     ]
    },
    {
     "name": "stderr",
     "output_type": "stream",
     "text": [
      "C:\\Users\\sali85\\AppData\\Local\\Temp\\ipykernel_32644\\2206982253.py:345: VisibleDeprecationWarning: Creating an ndarray from ragged nested sequences (which is a list-or-tuple of lists-or-tuples-or ndarrays with different lengths or shapes) is deprecated. If you meant to do this, you must specify 'dtype=object' when creating the ndarray.\n",
      "  print(np.array(L_only_energy).shape)\n"
     ]
    },
    {
     "name": "stdout",
     "output_type": "stream",
     "text": [
      "(12,)\n",
      "(12, 60)\n",
      "Energy values > threshold:  (12, 60)\n",
      "L Energy Values:  (12, 60)\n",
      "All Energy Values:  (12, 60)\n",
      "Upper Threshold Energy Values:  (12, 60)\n",
      "Lower Threshold Energy Values:  (12, 60)\n",
      "(12, 60)\n",
      "(12, 60)\n",
      "Upper Threshold RMSD Values:  (12, 60)\n",
      "Lower Threshold RMSD Values:  (12, 60)\n",
      "[21.0, 22.0, 23.0, 24.0, 25.0, 26.0, 27.0, 28.0, 29.0, 30.0, 31.0, 32.0]\n",
      "Total Combinations for  12  is:  132\n"
     ]
    },
    {
     "name": "stderr",
     "output_type": "stream",
     "text": [
      "C:\\Users\\sali85\\Anaconda3\\envs\\New_Env_2\\lib\\site-packages\\openpyxl\\worksheet\\_reader.py:329: UserWarning: Unknown extension is not supported and will be removed\n",
      "  warn(msg)\n"
     ]
    },
    {
     "name": "stdout",
     "output_type": "stream",
     "text": [
      "checking!!\n"
     ]
    },
    {
     "name": "stderr",
     "output_type": "stream",
     "text": [
      "C:\\Users\\sali85\\AppData\\Local\\Temp\\ipykernel_32644\\2206982253.py:345: VisibleDeprecationWarning: Creating an ndarray from ragged nested sequences (which is a list-or-tuple of lists-or-tuples-or ndarrays with different lengths or shapes) is deprecated. If you meant to do this, you must specify 'dtype=object' when creating the ndarray.\n",
      "  print(np.array(L_only_energy).shape)\n"
     ]
    },
    {
     "name": "stdout",
     "output_type": "stream",
     "text": [
      "(12,)\n",
      "(12, 60)\n",
      "Energy values > threshold:  (12, 60)\n",
      "L Energy Values:  (12, 60)\n",
      "All Energy Values:  (12, 60)\n",
      "Upper Threshold Energy Values:  (12, 60)\n",
      "Lower Threshold Energy Values:  (12, 60)\n",
      "(12, 60)\n",
      "(12, 60)\n",
      "Upper Threshold RMSD Values:  (12, 60)\n",
      "Lower Threshold RMSD Values:  (12, 60)\n",
      "[13.0, 14.0, 15.0, 16.0, 17.0, 18.0, 19.0, 20.0, 21.0, 22.0, 23.0, 24.0]\n",
      "Total Combinations for  12  is:  132\n"
     ]
    },
    {
     "name": "stderr",
     "output_type": "stream",
     "text": [
      "C:\\Users\\sali85\\Anaconda3\\envs\\New_Env_2\\lib\\site-packages\\openpyxl\\worksheet\\_reader.py:329: UserWarning: Unknown extension is not supported and will be removed\n",
      "  warn(msg)\n"
     ]
    },
    {
     "name": "stdout",
     "output_type": "stream",
     "text": [
      "checking!!\n"
     ]
    },
    {
     "name": "stderr",
     "output_type": "stream",
     "text": [
      "C:\\Users\\sali85\\AppData\\Local\\Temp\\ipykernel_32644\\2206982253.py:345: VisibleDeprecationWarning: Creating an ndarray from ragged nested sequences (which is a list-or-tuple of lists-or-tuples-or ndarrays with different lengths or shapes) is deprecated. If you meant to do this, you must specify 'dtype=object' when creating the ndarray.\n",
      "  print(np.array(L_only_energy).shape)\n"
     ]
    },
    {
     "name": "stdout",
     "output_type": "stream",
     "text": [
      "(12,)\n",
      "(12, 60)\n",
      "Energy values > threshold:  (12, 60)\n",
      "L Energy Values:  (12, 60)\n",
      "All Energy Values:  (12, 60)\n",
      "Upper Threshold Energy Values:  (12, 60)\n",
      "Lower Threshold Energy Values:  (12, 60)\n",
      "(12, 60)\n",
      "(12, 60)\n",
      "Upper Threshold RMSD Values:  (12, 60)\n",
      "Lower Threshold RMSD Values:  (12, 60)\n",
      "[160.0, 161.0, 162.0, 163.0, 164.0, 165.0, 166.0, 167.0, 168.0, 169.0, 170.0, 171.0]\n",
      "Total Combinations for  12  is:  132\n"
     ]
    },
    {
     "name": "stderr",
     "output_type": "stream",
     "text": [
      "C:\\Users\\sali85\\Anaconda3\\envs\\New_Env_2\\lib\\site-packages\\openpyxl\\worksheet\\_reader.py:329: UserWarning: Unknown extension is not supported and will be removed\n",
      "  warn(msg)\n"
     ]
    },
    {
     "name": "stdout",
     "output_type": "stream",
     "text": [
      "checking!!\n"
     ]
    },
    {
     "name": "stderr",
     "output_type": "stream",
     "text": [
      "C:\\Users\\sali85\\AppData\\Local\\Temp\\ipykernel_32644\\2206982253.py:345: VisibleDeprecationWarning: Creating an ndarray from ragged nested sequences (which is a list-or-tuple of lists-or-tuples-or ndarrays with different lengths or shapes) is deprecated. If you meant to do this, you must specify 'dtype=object' when creating the ndarray.\n",
      "  print(np.array(L_only_energy).shape)\n"
     ]
    },
    {
     "name": "stdout",
     "output_type": "stream",
     "text": [
      "(7,)\n",
      "(7, 60)\n",
      "Energy values > threshold:  (7, 60)\n",
      "L Energy Values:  (7, 60)\n",
      "All Energy Values:  (7, 60)\n",
      "Upper Threshold Energy Values:  (7, 60)\n",
      "Lower Threshold Energy Values:  (7, 60)\n",
      "(7, 60)\n",
      "(7, 60)\n",
      "Upper Threshold RMSD Values:  (7, 60)\n",
      "Lower Threshold RMSD Values:  (7, 60)\n",
      "[2770.0, 2771.0, 2772.0, 2773.0, 2774.0, 2775.0, 2776.0]\n",
      "Total Combinations for  7  is:  42\n"
     ]
    },
    {
     "name": "stderr",
     "output_type": "stream",
     "text": [
      "C:\\Users\\sali85\\Anaconda3\\envs\\New_Env_2\\lib\\site-packages\\openpyxl\\worksheet\\_reader.py:329: UserWarning: Unknown extension is not supported and will be removed\n",
      "  warn(msg)\n"
     ]
    },
    {
     "name": "stdout",
     "output_type": "stream",
     "text": [
      "checking!!\n",
      "(8, 1318)\n",
      "(8, 60)\n",
      "Energy values > threshold:  (8, 60)\n",
      "L Energy Values:  (8, 60)\n",
      "All Energy Values:  (8, 60)\n",
      "Upper Threshold Energy Values:  (8, 60)\n",
      "Lower Threshold Energy Values:  (8, 60)\n",
      "(8, 60)\n",
      "(8, 60)\n",
      "Upper Threshold RMSD Values:  (8, 60)\n",
      "Lower Threshold RMSD Values:  (8, 60)\n",
      "[3770.0, 3771.0, 3772.0, 3773.0, 3774.0, 3775.0, 3776.0, 3777.0]\n",
      "Total Combinations for  8  is:  56\n"
     ]
    }
   ],
   "source": [
    "# print(\"Accuracy   Precision   Recall   F1 (weighted)   F1 (Macro)   F1 (Micro)   ROC AUC\")\n",
    "svm_table = []\n",
    "gauu_nb_table = []\n",
    "mlp_table = []\n",
    "knn_table = []\n",
    "rf_table = []\n",
    "lr_table = []\n",
    "dt_table = []\n",
    "\n",
    "lr_theta = []\n",
    "lr_intercept = []\n",
    "\n",
    "\n",
    "\n",
    "################################################################\n",
    "\n",
    "total_splits = 5\n",
    "\n",
    "index_values_split = np.array(list(range(0,len(folder_names))))\n",
    "\n",
    "sss = ShuffleSplit(n_splits=total_splits, test_size=0.3)\n",
    "\n",
    "for t in range(total_splits):\n",
    "    sss.get_n_splits(index_values_split)\n",
    "    train_index, test_index = next(sss.split(index_values_split)) \n",
    "\n",
    "#     X_train, X_test = index_values_split[train_index], index_values_split[test_index]\n",
    "    \n",
    "    ######################################################\n",
    "\n",
    "    merged_feat_train = []\n",
    "    merged_kd_val_train = []\n",
    "    \n",
    "    merged_feat_test = []\n",
    "    merged_kd_val_test = []\n",
    "\n",
    "    for file_name_hold in range(len(folder_names)):\n",
    "        \n",
    "        \n",
    "\n",
    "        energy_lower_embedding = []\n",
    "        energy_upper_embedding = []\n",
    "        rmsd_lower_embedding = []\n",
    "        rmsd_upper_embedding = []\n",
    "\n",
    "        file_name_temp = folder_names[file_name_hold]\n",
    "\n",
    "        output_data_path = \"E:/RA/BC_Project/Results/HDock_On_Perturbed_Aptamers/All_Perturbations/\" + file_name_temp\n",
    "\n",
    "\n",
    "        # to_be_ignored = [\"1by4\",\"1e7j\",\"1knz\",\"1r8d\",\"2vye\",\"3n1i\",\"3n1j\",\"3n1k\",\"3n1l\",\n",
    "        #                  \"4hqb\",\"4is1\",\"4nnu\",\"4nod\",\"4pu3\",\"4pu4\",\"5do4\",\"6c1a\",\"6c1t\",\n",
    "        #                  \"6c1v\",\"6cnp\",\"6cnq\",\"6h8q\"]\n",
    "\n",
    "        # to_be_included = [\"1jbr\",\"1je8\",\"1omh\",\"1osb\",\"1s40\",\"1wwd\",\"1wwe\",\n",
    "        #                   \"1wwf\",\"1wwg\",\"1zzi\",\"2ccz\",\"2la5\",\"2leb\",\"2lec\",\"3rn2\",\"3v7e\",\n",
    "        #                  \"4hid\",\"4hik\",\"4him\",\"4hio\",\"4hj5\",\"4hj7\",\"4hj8\",\"4pdb\",\"5wwe\",\n",
    "        #                   \"5wwf\",\"5wwg\",\"6eo6\",\"6eo7\",\"5ytx\",\"5ytv\",\"5ytt\",\"5yts\"]\n",
    "\n",
    "\n",
    "\n",
    "        \n",
    "        #extract File Names\n",
    "        file_names = []\n",
    "        file_names_full = []\n",
    "        for infile in sorted(glob.glob(output_data_path + \"/*.out\")):\n",
    "            name_temp = infile.split(\"\\\\\")[1]\n",
    "            file_names.append(name_temp.split(\"_\")[0])\n",
    "            asd_1 = name_temp.split(\".\")[0].split(\"_\")\n",
    "            asd_name = asd_1[1]\n",
    "        #     filter the pdb file names\n",
    "        #     if asd_name in unique_cases:\n",
    "        #         if asd_1[3]=='1':\n",
    "        #             file_names_full.append(infile.replace(\"\\\\\",\"/\"))\n",
    "        #     elif asd_name in to_be_included:\n",
    "        #         if asd_1[3]=='0':\n",
    "        #             file_names_full.append(infile.replace(\"\\\\\",\"/\"))\n",
    "            file_names_full.append(infile.replace(\"\\\\\",\"/\"))\n",
    "\n",
    "\n",
    "\n",
    "        excel_file_path = \"E:/RA/BC_Project/Data/All-PDBBind-Info.xlsx\"\n",
    "\n",
    "        # Read the XLSX file\n",
    "        data_frame = pd.read_excel(excel_file_path)\n",
    "\n",
    "        # Extract specific columns\n",
    "        columns_to_extract = ['PDB code', 'Affinity Data']\n",
    "        extracted_data = data_frame[columns_to_extract]\n",
    "\n",
    "        # Convert extracted data to a NumPy array\n",
    "        numpy_array = extracted_data.to_numpy()\n",
    "\n",
    "        pdb_file_name = []\n",
    "        kd_val_excel = []\n",
    "\n",
    "        for i in range(len(numpy_array)):\n",
    "            aa = numpy_array[i]\n",
    "            pdb_file_name.append(aa[0])\n",
    "            kd_tmp = aa[1].replace(\"Kd=\",\"\").replace(\"Ki=\",\"\").replace(\"IC50=\",\"\")\n",
    "            if \"nM\" in kd_tmp:\n",
    "                kd_tmp_1 = float(kd_tmp.replace(\"nM\",\"\"))\n",
    "                kd_val_excel.append(kd_tmp_1)\n",
    "            elif \"uM\" in kd_tmp:\n",
    "                kd_tmp_1 = float(kd_tmp.replace(\"uM\",\"\")) * 1000\n",
    "                kd_val_excel.append(kd_tmp_1)\n",
    "            elif \"pM\" in kd_tmp:\n",
    "                kd_tmp_1 = float(kd_tmp.replace(\"pM\",\"\")) * 0.001\n",
    "                kd_val_excel.append(kd_tmp_1)\n",
    "            elif \"fM\" in kd_tmp:\n",
    "                kd_tmp_1 = float(kd_tmp.replace(\"fM\",\"\")) / 1000000\n",
    "                print(\"checking!!\")\n",
    "                kd_val_excel.append(kd_tmp_1)\n",
    "            elif \"mM\" in kd_tmp:\n",
    "                kd_tmp_1 = float(kd_tmp.replace(\"mM\",\"\")) * 1000000\n",
    "                kd_val_excel.append(kd_tmp_1)\n",
    "            else:\n",
    "                print(kd_tmp)\n",
    "\n",
    "\n",
    "        \n",
    "        filtered_kd_values = []\n",
    "        for i in range(len(file_names)):\n",
    "            filt_file = file_names[i]\n",
    "            for j in range(len(pdb_file_name)):\n",
    "                if pdb_file_name[j] == filt_file:\n",
    "                    filtered_kd_values.append(pdb_file_name[j])\n",
    "\n",
    "        to_be_included_final = filtered_kd_values[:]\n",
    "\n",
    "        kd_values = []\n",
    "        for i in range(len(to_be_included_final)):\n",
    "            ind_val = pdb_file_name.index(to_be_included_final[i])\n",
    "            kd_values.append(kd_val_excel[ind_val])\n",
    "\n",
    "        # kd_values = [350,1,1,0.15,70,70,96,0.3,250,170,94,95,2.2,100,26,0.17,3.8,0.27,0.22,46.9,0.08,6.3,3.35,4.45,5.73,4.29,0.112,0.09,35,270,25,855,24,37,21,63,6,22,3.6,0.7,25,0.2,7.4,7.1,110,5.5,5.5,1.67,6.1,1.8,0.9,114.7,2.86,0.19,534.8,238.1,219.8,2.77,3.77,1.26,1.34,16.5,7.2,3.2,13,0.7,0.9,1,0.39,0.7,2.2,5,3.1,]\n",
    "        # len(kd_values)\n",
    "        [to_be_included[4],kd_values[4]]\n",
    "\n",
    "\n",
    "\n",
    "\n",
    "\n",
    "        preprocessed_data = []\n",
    "        energy_preprocessed_data = []\n",
    "        L_energy_preprocessed_data = []\n",
    "        all_energy_preprocessed_data = []\n",
    "\n",
    "        U_only_energy = []\n",
    "        L_only_energy = []\n",
    "        U_only_rmsd = []\n",
    "        L_only_rmsd = []\n",
    "\n",
    "        rmsd_preprocessed_data = []\n",
    "        L_rmsd_preprocessed_data = []\n",
    "\n",
    "        \n",
    "\n",
    "        kd_values_arr = []\n",
    "        coords = []\n",
    "\n",
    "\n",
    "\n",
    "        for total_files in range(len(file_names_full)):\n",
    "            file_name_single = file_names_full[total_files]\n",
    "        #     print(file_name_single)\n",
    "            data = []\n",
    "            with open(file_name_single) as f:\n",
    "                while True:\n",
    "                    line = f.readline()\n",
    "                    if not line:\n",
    "                        break\n",
    "            #         print(line.strip())\n",
    "                    data.append(line.strip())\n",
    "            # file_names_full\n",
    "\n",
    "            data_2 = data[:]\n",
    "            data_2[0:5] = []\n",
    "            pp_data = []\n",
    "            for i in range(len(data_2)):\n",
    "                test = data_2[i].split(\" \")\n",
    "                test = [i for i in test if i]\n",
    "                final_values = [float(x) for x in test]\n",
    "                pp_data.append(list(final_values))\n",
    "                coords.append([float(final_values[0]), float(final_values[1]), float(final_values[2])])\n",
    "            kd_values_arr.append(kd_values[total_files])\n",
    "\n",
    "            pp_data_final = pp_data[:]\n",
    "            # Use flatten method to convert to 1D array\n",
    "            preprocessed_data.append(np.array(pp_data).flatten())\n",
    "\n",
    "            ###################################################\n",
    "            # calculate the 75th percentile of the values in the 7th column\n",
    "            # Convert pp_data to a numpy array\n",
    "            pp_data = np.array(pp_data_final)\n",
    "            cutoff = np.percentile(pp_data[:, 6], percentile_threshold)\n",
    "\n",
    "            # select the rows where the 7th column value is greater than the 75th percentile value\n",
    "            sub_array = pp_data[pp_data[:, 6] > cutoff]\n",
    "\n",
    "            # Use flatten method to convert to 1D array\n",
    "            energy_preprocessed_data.append(np.array(sub_array).flatten())\n",
    "            ###################################################\n",
    "\n",
    "            ###################################################\n",
    "            # calculate the 75th percentile of the values in the 7th column\n",
    "            # Convert pp_data to a numpy array\n",
    "            pp_data = np.array(pp_data_final)\n",
    "            cutoff = np.percentile(pp_data[:, 6], percentile_threshold)\n",
    "\n",
    "            # select the rows where the 7th column value is greater than the 75th percentile value\n",
    "            sub_array = pp_data[pp_data[:, 6] < cutoff]\n",
    "\n",
    "            # Use flatten method to convert to 1D array\n",
    "            L_energy_preprocessed_data.append(np.array(sub_array).flatten())\n",
    "            ###################################################\n",
    "\n",
    "            ################## All Energy Only (start) #################################\n",
    "            # calculate the 75th percentile of the values in the 7th column\n",
    "            # Convert pp_data to a numpy array\n",
    "            pp_data = np.array(pp_data_final)\n",
    "        #     cutoff = np.percentile(pp_data[:, 6], percentile_threshold)\n",
    "\n",
    "            # select the rows where the 7th column value is greater than the 75th percentile value\n",
    "            sub_array = pp_data[:, 6]\n",
    "\n",
    "            # Use flatten method to convert to 1D array\n",
    "            all_energy_preprocessed_data.append(np.array(sub_array))\n",
    "            ################## All Energy Only (end) #################################\n",
    "\n",
    "            ################## Upper Threshold Energy Only (start) #################################\n",
    "            # calculate the 75th percentile of the values in the 7th column\n",
    "            # Convert pp_data to a numpy array\n",
    "            pp_data = np.array(pp_data_final)\n",
    "            cutoff = np.percentile(pp_data[:, 6], percentile_threshold)\n",
    "\n",
    "            # select the rows where the 7th column value is greater than the 75th percentile value\n",
    "            sub_array_1 = np.array(pp_data[pp_data[:, 6] > cutoff])\n",
    "            sub_array = []\n",
    "            for i_th in range(len(sub_array_1)):\n",
    "                aq = sub_array_1[i_th]\n",
    "                sub_array.append(aq[6])\n",
    "\n",
    "\n",
    "            # Use flatten method to convert to 1D array\n",
    "            U_only_energy.append(np.array(sub_array))\n",
    "            ################## Upper Threshold Energy Only (end) #################################\n",
    "\n",
    "            ################## Lower Threshold Energy Only (start) #################################\n",
    "            # calculate the 75th percentile of the values in the 7th column\n",
    "            # Convert pp_data to a numpy array\n",
    "            pp_data = np.array(pp_data_final)\n",
    "            cutoff = np.percentile(pp_data[:, 6], percentile_threshold)\n",
    "\n",
    "            # select the rows where the 7th column value is greater than the 75th percentile value\n",
    "            sub_array_1 = np.array(pp_data[pp_data[:, 6] < cutoff])\n",
    "            sub_array = []\n",
    "            for i_th in range(len(sub_array_1)):\n",
    "                aq = sub_array_1[i_th]\n",
    "                sub_array.append(aq[6])\n",
    "\n",
    "\n",
    "            # Use flatten method to convert to 1D array\n",
    "            L_only_energy.append(np.array(sub_array))\n",
    "            ################## Lower Threshold Energy Only (end) #################################\n",
    "\n",
    "            ###################################################\n",
    "\n",
    "        #     RMSD\n",
    "        #     Selecting values above or below the 75th percentile can be useful in certain situations. \n",
    "        #     For example, if you are trying to identify the most deviant structures from a set of \n",
    "        #     protein conformations, you might choose to select structures with RMSD values above the \n",
    "        #     75th percentile. This can help you focus on the most structurally distinct conformations.\n",
    "\n",
    "            # calculate the 75th percentile of the values in the 8th column\n",
    "            # Convert pp_data to a numpy array\n",
    "            pp_data = np.array(pp_data_final)\n",
    "            cutoff = np.percentile(pp_data[:, 7], percentile_threshold)\n",
    "\n",
    "            # select the rows where the 8th column value is greater than the 75th percentile value\n",
    "            sub_array = pp_data[pp_data[:, 7] > cutoff]\n",
    "\n",
    "            # Use flatten method to convert to 1D array\n",
    "            rmsd_preprocessed_data.append(np.array(sub_array).flatten())\n",
    "            ###################################################\n",
    "\n",
    "            ###################################################\n",
    "        #     RMSD\n",
    "\n",
    "        #     Selecting values below the 75th percentile might be useful if you are \n",
    "        #     interested in identifying a subset of conformations that are more similar to the reference \n",
    "        #     structure. This could be useful if you are trying to study a specific aspect of the protein \n",
    "        #     structure and want to focus on conformations that are more similar to the reference structure.\n",
    "\n",
    "            # calculate the 75th percentile of the values in the 8th column\n",
    "            # Convert pp_data to a numpy array\n",
    "            pp_data = np.array(pp_data_final)\n",
    "            cutoff = np.percentile(pp_data[:, 7], percentile_threshold)\n",
    "\n",
    "            # select the rows where the 8th column value is greater than the 75th percentile value\n",
    "            sub_array = pp_data[pp_data[:, 7] < cutoff]\n",
    "\n",
    "            # Use flatten method to convert to 1D array\n",
    "            L_rmsd_preprocessed_data.append(np.array(sub_array).flatten())\n",
    "            ###################################################\n",
    "\n",
    "            ########################################################################################################\n",
    "                ################## Upper Threshold RMSD Only (start) #################################\n",
    "            # calculate the 75th percentile of the values in the 7th column\n",
    "            # Convert pp_data to a numpy array\n",
    "            pp_data = np.array(pp_data_final)\n",
    "            cutoff = np.percentile(pp_data[:, 7], percentile_threshold)\n",
    "\n",
    "            # select the rows where the 7th column value is greater than the 75th percentile value\n",
    "            sub_array_1 = np.array(pp_data[pp_data[:, 7] > cutoff])\n",
    "            sub_array = []\n",
    "            for i_th in range(len(sub_array_1)):\n",
    "                aq = sub_array_1[i_th]\n",
    "                sub_array.append(aq[7])\n",
    "\n",
    "\n",
    "            # Use flatten method to convert to 1D array\n",
    "            U_only_rmsd.append(np.array(sub_array))\n",
    "            ################## Upper Threshold RMSD Only (end) #################################\n",
    "\n",
    "            ################## Lower Threshold RMSD Only (start) #################################\n",
    "            # calculate the 75th percentile of the values in the 7th column\n",
    "            # Convert pp_data to a numpy array\n",
    "            pp_data = np.array(pp_data_final)\n",
    "            cutoff = np.percentile(pp_data[:, 7], percentile_threshold)\n",
    "\n",
    "            # select the rows where the 7th column value is greater than the 75th percentile value\n",
    "            sub_array_1 = np.array(pp_data[pp_data[:, 7] < cutoff])\n",
    "            sub_array = []\n",
    "            for i_th in range(len(sub_array_1)):\n",
    "                aq = sub_array_1[i_th]\n",
    "                sub_array.append(aq[7])\n",
    "\n",
    "\n",
    "            # Use flatten method to convert to 1D array\n",
    "            L_only_rmsd.append(np.array(sub_array))\n",
    "            ################## Lower Threshold RMSD Only (end) #################################\n",
    "\n",
    "\n",
    "        print(np.array(L_only_energy).shape)\n",
    "\n",
    "\n",
    "        \n",
    "\n",
    "        #####################################################\n",
    "        # Step 1: Find the maximum length of all rows\n",
    "        # max_len = max([len(row) for row in preprocessed_data])\n",
    "\n",
    "        # Step 2: Pad the rows with length less than the maximum length with zeros\n",
    "        # padded_data = np.zeros((len(preprocessed_data), max_len))\n",
    "        padded_data = []\n",
    "        for i, row in enumerate(preprocessed_data):\n",
    "        #     padded_data[i, :len(row)] = row\n",
    "            # Create energy histograms for both sets of PDB files\n",
    "            pdb1_hist, _ = np.histogram(row, bins=num_bins)\n",
    "            # Normalize the histograms to get probabilities\n",
    "            padded_data.append(pdb1_hist / len(row))\n",
    "\n",
    "        full_final_vals = np.array(padded_data)\n",
    "        print(np.array(padded_data).shape)\n",
    "\n",
    "\n",
    "        #####################################################\n",
    "        # Step 1: Find the maximum length of all rows\n",
    "        # max_len = max([len(row) for row in energy_preprocessed_data])\n",
    "\n",
    "        # Step 2: Pad the rows with length less than the maximum length with zeros\n",
    "        # padded_data = np.zeros((len(energy_preprocessed_data), max_len))\n",
    "        padded_data = []\n",
    "        for i, row in enumerate(energy_preprocessed_data):\n",
    "        #     padded_data[i, :len(row)] = row\n",
    "            # Create energy histograms for both sets of PDB files\n",
    "            pdb1_hist, _ = np.histogram(row, bins=num_bins)\n",
    "            # Normalize the histograms to get probabilities\n",
    "            padded_data.append(pdb1_hist / len(row))\n",
    "\n",
    "        energy_final_vals = np.array(padded_data)\n",
    "        print(\"Energy values > threshold: \",np.array(padded_data).shape)\n",
    "\n",
    "        #####################################################\n",
    "        # Step 1: Find the maximum length of all rows\n",
    "        # max_len = max([len(row) for row in L_energy_preprocessed_data])\n",
    "\n",
    "        # Step 2: Pad the rows with length less than the maximum length with zeros\n",
    "        # padded_data = np.zeros((len(L_energy_preprocessed_data), max_len))\n",
    "        padded_data = []\n",
    "        for i, row in enumerate(L_energy_preprocessed_data):\n",
    "        #     padded_data[i, :len(row)] = row\n",
    "            # Create energy histograms for both sets of PDB files\n",
    "            pdb1_hist, _ = np.histogram(row, bins=num_bins)\n",
    "            # Normalize the histograms to get probabilities\n",
    "            padded_data.append(pdb1_hist / len(row))\n",
    "\n",
    "        L_energy_final_vals = np.array(padded_data)\n",
    "        print(\"L Energy Values: \",np.array(padded_data).shape)\n",
    "\n",
    "        #####################################################\n",
    "\n",
    "        ###################### All Energy ###############################\n",
    "        # Step 1: Find the maximum length of all rows\n",
    "        # max_len = max([len(row) for row in all_energy_preprocessed_data])\n",
    "\n",
    "        # Step 2: Pad the rows with length less than the maximum length with zeros\n",
    "        # padded_data = np.zeros((len(all_energy_preprocessed_data), max_len))\n",
    "        padded_data = []\n",
    "        for i, row in enumerate(all_energy_preprocessed_data):\n",
    "        #     padded_data[i, :len(row)] = row\n",
    "            # Create energy histograms for both sets of PDB files\n",
    "            pdb1_hist, _ = np.histogram(row, bins=num_bins)\n",
    "            # Normalize the histograms to get probabilities\n",
    "            padded_data.append(pdb1_hist / len(row))\n",
    "\n",
    "        All_energy_final_vals = np.array(padded_data)\n",
    "        print(\"All Energy Values: \",np.array(padded_data).shape)\n",
    "\n",
    "        ###################### All Energy ###############################\n",
    "\n",
    "        ###################### Upper Threshold Energy ###############################\n",
    "        # Step 1: Find the maximum length of all rows\n",
    "        # max_len = max([len(row) for row in U_only_energy])\n",
    "\n",
    "        # Step 2: Pad the rows with length less than the maximum length with zeros\n",
    "        # padded_data = np.zeros((len(U_only_energy), max_len))\n",
    "        padded_data = []\n",
    "        for i, row in enumerate(U_only_energy):\n",
    "        #     padded_data[i, :len(row)] = row\n",
    "            # Create energy histograms for both sets of PDB files\n",
    "            pdb1_hist, _ = np.histogram(row, bins=num_bins)\n",
    "            # Normalize the histograms to get probabilities\n",
    "            padded_data.append(pdb1_hist / len(row))\n",
    "\n",
    "        U_energy_final_vals = np.array(padded_data)\n",
    "        print(\"Upper Threshold Energy Values: \",np.array(padded_data).shape)\n",
    "\n",
    "        ###################### Upper Threshold Energy ###############################\n",
    "\n",
    "\n",
    "        ###################### Lower Threshold Energy ###############################\n",
    "        padded_data = []\n",
    "        for i, row in enumerate(L_only_energy):\n",
    "        #     padded_data[i, :len(row)] = row\n",
    "            # Create energy histograms for both sets of PDB files\n",
    "            pdb1_hist, _ = np.histogram(row, bins=num_bins)\n",
    "            # Normalize the histograms to get probabilities\n",
    "            padded_data.append(pdb1_hist / len(row))\n",
    "\n",
    "        L_energy_final_vals = np.array(padded_data)\n",
    "        print(\"Lower Threshold Energy Values: \",np.array(padded_data).shape)\n",
    "\n",
    "        ###################### Lower Threshold Energy ###############################\n",
    "\n",
    "\n",
    "\n",
    "        # Step 1: Find the maximum length of all rows\n",
    "        # max_len = max([len(row) for row in rmsd_preprocessed_data])\n",
    "\n",
    "        # Step 2: Pad the rows with length less than the maximum length with zeros\n",
    "        # padded_data = np.zeros((len(rmsd_preprocessed_data), max_len))\n",
    "        padded_data = []\n",
    "        for i, row in enumerate(rmsd_preprocessed_data):\n",
    "        #     padded_data[i, :len(row)] = row\n",
    "            # Create energy histograms for both sets of PDB files\n",
    "            pdb1_hist, _ = np.histogram(row, bins=num_bins)\n",
    "            # Normalize the histograms to get probabilities\n",
    "            padded_data.append(pdb1_hist / len(row))\n",
    "\n",
    "        rmsd_final_vals = np.array(padded_data)\n",
    "        print(np.array(rmsd_final_vals).shape)\n",
    "\n",
    "        ######################################################\n",
    "        # Step 1: Find the maximum length of all rows\n",
    "        # max_len = max([len(row) for row in L_rmsd_preprocessed_data])\n",
    "\n",
    "        # Step 2: Pad the rows with length less than the maximum length with zeros\n",
    "        # padded_data = np.zeros((len(L_rmsd_preprocessed_data), max_len))\n",
    "        padded_data = []\n",
    "        for i, row in enumerate(L_rmsd_preprocessed_data):\n",
    "        #     padded_data[i, :len(row)] = row\n",
    "            # Create energy histograms for both sets of PDB files\n",
    "            pdb1_hist, _ = np.histogram(row, bins=num_bins)\n",
    "            # Normalize the histograms to get probabilities\n",
    "            padded_data.append(pdb1_hist / len(row))\n",
    "\n",
    "        L_rmsd_final_vals = np.array(padded_data)\n",
    "        print(np.array(L_rmsd_final_vals).shape)\n",
    "\n",
    "\n",
    "        ######################################################################################################\n",
    "        ###################### Upper Threshold RMSD ###############################\n",
    "        padded_data = []\n",
    "        for i, row in enumerate(U_only_rmsd):\n",
    "        #     padded_data[i, :len(row)] = row\n",
    "            # Create energy histograms for both sets of PDB files\n",
    "            pdb1_hist, _ = np.histogram(row, bins=num_bins)\n",
    "            # Normalize the histograms to get probabilities\n",
    "            padded_data.append(pdb1_hist / len(row))\n",
    "\n",
    "        U_rmsd_final_vals = np.array(padded_data)\n",
    "        print(\"Upper Threshold RMSD Values: \",np.array(padded_data).shape)\n",
    "\n",
    "        ###################### Upper Threshold RMSD ###############################\n",
    "\n",
    "\n",
    "        ###################### Lower Threshold RMSD ###############################\n",
    "        padded_data = []\n",
    "        for i, row in enumerate(L_only_rmsd):\n",
    "        #     padded_data[i, :len(row)] = row\n",
    "            # Create energy histograms for both sets of PDB files\n",
    "            pdb1_hist, _ = np.histogram(row, bins=num_bins)\n",
    "            # Normalize the histograms to get probabilities\n",
    "            padded_data.append(pdb1_hist / len(row))\n",
    "\n",
    "        L_rmsd_final_vals = np.array(padded_data)\n",
    "        print(\"Lower Threshold RMSD Values: \",np.array(padded_data).shape)\n",
    "\n",
    "        ###################### Lower Threshold RMSD ###############################\n",
    "\n",
    "\n",
    "    #     np.save(\"E:/RA/BC_Project/Data/Embeddings/Embeddings_For_L_Energy_\" + file_name_temp + \".npy\", L_energy_final_vals)\n",
    "    #     np.save(\"E:/RA/BC_Project/Data/Embeddings/Embeddings_For_U_Energy_\" + file_name_temp + \".npy\", U_energy_final_vals)\n",
    "\n",
    "    #     np.save(\"E:/RA/BC_Project/Data/Embeddings/Embeddings_For_L_RMSD_\" + file_name_temp + \".npy\", L_rmsd_final_vals)\n",
    "    #     np.save(\"E:/RA/BC_Project/Data/Embeddings/Embeddings_For_U_RMSD_\" + file_name_temp + \".npy\", U_rmsd_final_vals)\n",
    "\n",
    "        for tr in range(len(L_energy_final_vals)):\n",
    "            energy_lower_embedding.append(L_energy_final_vals[tr])\n",
    "\n",
    "        for tr in range(len(U_energy_final_vals)):\n",
    "            energy_upper_embedding.append(U_energy_final_vals[tr])\n",
    "\n",
    "\n",
    "        for tr in range(len(L_rmsd_final_vals)):\n",
    "            rmsd_lower_embedding.append(L_rmsd_final_vals[tr])\n",
    "\n",
    "        for tr in range(len(U_rmsd_final_vals)):\n",
    "            rmsd_upper_embedding.append(U_rmsd_final_vals[tr])\n",
    "\n",
    "\n",
    "\n",
    "        kd_values_attr = []\n",
    "\n",
    "        value_holder = kd_values[0]\n",
    "        for i in range(0,len(kd_values)):\n",
    "            if i==0:\n",
    "                kd_values_attr.append(kd_values[0])\n",
    "            else:\n",
    "                value_holder = value_holder + 1\n",
    "                kd_values_attr.append(value_holder)\n",
    "\n",
    "        print(kd_values_attr)\n",
    "\n",
    "    #     np.save(\"E:/RA/BC_Project/Data/Embeddings/Attributes_For_\" + file_name_temp + \".npy\", kd_values_attr)\n",
    "\n",
    "        final_attributes_values = []\n",
    "        for tr in range(len(kd_values_attr)):\n",
    "            final_attributes_values.append(kd_values_attr[tr])\n",
    "\n",
    "        #################################################################################################\n",
    "        # # data_to_be_split = L_energy_final_vals\n",
    "        # # data_to_be_split = U_energy_final_vals\n",
    "        # # data_to_be_split = L_rmsd_final_vals\n",
    "        # # data_to_be_split = U_rmsd_final_vals\n",
    "\n",
    "        \n",
    "        \n",
    "#         feat_data = L_energy_final_vals[:]\n",
    "    #     feat_data = U_energy_final_vals[:]\n",
    "\n",
    "    #     feat_data = L_rmsd_final_vals[:]\n",
    "    #     feat_data = U_rmsd_final_vals[:]\n",
    "    \n",
    "            \n",
    "        title_name = \"\"\n",
    "        value_checker = \"\"\n",
    "#         param_val = 2 # 1, 2, 3, 4\n",
    "        if param_val==1:\n",
    "            feat_data = L_energy_final_vals[:]\n",
    "            title_name = \"<\"\n",
    "            value_checker = \"Energy\"\n",
    "        elif param_val==2:\n",
    "            feat_data = U_energy_final_vals[:]\n",
    "            title_name = \">\"\n",
    "            value_checker = \"Energy\"\n",
    "        elif param_val==3:\n",
    "            feat_data = L_rmsd_final_vals[:]\n",
    "            title_name = \"<\"\n",
    "            value_checker = \"RMSD\"\n",
    "        elif param_val==4:\n",
    "            feat_data = U_rmsd_final_vals[:]\n",
    "            title_name = \">\"\n",
    "            value_checker = \"RMSD\"\n",
    "\n",
    "\n",
    "        kd_values = final_attributes_values[:]\n",
    "\n",
    "        value_holder = 0\n",
    "        for i in range(len(feat_data)):\n",
    "            for j in range(i,len(feat_data)):\n",
    "                if i!=j:\n",
    "                    \n",
    "                    if file_name_hold in train_index:\n",
    "#                         print(\"inside training set\")\n",
    "                        ########################### i, j (start) ############################################\n",
    "                        value_holder = value_holder + 1\n",
    "                        first_val = feat_data[i]\n",
    "                        second_val = feat_data[j]\n",
    "                        merge_row = np.concatenate((first_val,second_val))\n",
    "                        merged_feat_train.append(merge_row)\n",
    "\n",
    "                        ############### Binary KD values generation (start) ##############\n",
    "                        kd_val_tmp_1 = kd_values[i]\n",
    "                        kd_val_tmp_2 = kd_values[j]\n",
    "                        if kd_val_tmp_1 < kd_val_tmp_2:\n",
    "                            merged_kd_val_train.append(-1)\n",
    "                        else:\n",
    "                            merged_kd_val_train.append(+1)\n",
    "                        ############### Binary KD values generation (end) ##############\n",
    "\n",
    "                        ########################### i, j (end) ############################################\n",
    "\n",
    "                        ########################### j, i (start) ############################################\n",
    "                        value_holder = value_holder + 1\n",
    "                        first_val = feat_data[j]\n",
    "                        second_val = feat_data[i]\n",
    "                        merge_row = np.concatenate((first_val,second_val))\n",
    "                        merged_feat_train.append(merge_row)\n",
    "\n",
    "                        ############### Binary KD values generation (start) ##############\n",
    "                        kd_val_tmp_1 = kd_values[j]\n",
    "                        kd_val_tmp_2 = kd_values[i]\n",
    "                        if kd_val_tmp_1 < kd_val_tmp_2:\n",
    "                            merged_kd_val_train.append(-1)\n",
    "                        else:\n",
    "                            merged_kd_val_train.append(+1)\n",
    "                        ############### Binary KD values generation (end) ##############\n",
    "                        \n",
    "                    else:\n",
    "#                         print(\"inside testing set\")\n",
    "                        \n",
    "                        ########################### i, j (start) ############################################\n",
    "                        value_holder = value_holder + 1\n",
    "                        first_val = feat_data[i]\n",
    "                        second_val = feat_data[j]\n",
    "                        merge_row = np.concatenate((first_val,second_val))\n",
    "                        merged_feat_test.append(merge_row)\n",
    "\n",
    "                        ############### Binary KD values generation (start) ##############\n",
    "                        kd_val_tmp_1 = kd_values[i]\n",
    "                        kd_val_tmp_2 = kd_values[j]\n",
    "                        if kd_val_tmp_1 < kd_val_tmp_2:\n",
    "                            merged_kd_val_test.append(-1)\n",
    "                        else:\n",
    "                            merged_kd_val_test.append(+1)\n",
    "                        ############### Binary KD values generation (end) ##############\n",
    "\n",
    "                        ########################### i, j (end) ############################################\n",
    "\n",
    "                        ########################### j, i (start) ############################################\n",
    "                        value_holder = value_holder + 1\n",
    "                        first_val = feat_data[j]\n",
    "                        second_val = feat_data[i]\n",
    "                        merge_row = np.concatenate((first_val,second_val))\n",
    "                        merged_feat_test.append(merge_row)\n",
    "\n",
    "                        ############### Binary KD values generation (start) ##############\n",
    "                        kd_val_tmp_1 = kd_values[j]\n",
    "                        kd_val_tmp_2 = kd_values[i]\n",
    "                        if kd_val_tmp_1 < kd_val_tmp_2:\n",
    "                            merged_kd_val_test.append(-1)\n",
    "                        else:\n",
    "                            merged_kd_val_test.append(+1)\n",
    "                        ############### Binary KD values generation (end) ##############\n",
    "\n",
    "                        ########################### j, i (end) ############################################\n",
    "        print(\"Total Combinations for \",len(kd_values_attr),\" is: \",value_holder)\n",
    "        #################################################################################################\n",
    "\n",
    "\n",
    "    X_train = merged_feat_train[:]\n",
    "    X_test = merged_feat_test[:]\n",
    "    \n",
    "    y_train = merged_kd_val_train[:]\n",
    "    y_test = merged_kd_val_test[:]\n",
    "    \n",
    "    \n",
    "\n",
    "\n",
    "    start = timeit.default_timer()\n",
    "    gauu_nb_return = gaus_nb_fun(X_train,y_train,X_test,y_test)\n",
    "    stop = timeit.default_timer()\n",
    "    print(\"NB Time : \", stop - start) \n",
    "\n",
    "    start = timeit.default_timer()\n",
    "    mlp_return = mlp_fun(X_train,y_train,X_test,y_test)\n",
    "    stop = timeit.default_timer()\n",
    "    print(\"MLP Time : \", stop - start) \n",
    "\n",
    "    start = timeit.default_timer()\n",
    "    knn_return = knn_fun(X_train,y_train,X_test,y_test)\n",
    "    stop = timeit.default_timer()\n",
    "    print(\"KNN Time : \", stop - start) \n",
    "\n",
    "    start = timeit.default_timer()\n",
    "    rf_return = rf_fun(X_train,y_train,X_test,y_test)\n",
    "    stop = timeit.default_timer()\n",
    "    print(\"RF Time : \", stop - start) \n",
    "\n",
    "    start = timeit.default_timer()\n",
    "    lr_return,theta_val,intercept_val = lr_fun(X_train,y_train,X_test,y_test)\n",
    "    stop = timeit.default_timer()\n",
    "    lr_theta.append(theta_val)\n",
    "    lr_intercept.append(intercept_val)\n",
    "    print(\"LR Time : \", stop - start) \n",
    "\n",
    "    start = timeit.default_timer()\n",
    "    dt_return = fun_decision_tree(X_train,y_train,X_test,y_test)\n",
    "    stop = timeit.default_timer()\n",
    "    print(\"DT Time : \", stop - start) \n",
    "\n",
    "    start = timeit.default_timer()\n",
    "    svm_return = svm_fun(X_train,y_train,X_test,y_test)\n",
    "    stop = timeit.default_timer()\n",
    "    print(\"SVM Time : \", stop - start) \n",
    "\n",
    "    gauu_nb_table.append(gauu_nb_return)\n",
    "    mlp_table.append(mlp_return)\n",
    "    knn_table.append(knn_return)\n",
    "    rf_table.append(rf_return)\n",
    "    lr_table.append(lr_return)\n",
    "    dt_table.append(dt_return)\n",
    "    svm_table.append(svm_return)\n",
    "\n",
    "    svm_table_final = DataFrame(svm_table, columns=[\"Accuracy\",\"Precision\",\"Recall\",\n",
    "                                                    \"F1 (weighted)\",\"F1 (Macro)\",\"ROC AUC\",\"Runtime\"])\n",
    "    gauu_nb_table_final = DataFrame(gauu_nb_table, columns=[\"Accuracy\",\"Precision\",\"Recall\",\n",
    "                                                    \"F1 (weighted)\",\"F1 (Macro)\",\"ROC AUC\",\"Runtime\"])\n",
    "    mlp_table_final = DataFrame(mlp_table, columns=[\"Accuracy\",\"Precision\",\"Recall\",\n",
    "                                                    \"F1 (weighted)\",\"F1 (Macro)\",\"ROC AUC\",\"Runtime\"])\n",
    "    knn_table_final = DataFrame(knn_table, columns=[\"Accuracy\",\"Precision\",\"Recall\",\n",
    "                                                    \"F1 (weighted)\",\"F1 (Macro)\",\"ROC AUC\",\"Runtime\"])\n",
    "    rf_table_final = DataFrame(rf_table, columns=[\"Accuracy\",\"Precision\",\"Recall\",\n",
    "                                                    \"F1 (weighted)\",\"F1 (Macro)\",\"ROC AUC\",\"Runtime\"])\n",
    "    lr_table_final = DataFrame(lr_table, columns=[\"Accuracy\",\"Precision\",\"Recall\",\n",
    "                                                    \"F1 (weighted)\",\"F1 (Macro)\",\"ROC AUC\",\"Runtime\"])\n",
    "\n",
    "    dt_table_final = DataFrame(dt_table, columns=[\"Accuracy\",\"Precision\",\"Recall\",\n",
    "                                                    \"F1 (weighted)\",\"F1 (Macro)\",\"ROC AUC\",\"Runtime\"])\n",
    "\n",
    "    \n"
   ]
  },
  {
   "cell_type": "code",
   "execution_count": null,
   "id": "45325d90",
   "metadata": {},
   "outputs": [],
   "source": [
    "len(merged_feat_train) + len(merged_kd_val_test),len(merged_feat_train),len(merged_kd_val_test)"
   ]
  },
  {
   "cell_type": "code",
   "execution_count": null,
   "id": "c131395e",
   "metadata": {},
   "outputs": [],
   "source": [
    "# theta_val,\n",
    "\n",
    "# Calculate mean and standard deviation of theta coefficients for each feature\n",
    "mean_theta = np.mean(lr_theta, axis=0)\n",
    "std_theta = np.std(lr_theta, axis=0)\n",
    "\n",
    "# Plot theta values with error bars\n",
    "plt.errorbar(range(len(mean_theta[0])), mean_theta[0], yerr=std_theta[0], fmt='o')\n",
    "plt.xlabel('Feature Index')\n",
    "plt.ylabel('Theta Value')\n",
    "plt.title('Theta Values with Error Bars For ' + value_checker + ' Values ' + title_name + str(percentile_threshold) + \n",
    "          ' Percentile, Histogram Bins: '+ str(num_bins))\n",
    "plt.show()"
   ]
  },
  {
   "cell_type": "code",
   "execution_count": null,
   "id": "c3a01d0e",
   "metadata": {},
   "outputs": [],
   "source": [
    "#taking average of all k-fold performance values\n",
    "final_mean_mat = []\n",
    "\n",
    "final_mean_mat.append(np.transpose((list(svm_table_final.mean()))))\n",
    "final_mean_mat.append(np.transpose((list(gauu_nb_table_final.mean()))))\n",
    "final_mean_mat.append(np.transpose((list(mlp_table_final.mean()))))\n",
    "final_mean_mat.append(np.transpose((list(knn_table_final.mean()))))\n",
    "final_mean_mat.append(np.transpose((list(rf_table_final.mean()))))\n",
    "final_mean_mat.append(np.transpose((list(lr_table_final.mean()))))\n",
    "final_mean_mat.append(np.transpose((list(dt_table_final.mean()))))\n",
    "\n",
    "final_avg_mat = DataFrame(final_mean_mat,columns=[\"Accuracy\",\"Precision\",\"Recall\",\n",
    "                                                \"F1 (weighted)\",\"F1 (Macro)\",\"ROC AUC\",\"Runtime\"], \n",
    "                          index=[\"SVM\",\"NB\",\"MLP\",\"KNN\",\"RF\",\"LR\",\"DT\"])\n",
    "\n",
    "final_avg_mat"
   ]
  },
  {
   "cell_type": "code",
   "execution_count": null,
   "id": "7562c2fa",
   "metadata": {},
   "outputs": [],
   "source": [
    "#taking average of all k-fold performance values\n",
    "final_mean_mat = []\n",
    "\n",
    "final_mean_mat.append(np.transpose((list(svm_table_final.std()))))\n",
    "final_mean_mat.append(np.transpose((list(gauu_nb_table_final.std()))))\n",
    "final_mean_mat.append(np.transpose((list(mlp_table_final.std()))))\n",
    "final_mean_mat.append(np.transpose((list(knn_table_final.std()))))\n",
    "final_mean_mat.append(np.transpose((list(rf_table_final.std()))))\n",
    "final_mean_mat.append(np.transpose((list(lr_table_final.std()))))\n",
    "final_mean_mat.append(np.transpose((list(dt_table_final.std()))))\n",
    "\n",
    "final_avg_mat = DataFrame(final_mean_mat,columns=[\"Accuracy\",\"Precision\",\"Recall\",\n",
    "                                                \"F1 (weighted)\",\"F1 (Macro)\",\"ROC AUC\",\"Runtime\"], \n",
    "                          index=[\"SVM\",\"NB\",\"MLP\",\"KNN\",\"RF\",\"LR\",\"DT\"])\n",
    "\n",
    "final_avg_mat"
   ]
  },
  {
   "cell_type": "code",
   "execution_count": null,
   "id": "20aef86e",
   "metadata": {},
   "outputs": [],
   "source": []
  },
  {
   "cell_type": "code",
   "execution_count": null,
   "id": "d6044e33",
   "metadata": {},
   "outputs": [],
   "source": []
  },
  {
   "cell_type": "code",
   "execution_count": null,
   "id": "879ea076",
   "metadata": {},
   "outputs": [],
   "source": []
  }
 ],
 "metadata": {
  "kernelspec": {
   "display_name": "Python 3 (ipykernel)",
   "language": "python",
   "name": "python3"
  },
  "language_info": {
   "codemirror_mode": {
    "name": "ipython",
    "version": 3
   },
   "file_extension": ".py",
   "mimetype": "text/x-python",
   "name": "python",
   "nbconvert_exporter": "python",
   "pygments_lexer": "ipython3",
   "version": "3.8.16"
  }
 },
 "nbformat": 4,
 "nbformat_minor": 5
}
